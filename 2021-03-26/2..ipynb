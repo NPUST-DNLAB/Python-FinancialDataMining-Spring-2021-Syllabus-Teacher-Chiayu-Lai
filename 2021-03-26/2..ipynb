{
 "cells": [
  {
   "cell_type": "markdown",
   "metadata": {},
   "source": [
    "2."
   ]
  },
  {
   "cell_type": "code",
   "execution_count": 1,
   "metadata": {},
   "outputs": [],
   "source": [
    "import pandas as pd\n",
    "import numpy as np"
   ]
  },
  {
   "cell_type": "markdown",
   "metadata": {},
   "source": [
    "<font size=6>**head**</font>"
   ]
  },
  {
   "cell_type": "code",
   "execution_count": 2,
   "metadata": {},
   "outputs": [],
   "source": [
    "csv_data = pd.read_csv('hitstory.csv')"
   ]
  },
  {
   "cell_type": "code",
   "execution_count": 3,
   "metadata": {},
   "outputs": [
    {
     "data": {
      "text/html": [
       "<div>\n",
       "<style scoped>\n",
       "    .dataframe tbody tr th:only-of-type {\n",
       "        vertical-align: middle;\n",
       "    }\n",
       "\n",
       "    .dataframe tbody tr th {\n",
       "        vertical-align: top;\n",
       "    }\n",
       "\n",
       "    .dataframe thead th {\n",
       "        text-align: right;\n",
       "    }\n",
       "</style>\n",
       "<table border=\"1\" class=\"dataframe\">\n",
       "  <thead>\n",
       "    <tr style=\"text-align: right;\">\n",
       "      <th></th>\n",
       "      <th>Convertible.Arbitrage</th>\n",
       "      <th>CTA.Global</th>\n",
       "      <th>Distressed.Securities</th>\n",
       "      <th>Emerging.Markets</th>\n",
       "      <th>Equity.Market.Neutral</th>\n",
       "      <th>Event.Driven</th>\n",
       "      <th>Fixed.Income.Arbitrage</th>\n",
       "      <th>Global.Macro</th>\n",
       "      <th>Long.Short.Equity</th>\n",
       "      <th>Merger.Arbitrage</th>\n",
       "      <th>Relative.Value</th>\n",
       "      <th>Short.Selling</th>\n",
       "      <th>Date</th>\n",
       "    </tr>\n",
       "  </thead>\n",
       "  <tbody>\n",
       "    <tr>\n",
       "      <th>0</th>\n",
       "      <td>0.0119</td>\n",
       "      <td>0.0393</td>\n",
       "      <td>0.0178</td>\n",
       "      <td>0.0791</td>\n",
       "      <td>0.0189</td>\n",
       "      <td>0.0213</td>\n",
       "      <td>0.0191</td>\n",
       "      <td>0.0573</td>\n",
       "      <td>0.0281</td>\n",
       "      <td>0.0150</td>\n",
       "      <td>0.0180</td>\n",
       "      <td>-0.0166</td>\n",
       "      <td>1997-01-31</td>\n",
       "    </tr>\n",
       "    <tr>\n",
       "      <th>1</th>\n",
       "      <td>0.0123</td>\n",
       "      <td>0.0298</td>\n",
       "      <td>0.0122</td>\n",
       "      <td>0.0525</td>\n",
       "      <td>0.0101</td>\n",
       "      <td>0.0084</td>\n",
       "      <td>0.0122</td>\n",
       "      <td>0.0175</td>\n",
       "      <td>-0.0006</td>\n",
       "      <td>0.0034</td>\n",
       "      <td>0.0118</td>\n",
       "      <td>0.0426</td>\n",
       "      <td>1997-02-28</td>\n",
       "    </tr>\n",
       "    <tr>\n",
       "      <th>2</th>\n",
       "      <td>0.0078</td>\n",
       "      <td>-0.0021</td>\n",
       "      <td>-0.0012</td>\n",
       "      <td>-0.0120</td>\n",
       "      <td>0.0016</td>\n",
       "      <td>-0.0023</td>\n",
       "      <td>0.0109</td>\n",
       "      <td>-0.0119</td>\n",
       "      <td>-0.0084</td>\n",
       "      <td>0.0060</td>\n",
       "      <td>0.0010</td>\n",
       "      <td>0.0778</td>\n",
       "      <td>1997-03-31</td>\n",
       "    </tr>\n",
       "    <tr>\n",
       "      <th>3</th>\n",
       "      <td>0.0086</td>\n",
       "      <td>-0.0170</td>\n",
       "      <td>0.0030</td>\n",
       "      <td>0.0119</td>\n",
       "      <td>0.0119</td>\n",
       "      <td>-0.0005</td>\n",
       "      <td>0.0130</td>\n",
       "      <td>0.0172</td>\n",
       "      <td>0.0084</td>\n",
       "      <td>-0.0001</td>\n",
       "      <td>0.0122</td>\n",
       "      <td>-0.0129</td>\n",
       "      <td>1997-04-30</td>\n",
       "    </tr>\n",
       "    <tr>\n",
       "      <th>4</th>\n",
       "      <td>0.0156</td>\n",
       "      <td>-0.0015</td>\n",
       "      <td>0.0233</td>\n",
       "      <td>0.0315</td>\n",
       "      <td>0.0189</td>\n",
       "      <td>0.0346</td>\n",
       "      <td>0.0118</td>\n",
       "      <td>0.0108</td>\n",
       "      <td>0.0394</td>\n",
       "      <td>0.0197</td>\n",
       "      <td>0.0173</td>\n",
       "      <td>-0.0737</td>\n",
       "      <td>1997-05-31</td>\n",
       "    </tr>\n",
       "  </tbody>\n",
       "</table>\n",
       "</div>"
      ],
      "text/plain": [
       "   Convertible.Arbitrage  CTA.Global  Distressed.Securities  Emerging.Markets  \\\n",
       "0                 0.0119      0.0393                 0.0178            0.0791   \n",
       "1                 0.0123      0.0298                 0.0122            0.0525   \n",
       "2                 0.0078     -0.0021                -0.0012           -0.0120   \n",
       "3                 0.0086     -0.0170                 0.0030            0.0119   \n",
       "4                 0.0156     -0.0015                 0.0233            0.0315   \n",
       "\n",
       "   Equity.Market.Neutral  Event.Driven  Fixed.Income.Arbitrage  Global.Macro  \\\n",
       "0                 0.0189        0.0213                  0.0191        0.0573   \n",
       "1                 0.0101        0.0084                  0.0122        0.0175   \n",
       "2                 0.0016       -0.0023                  0.0109       -0.0119   \n",
       "3                 0.0119       -0.0005                  0.0130        0.0172   \n",
       "4                 0.0189        0.0346                  0.0118        0.0108   \n",
       "\n",
       "   Long.Short.Equity  Merger.Arbitrage  Relative.Value  Short.Selling  \\\n",
       "0             0.0281            0.0150          0.0180        -0.0166   \n",
       "1            -0.0006            0.0034          0.0118         0.0426   \n",
       "2            -0.0084            0.0060          0.0010         0.0778   \n",
       "3             0.0084           -0.0001          0.0122        -0.0129   \n",
       "4             0.0394            0.0197          0.0173        -0.0737   \n",
       "\n",
       "         Date  \n",
       "0  1997-01-31  \n",
       "1  1997-02-28  \n",
       "2  1997-03-31  \n",
       "3  1997-04-30  \n",
       "4  1997-05-31  "
      ]
     },
     "execution_count": 3,
     "metadata": {},
     "output_type": "execute_result"
    }
   ],
   "source": [
    "csv_data.head()"
   ]
  },
  {
   "cell_type": "markdown",
   "metadata": {},
   "source": [
    "<font size=6>**營利月份數**</font>"
   ]
  },
  {
   "cell_type": "code",
   "execution_count": 4,
   "metadata": {},
   "outputs": [
    {
     "name": "stdout",
     "output_type": "stream",
     "text": [
      "['營利年月：1997年01月', '營利年月：1997年02月', '營利年月：1997年04月', '營利年月：1997年05月', '營利年月：1997年06月', '營利年月：1997年07月', '營利年月：1997年09月', '營利年月：1997年12月', '營利年月：1998年02月', '營利年月：1998年03月', '營利年月：1998年04月', '營利年月：1998年07月', '營利年月：1998年10月', '營利年月：1998年11月', '營利年月：1999年02月', '營利年月：1999年03月', '營利年月：1999年04月', '營利年月：1999年05月', '營利年月：1999年06月', '營利年月：1999年10月', '營利年月：1999年11月', '營利年月：1999年12月', '營利年月：2000年01月', '營利年月：2000年02月', '營利年月：2000年03月', '營利年月：2000年06月', '營利年月：2000年07月', '營利年月：2000年08月', '營利年月：2000年12月', '營利年月：2001年01月', '營利年月：2001年04月', '營利年月：2001年05月', '營利年月：2001年06月', '營利年月：2001年08月', '營利年月：2001年10月', '營利年月：2001年11月', '營利年月：2001年12月', '營利年月：2002年01月', '營利年月：2002年02月', '營利年月：2002年03月', '營利年月：2002年04月', '營利年月：2002年05月', '營利年月：2002年08月', '營利年月：2002年10月', '營利年月：2002年11月', '營利年月：2002年12月', '營利年月：2003年01月', '營利年月：2003年02月', '營利年月：2003年03月', '營利年月：2003年04月', '營利年月：2003年05月', '營利年月：2003年06月', '營利年月：2003年07月', '營利年月：2003年08月', '營利年月：2003年09月', '營利年月：2003年10月', '營利年月：2003年11月', '營利年月：2003年12月', '營利年月：2004年01月', '營利年月：2004年02月', '營利年月：2004年03月', '營利年月：2004年06月', '營利年月：2004年08月', '營利年月：2004年09月', '營利年月：2004年10月', '營利年月：2004年11月', '營利年月：2004年12月', '營利年月：2005年01月', '營利年月：2005年02月', '營利年月：2005年05月', '營利年月：2005年06月', '營利年月：2005年07月', '營利年月：2005年08月', '營利年月：2005年09月', '營利年月：2005年11月', '營利年月：2005年12月', '營利年月：2006年01月', '營利年月：2006年02月', '營利年月：2006年03月', '營利年月：2006年04月', '營利年月：2006年07月', '營利年月：2006年08月', '營利年月：2006年09月', '營利年月：2006年10月', '營利年月：2006年11月', '營利年月：2006年12月', '營利年月：2007年01月', '營利年月：2007年02月', '營利年月：2007年03月', '營利年月：2007年04月', '營利年月：2007年05月', '營利年月：2007年06月', '營利年月：2007年07月', '營利年月：2007年09月', '營利年月：2007年10月', '營利年月：2007年12月', '營利年月：2008年02月', '營利年月：2008年04月', '營利年月：2008年05月', '營利年月：2009年03月', '營利年月：2009年04月', '營利年月：2009年05月', '營利年月：2009年06月', '營利年月：2009年07月', '營利年月：2009年08月']\n",
      "\n",
      "\n",
      "營利月份數:105個月\n"
     ]
    }
   ],
   "source": [
    "Profitablemonths = []\n",
    "sum = 0\n",
    "for i in range(len(csv_data['Emerging.Markets'])):\n",
    "    if(csv_data['Emerging.Markets'][i] > 0):\n",
    "        Profitablemonths.append('營利年月：'+csv_data['Date'][i].split('-')[0]+'年'+csv_data['Date'][i].split('-')[1]+'月')\n",
    "        sum +=1\n",
    "print(Profitablemonths)\n",
    "print('\\n\\n營利月份數:'+str(sum)+'個月')"
   ]
  },
  {
   "cell_type": "markdown",
   "metadata": {},
   "source": [
    "<font size=6>**虧損月份數**</font>"
   ]
  },
  {
   "cell_type": "code",
   "execution_count": 5,
   "metadata": {},
   "outputs": [
    {
     "name": "stdout",
     "output_type": "stream",
     "text": [
      "['虧損年月：1997年03月', '虧損年月：1997年08月', '虧損年月：1997年10月', '虧損年月：1997年11月', '虧損年月：1998年01月', '虧損年月：1998年05月', '虧損年月：1998年06月', '虧損年月：1998年08月', '虧損年月：1998年09月', '虧損年月：1998年12月', '虧損年月：1999年01月', '虧損年月：1999年07月', '虧損年月：1999年08月', '虧損年月：1999年09月', '虧損年月：2000年04月', '虧損年月：2000年05月', '虧損年月：2000年09月', '虧損年月：2000年10月', '虧損年月：2000年11月', '虧損年月：2001年02月', '虧損年月：2001年03月', '虧損年月：2001年07月', '虧損年月：2001年09月', '虧損年月：2002年06月', '虧損年月：2002年07月', '虧損年月：2002年09月', '虧損年月：2004年04月', '虧損年月：2004年05月', '虧損年月：2004年07月', '虧損年月：2005年03月', '虧損年月：2005年04月', '虧損年月：2005年10月', '虧損年月：2006年05月', '虧損年月：2006年06月', '虧損年月：2007年08月', '虧損年月：2007年11月', '虧損年月：2008年01月', '虧損年月：2008年03月', '虧損年月：2008年06月', '虧損年月：2008年07月', '虧損年月：2008年08月', '虧損年月：2008年09月', '虧損年月：2008年10月', '虧損年月：2008年11月', '虧損年月：2008年12月', '虧損年月：2009年01月', '虧損年月：2009年02月']\n",
      "\n",
      "\n",
      "虧損月份數:47個月\n"
     ]
    }
   ],
   "source": [
    "MonthsOfLoss = []\n",
    "sum = 0\n",
    "for i in range(len(csv_data['Emerging.Markets'])):\n",
    "    if(csv_data['Emerging.Markets'][i] < 0):\n",
    "        MonthsOfLoss.append('虧損年月：'+csv_data['Date'][i].split('-')[0]+'年'+csv_data['Date'][i].split('-')[1]+'月')\n",
    "        sum +=1\n",
    "print(MonthsOfLoss)\n",
    "print('\\n\\n虧損月份數:'+str(sum)+'個月')"
   ]
  },
  {
   "cell_type": "markdown",
   "metadata": {},
   "source": [
    "<font size=6>**營利月份概率**</font>"
   ]
  },
  {
   "cell_type": "code",
   "execution_count": 6,
   "metadata": {},
   "outputs": [
    {
     "name": "stdout",
     "output_type": "stream",
     "text": [
      "機率：0.5001782\n"
     ]
    }
   ],
   "source": [
    "BinomialDistribution = np.random.binomial(1,0.5,10000000)\n",
    "sum = 0\n",
    "for i in range (10000000):\n",
    "    if BinomialDistribution[i] ==1 :\n",
    "       sum +=1\n",
    "print('機率：'+str(sum/10000000))"
   ]
  },
  {
   "cell_type": "markdown",
   "metadata": {},
   "source": [
    "<font size=6>**2010營利6個月份概率**</font>"
   ]
  },
  {
   "cell_type": "code",
   "execution_count": 7,
   "metadata": {},
   "outputs": [
    {
     "name": "stdout",
     "output_type": "stream",
     "text": [
      "機率：0.6130189\n"
     ]
    }
   ],
   "source": [
    "BinomialDistribution = np.random.binomial(12,0.5,10000000)\n",
    "sum = 0\n",
    "for i in range (10000000):\n",
    "    if BinomialDistribution[i] >= 6 :\n",
    "       sum +=1\n",
    "print('機率：'+str(sum/10000000))"
   ]
  }
 ],
 "metadata": {
  "kernelspec": {
   "display_name": "Python 3",
   "language": "python",
   "name": "python3"
  },
  "language_info": {
   "codemirror_mode": {
    "name": "ipython",
    "version": 3
   },
   "file_extension": ".py",
   "mimetype": "text/x-python",
   "name": "python",
   "nbconvert_exporter": "python",
   "pygments_lexer": "ipython3",
   "version": "3.7.6"
  }
 },
 "nbformat": 4,
 "nbformat_minor": 4
}
