{
 "cells": [
  {
   "cell_type": "markdown",
   "metadata": {},
   "source": [
    "7."
   ]
  },
  {
   "cell_type": "code",
   "execution_count": 9,
   "metadata": {},
   "outputs": [],
   "source": [
    "import numpy as np"
   ]
  },
  {
   "cell_type": "code",
   "execution_count": 10,
   "metadata": {},
   "outputs": [],
   "source": [
    "dataMarkTwain = [0.225,0.262,0.217,0.240,0.230,0.229,0.235,0.217]\n",
    "dataSnodgrass = [0.209,0.205,0.196,0.210,0.202,0.207,0.224,0.223]"
   ]
  },
  {
   "cell_type": "code",
   "execution_count": 11,
   "metadata": {},
   "outputs": [
    {
     "name": "stdout",
     "output_type": "stream",
     "text": [
      "0.231875\n",
      "0.20950000000000002\n"
     ]
    }
   ],
   "source": [
    "print(np.mean(dataMarkTwain))\n",
    "print(np.mean(dataSnodgrass))"
   ]
  },
  {
   "cell_type": "code",
   "execution_count": 18,
   "metadata": {},
   "outputs": [
    {
     "name": "stdout",
     "output_type": "stream",
     "text": [
      "3.6170843653195446 0.0028018899619853565\n"
     ]
    }
   ],
   "source": [
    "import scipy.stats\n",
    "t, pval = scipy.stats.ttest_ind(dataMarkTwain,dataSnodgrass)\n",
    "print(t,pval)"
   ]
  },
  {
   "cell_type": "markdown",
   "metadata": {},
   "source": [
    "<font size=6>**p = 0.0028018899619853565 沒有顯著差異**</font>"
   ]
  }
 ],
 "metadata": {
  "kernelspec": {
   "display_name": "Python 3",
   "language": "python",
   "name": "python3"
  },
  "language_info": {
   "codemirror_mode": {
    "name": "ipython",
    "version": 3
   },
   "file_extension": ".py",
   "mimetype": "text/x-python",
   "name": "python",
   "nbconvert_exporter": "python",
   "pygments_lexer": "ipython3",
   "version": "3.7.6"
  }
 },
 "nbformat": 4,
 "nbformat_minor": 4
}
