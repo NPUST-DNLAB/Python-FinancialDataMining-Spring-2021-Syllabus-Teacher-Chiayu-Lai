{
 "cells": [
  {
   "cell_type": "markdown",
   "metadata": {},
   "source": [
    "18-3"
   ]
  },
  {
   "cell_type": "code",
   "execution_count": 1,
   "metadata": {},
   "outputs": [],
   "source": [
    "import pandas as pd\n",
    "import scipy.stats as stats\n",
    "import statsmodels.api as sm\n",
    "import matplotlib.pyplot as plt\n",
    "import numpy as np"
   ]
  },
  {
   "cell_type": "markdown",
   "metadata": {},
   "source": [
    "<font size=6>**head**</font>"
   ]
  },
  {
   "cell_type": "code",
   "execution_count": 2,
   "metadata": {},
   "outputs": [],
   "source": [
    "csv_data = pd.read_csv('EuStockMarkets.csv')"
   ]
  },
  {
   "cell_type": "markdown",
   "metadata": {},
   "source": []
  },
  {
   "cell_type": "code",
   "execution_count": 3,
   "metadata": {},
   "outputs": [
    {
     "data": {
      "text/html": [
       "<div>\n",
       "<style scoped>\n",
       "    .dataframe tbody tr th:only-of-type {\n",
       "        vertical-align: middle;\n",
       "    }\n",
       "\n",
       "    .dataframe tbody tr th {\n",
       "        vertical-align: top;\n",
       "    }\n",
       "\n",
       "    .dataframe thead th {\n",
       "        text-align: right;\n",
       "    }\n",
       "</style>\n",
       "<table border=\"1\" class=\"dataframe\">\n",
       "  <thead>\n",
       "    <tr style=\"text-align: right;\">\n",
       "      <th></th>\n",
       "      <th>DAX</th>\n",
       "      <th>SMI</th>\n",
       "      <th>CAC</th>\n",
       "      <th>FTSE</th>\n",
       "    </tr>\n",
       "  </thead>\n",
       "  <tbody>\n",
       "    <tr>\n",
       "      <td>0</td>\n",
       "      <td>1628.75</td>\n",
       "      <td>1678.1</td>\n",
       "      <td>1772.8</td>\n",
       "      <td>2443.6</td>\n",
       "    </tr>\n",
       "    <tr>\n",
       "      <td>1</td>\n",
       "      <td>1613.63</td>\n",
       "      <td>1688.5</td>\n",
       "      <td>1750.5</td>\n",
       "      <td>2460.2</td>\n",
       "    </tr>\n",
       "    <tr>\n",
       "      <td>2</td>\n",
       "      <td>1606.51</td>\n",
       "      <td>1678.6</td>\n",
       "      <td>1718.0</td>\n",
       "      <td>2448.2</td>\n",
       "    </tr>\n",
       "    <tr>\n",
       "      <td>3</td>\n",
       "      <td>1621.04</td>\n",
       "      <td>1684.1</td>\n",
       "      <td>1708.1</td>\n",
       "      <td>2470.4</td>\n",
       "    </tr>\n",
       "    <tr>\n",
       "      <td>4</td>\n",
       "      <td>1618.16</td>\n",
       "      <td>1686.6</td>\n",
       "      <td>1723.1</td>\n",
       "      <td>2484.7</td>\n",
       "    </tr>\n",
       "    <tr>\n",
       "      <td>...</td>\n",
       "      <td>...</td>\n",
       "      <td>...</td>\n",
       "      <td>...</td>\n",
       "      <td>...</td>\n",
       "    </tr>\n",
       "    <tr>\n",
       "      <td>1855</td>\n",
       "      <td>5460.43</td>\n",
       "      <td>7721.3</td>\n",
       "      <td>3939.5</td>\n",
       "      <td>5587.6</td>\n",
       "    </tr>\n",
       "    <tr>\n",
       "      <td>1856</td>\n",
       "      <td>5285.78</td>\n",
       "      <td>7447.9</td>\n",
       "      <td>3846.0</td>\n",
       "      <td>5432.8</td>\n",
       "    </tr>\n",
       "    <tr>\n",
       "      <td>1857</td>\n",
       "      <td>5386.94</td>\n",
       "      <td>7607.5</td>\n",
       "      <td>3945.7</td>\n",
       "      <td>5462.2</td>\n",
       "    </tr>\n",
       "    <tr>\n",
       "      <td>1858</td>\n",
       "      <td>5355.03</td>\n",
       "      <td>7552.6</td>\n",
       "      <td>3951.7</td>\n",
       "      <td>5399.5</td>\n",
       "    </tr>\n",
       "    <tr>\n",
       "      <td>1859</td>\n",
       "      <td>5473.72</td>\n",
       "      <td>7676.3</td>\n",
       "      <td>3995.0</td>\n",
       "      <td>5455.0</td>\n",
       "    </tr>\n",
       "  </tbody>\n",
       "</table>\n",
       "<p>1860 rows × 4 columns</p>\n",
       "</div>"
      ],
      "text/plain": [
       "          DAX     SMI     CAC    FTSE\n",
       "0     1628.75  1678.1  1772.8  2443.6\n",
       "1     1613.63  1688.5  1750.5  2460.2\n",
       "2     1606.51  1678.6  1718.0  2448.2\n",
       "3     1621.04  1684.1  1708.1  2470.4\n",
       "4     1618.16  1686.6  1723.1  2484.7\n",
       "...       ...     ...     ...     ...\n",
       "1855  5460.43  7721.3  3939.5  5587.6\n",
       "1856  5285.78  7447.9  3846.0  5432.8\n",
       "1857  5386.94  7607.5  3945.7  5462.2\n",
       "1858  5355.03  7552.6  3951.7  5399.5\n",
       "1859  5473.72  7676.3  3995.0  5455.0\n",
       "\n",
       "[1860 rows x 4 columns]"
      ]
     },
     "execution_count": 3,
     "metadata": {},
     "output_type": "execute_result"
    }
   ],
   "source": [
    "csv_data"
   ]
  },
  {
   "cell_type": "markdown",
   "metadata": {},
   "source": [
    "<font size=6>**德國DAX&英國FTSE**</font>\n",
    "\n",
    "<font size=3>**前提條件數據共有1860除以8年約為1860/8=232.5**</font>\n",
    "<br>\n",
    "<font size=3>**一年扣掉假日365-104(52個禮拜*2(六日兩天))=261天**</font>\n",
    "<br>\n",
    "<font size=3>**因此扣掉一些國定假日的前提下假設股市資料一年約為233筆()四捨五入**</font>\n",
    "<br>\n",
    "<font size=3>**假設數據第一筆是1991年1月1日，所以1996年1月1日就是**</font>\n",
    "<br>\n",
    "<font size=3>**1860-(233*5)筆資料=695筆**</font>"
   ]
  },
  {
   "cell_type": "code",
   "execution_count": 4,
   "metadata": {},
   "outputs": [
    {
     "name": "stdout",
     "output_type": "stream",
     "text": [
      "1164    2283.84\n",
      "1165    2240.24\n",
      "1166    2241.43\n",
      "1167    2268.07\n",
      "1168    2268.35\n",
      "         ...   \n",
      "1854    5598.32\n",
      "1855    5460.43\n",
      "1856    5285.78\n",
      "1857    5386.94\n",
      "1858    5355.03\n",
      "Name: DAX, Length: 695, dtype: float64\n",
      "1164    3642.6\n",
      "1165    3596.1\n",
      "1166    3576.9\n",
      "1167    3613.7\n",
      "1168    3633.3\n",
      "         ...  \n",
      "1854    5680.4\n",
      "1855    5587.6\n",
      "1856    5432.8\n",
      "1857    5462.2\n",
      "1858    5399.5\n",
      "Name: FTSE, Length: 695, dtype: float64\n"
     ]
    }
   ],
   "source": [
    "print(csv_data.DAX[1164:1859])\n",
    "print(csv_data.FTSE[1164:1859])"
   ]
  },
  {
   "cell_type": "markdown",
   "metadata": {},
   "source": [
    "<font size=6>**FTSE & DAX 回歸模型**</font>"
   ]
  },
  {
   "cell_type": "code",
   "execution_count": 5,
   "metadata": {
    "scrolled": true
   },
   "outputs": [
    {
     "name": "stderr",
     "output_type": "stream",
     "text": [
      "C:\\Users\\RONGF\\Anaconda3\\lib\\site-packages\\numpy\\core\\fromnumeric.py:2389: FutureWarning: Method .ptp is deprecated and will be removed in a future version. Use numpy.ptp instead.\n",
      "  return ptp(axis=axis, out=out, **kwargs)\n"
     ]
    }
   ],
   "source": [
    "model = sm.OLS(csv_data.FTSE[1164:1859],sm.add_constant(csv_data.DAX[1164:1859])).fit()"
   ]
  },
  {
   "cell_type": "markdown",
   "metadata": {},
   "source": [
    "<font size=6>**FTSE & DAX 回歸模型 summart()診斷圖**</font>"
   ]
  },
  {
   "cell_type": "code",
   "execution_count": 6,
   "metadata": {},
   "outputs": [
    {
     "name": "stdout",
     "output_type": "stream",
     "text": [
      "                            OLS Regression Results                            \n",
      "==============================================================================\n",
      "Dep. Variable:                   FTSE   R-squared:                       0.960\n",
      "Model:                            OLS   Adj. R-squared:                  0.960\n",
      "Method:                 Least Squares   F-statistic:                 1.651e+04\n",
      "Date:                Fri, 09 Apr 2021   Prob (F-statistic):               0.00\n",
      "Time:                        17:45:19   Log-Likelihood:                -4510.1\n",
      "No. Observations:                 695   AIC:                             9024.\n",
      "Df Residuals:                     693   BIC:                             9033.\n",
      "Df Model:                           1                                         \n",
      "Covariance Type:            nonrobust                                         \n",
      "==============================================================================\n",
      "                 coef    std err          t      P>|t|      [0.025      0.975]\n",
      "------------------------------------------------------------------------------\n",
      "const       2015.8432     21.020     95.902      0.000    1974.573    2057.113\n",
      "DAX            0.7172      0.006    128.490      0.000       0.706       0.728\n",
      "==============================================================================\n",
      "Omnibus:                        7.888   Durbin-Watson:                   0.034\n",
      "Prob(Omnibus):                  0.019   Jarque-Bera (JB):               11.487\n",
      "Skew:                           0.032   Prob(JB):                      0.00320\n",
      "Kurtosis:                       3.627   Cond. No.                     1.31e+04\n",
      "==============================================================================\n",
      "\n",
      "Warnings:\n",
      "[1] Standard Errors assume that the covariance matrix of the errors is correctly specified.\n",
      "[2] The condition number is large, 1.31e+04. This might indicate that there are\n",
      "strong multicollinearity or other numerical problems.\n"
     ]
    }
   ],
   "source": [
    "print(model.summary())"
   ]
  },
  {
   "cell_type": "markdown",
   "metadata": {},
   "source": [
    "<font size=6>**FTSE & DAX 回歸模型 擬合值**</font>"
   ]
  },
  {
   "cell_type": "code",
   "execution_count": 7,
   "metadata": {},
   "outputs": [
    {
     "name": "stdout",
     "output_type": "stream",
     "text": [
      "1164    3653.887709\n",
      "1165    3622.616368\n",
      "1166    3623.469875\n",
      "1167    3642.576951\n",
      "1168    3642.777776\n",
      "           ...     \n",
      "1854    6031.140767\n",
      "1855    5932.241566\n",
      "1856    5806.976895\n",
      "1857    5879.532143\n",
      "1858    5856.645251\n",
      "Length: 695, dtype: float64\n"
     ]
    }
   ],
   "source": [
    "print(model.fittedvalues)"
   ]
  },
  {
   "cell_type": "markdown",
   "metadata": {},
   "source": [
    "<font size=6>**FTSE & DAX 回歸模型 擬合值圖**</font>"
   ]
  },
  {
   "cell_type": "code",
   "execution_count": 8,
   "metadata": {},
   "outputs": [
    {
     "data": {
      "text/plain": [
       "Text(0, 0.5, '殘差')"
      ]
     },
     "execution_count": 8,
     "metadata": {},
     "output_type": "execute_result"
    },
    {
     "data": {
      "image/png": "[encoded data removed]",
      "text/plain": [
       "<Figure size 432x288 with 1 Axes>"
      ]
     },
     "metadata": {
      "needs_background": "light"
     },
     "output_type": "display_data"
    }
   ],
   "source": [
    "plt.scatter(model.fittedvalues,model.resid)\n",
    "plt.rcParams['font.sans-serif'] = ['Microsoft JhengHei'] #中文錯誤問題\n",
    "plt.rcParams['axes.unicode_minus'] = False\n",
    "plt.xlabel('擬合值')\n",
    "plt.ylabel('殘差')"
   ]
  },
  {
   "cell_type": "markdown",
   "metadata": {},
   "source": [
    "<font size=6>**FTSE & DAX 回歸模型 擬合值圖**</font>"
   ]
  },
  {
   "cell_type": "code",
   "execution_count": 9,
   "metadata": {},
   "outputs": [
    {
     "data": {
      "image/png": "[encoded data removed]",
      "text/plain": [
       "<Figure size 432x288 with 1 Axes>"
      ]
     },
     "execution_count": 9,
     "metadata": {},
     "output_type": "execute_result"
    },
    {
     "data": {
      "image/png": "[encoded data removed]",
      "text/plain": [
       "<Figure size 432x288 with 1 Axes>"
      ]
     },
     "metadata": {
      "needs_background": "light"
     },
     "output_type": "display_data"
    }
   ],
   "source": [
    "sm.qqplot(model.resid_pearson,stats.norm,line='45')"
   ]
  }
 ],
 "metadata": {
  "kernelspec": {
   "display_name": "Python 3",
   "language": "python",
   "name": "python3"
  },
  "language_info": {
   "codemirror_mode": {
    "name": "ipython",
    "version": 3
   },
   "file_extension": ".py",
   "mimetype": "text/x-python",
   "name": "python",
   "nbconvert_exporter": "python",
   "pygments_lexer": "ipython3",
   "version": "3.7.4"
  }
 },
 "nbformat": 4,
 "nbformat_minor": 2
}
