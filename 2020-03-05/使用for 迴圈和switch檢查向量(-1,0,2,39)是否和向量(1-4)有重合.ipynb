{
 "cells": [
  {
   "cell_type": "markdown",
   "metadata": {},
   "source": [
    "<font size=6>使用for 迴圈和switch檢查向量(-1,0,2,39)是否和向量(1:4)有重合</font>"
   ]
  },
  {
   "cell_type": "code",
   "execution_count": 1,
   "metadata": {},
   "outputs": [
    {
     "name": "stdout",
     "output_type": "stream",
     "text": [
      "-1 error\n",
      "0 error\n",
      "2 true\n",
      "39 error\n"
     ]
    }
   ],
   "source": [
    "list = -1,0,2,39\n",
    "\n",
    "def foo(list):\n",
    "    return {\n",
    "        1: 'true',\n",
    "        2: 'true',\n",
    "        3: 'true',\n",
    "        4: 'true',\n",
    "    }.get(list,'error')\n",
    "\n",
    "for i in range(len(list)):\n",
    "    print(list[i],foo(list[i]))"
   ]
  }
 ],
 "metadata": {
  "kernelspec": {
   "display_name": "Python 3",
   "language": "python",
   "name": "python3"
  },
  "language_info": {
   "codemirror_mode": {
    "name": "ipython",
    "version": 3
   },
   "file_extension": ".py",
   "mimetype": "text/x-python",
   "name": "python",
   "nbconvert_exporter": "python",
   "pygments_lexer": "ipython3",
   "version": "3.7.4"
  }
 },
 "nbformat": 4,
 "nbformat_minor": 2
}
