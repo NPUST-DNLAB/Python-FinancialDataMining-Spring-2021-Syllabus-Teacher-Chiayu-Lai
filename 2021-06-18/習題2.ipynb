{
 "cells": [
  {
   "cell_type": "code",
   "execution_count": 1,
   "id": "2a4cf816",
   "metadata": {},
   "outputs": [],
   "source": [
    "import pandas as pd\n",
    "import numpy as np\n",
    "import matplotlib.pyplot as plt\n",
    "%matplotlib inline\n",
    "plt.rcParams['font.sans-serif']=['Microsoft JhengHei']"
   ]
  },
  {
   "cell_type": "code",
   "execution_count": 2,
   "id": "92633108",
   "metadata": {},
   "outputs": [
    {
     "data": {
      "text/html": [
       "<div>\n",
       "<style scoped>\n",
       "    .dataframe tbody tr th:only-of-type {\n",
       "        vertical-align: middle;\n",
       "    }\n",
       "\n",
       "    .dataframe tbody tr th {\n",
       "        vertical-align: top;\n",
       "    }\n",
       "\n",
       "    .dataframe thead th {\n",
       "        text-align: right;\n",
       "    }\n",
       "</style>\n",
       "<table border=\"1\" class=\"dataframe\">\n",
       "  <thead>\n",
       "    <tr style=\"text-align: right;\">\n",
       "      <th></th>\n",
       "      <th>Open</th>\n",
       "      <th>High</th>\n",
       "      <th>Low</th>\n",
       "      <th>Close</th>\n",
       "      <th>Volume</th>\n",
       "      <th>Adjusted</th>\n",
       "      <th>date</th>\n",
       "    </tr>\n",
       "    <tr>\n",
       "      <th>date</th>\n",
       "      <th></th>\n",
       "      <th></th>\n",
       "      <th></th>\n",
       "      <th></th>\n",
       "      <th></th>\n",
       "      <th></th>\n",
       "      <th></th>\n",
       "    </tr>\n",
       "  </thead>\n",
       "  <tbody>\n",
       "    <tr>\n",
       "      <th>2014-01-02</th>\n",
       "      <td>1845.859985</td>\n",
       "      <td>1845.859985</td>\n",
       "      <td>1827.739990</td>\n",
       "      <td>1831.979980</td>\n",
       "      <td>3.080600e+09</td>\n",
       "      <td>1831.979980</td>\n",
       "      <td>2014-01-02</td>\n",
       "    </tr>\n",
       "    <tr>\n",
       "      <th>2014-01-03</th>\n",
       "      <td>1833.209961</td>\n",
       "      <td>1838.239990</td>\n",
       "      <td>1829.130005</td>\n",
       "      <td>1831.369995</td>\n",
       "      <td>2.774270e+09</td>\n",
       "      <td>1831.369995</td>\n",
       "      <td>2014-01-03</td>\n",
       "    </tr>\n",
       "    <tr>\n",
       "      <th>2014-01-06</th>\n",
       "      <td>1832.310059</td>\n",
       "      <td>1837.160034</td>\n",
       "      <td>1823.729980</td>\n",
       "      <td>1826.770020</td>\n",
       "      <td>3.294850e+09</td>\n",
       "      <td>1826.770020</td>\n",
       "      <td>2014-01-06</td>\n",
       "    </tr>\n",
       "    <tr>\n",
       "      <th>2014-01-07</th>\n",
       "      <td>1828.709961</td>\n",
       "      <td>1840.099976</td>\n",
       "      <td>1828.709961</td>\n",
       "      <td>1837.880005</td>\n",
       "      <td>3.511750e+09</td>\n",
       "      <td>1837.880005</td>\n",
       "      <td>2014-01-07</td>\n",
       "    </tr>\n",
       "    <tr>\n",
       "      <th>2014-01-08</th>\n",
       "      <td>1837.900024</td>\n",
       "      <td>1840.020020</td>\n",
       "      <td>1831.400024</td>\n",
       "      <td>1837.489990</td>\n",
       "      <td>3.652140e+09</td>\n",
       "      <td>1837.489990</td>\n",
       "      <td>2014-01-08</td>\n",
       "    </tr>\n",
       "    <tr>\n",
       "      <th>...</th>\n",
       "      <td>...</td>\n",
       "      <td>...</td>\n",
       "      <td>...</td>\n",
       "      <td>...</td>\n",
       "      <td>...</td>\n",
       "      <td>...</td>\n",
       "      <td>...</td>\n",
       "    </tr>\n",
       "    <tr>\n",
       "      <th>2014-12-24</th>\n",
       "      <td>2083.250000</td>\n",
       "      <td>2087.560059</td>\n",
       "      <td>2081.860107</td>\n",
       "      <td>2081.879883</td>\n",
       "      <td>1.416980e+09</td>\n",
       "      <td>2081.879883</td>\n",
       "      <td>2014-12-24</td>\n",
       "    </tr>\n",
       "    <tr>\n",
       "      <th>2014-12-26</th>\n",
       "      <td>2084.300049</td>\n",
       "      <td>2092.699951</td>\n",
       "      <td>2084.300049</td>\n",
       "      <td>2088.770020</td>\n",
       "      <td>1.735230e+09</td>\n",
       "      <td>2088.770020</td>\n",
       "      <td>2014-12-26</td>\n",
       "    </tr>\n",
       "    <tr>\n",
       "      <th>2014-12-29</th>\n",
       "      <td>2087.629883</td>\n",
       "      <td>2093.550049</td>\n",
       "      <td>2085.750000</td>\n",
       "      <td>2090.570068</td>\n",
       "      <td>2.452360e+09</td>\n",
       "      <td>2090.570068</td>\n",
       "      <td>2014-12-29</td>\n",
       "    </tr>\n",
       "    <tr>\n",
       "      <th>2014-12-30</th>\n",
       "      <td>2088.489990</td>\n",
       "      <td>2088.489990</td>\n",
       "      <td>2079.530029</td>\n",
       "      <td>2080.350098</td>\n",
       "      <td>2.440280e+09</td>\n",
       "      <td>2080.350098</td>\n",
       "      <td>2014-12-30</td>\n",
       "    </tr>\n",
       "    <tr>\n",
       "      <th>2014-12-31</th>\n",
       "      <td>2082.110107</td>\n",
       "      <td>2085.580078</td>\n",
       "      <td>2057.939941</td>\n",
       "      <td>2058.899902</td>\n",
       "      <td>2.606070e+09</td>\n",
       "      <td>2058.899902</td>\n",
       "      <td>2014-12-31</td>\n",
       "    </tr>\n",
       "  </tbody>\n",
       "</table>\n",
       "<p>252 rows × 7 columns</p>\n",
       "</div>"
      ],
      "text/plain": [
       "                   Open         High          Low        Close        Volume  \\\n",
       "date                                                                           \n",
       "2014-01-02  1845.859985  1845.859985  1827.739990  1831.979980  3.080600e+09   \n",
       "2014-01-03  1833.209961  1838.239990  1829.130005  1831.369995  2.774270e+09   \n",
       "2014-01-06  1832.310059  1837.160034  1823.729980  1826.770020  3.294850e+09   \n",
       "2014-01-07  1828.709961  1840.099976  1828.709961  1837.880005  3.511750e+09   \n",
       "2014-01-08  1837.900024  1840.020020  1831.400024  1837.489990  3.652140e+09   \n",
       "...                 ...          ...          ...          ...           ...   \n",
       "2014-12-24  2083.250000  2087.560059  2081.860107  2081.879883  1.416980e+09   \n",
       "2014-12-26  2084.300049  2092.699951  2084.300049  2088.770020  1.735230e+09   \n",
       "2014-12-29  2087.629883  2093.550049  2085.750000  2090.570068  2.452360e+09   \n",
       "2014-12-30  2088.489990  2088.489990  2079.530029  2080.350098  2.440280e+09   \n",
       "2014-12-31  2082.110107  2085.580078  2057.939941  2058.899902  2.606070e+09   \n",
       "\n",
       "               Adjusted        date  \n",
       "date                                 \n",
       "2014-01-02  1831.979980  2014-01-02  \n",
       "2014-01-03  1831.369995  2014-01-03  \n",
       "2014-01-06  1826.770020  2014-01-06  \n",
       "2014-01-07  1837.880005  2014-01-07  \n",
       "2014-01-08  1837.489990  2014-01-08  \n",
       "...                 ...         ...  \n",
       "2014-12-24  2081.879883  2014-12-24  \n",
       "2014-12-26  2088.770020  2014-12-26  \n",
       "2014-12-29  2090.570068  2014-12-29  \n",
       "2014-12-30  2080.350098  2014-12-30  \n",
       "2014-12-31  2058.899902  2014-12-31  \n",
       "\n",
       "[252 rows x 7 columns]"
      ]
     },
     "execution_count": 2,
     "metadata": {},
     "output_type": "execute_result"
    }
   ],
   "source": [
    "GSPC=pd.read_csv('GSPC.csv')\n",
    "GSPC.index=pd.to_datetime(GSPC.date)\n",
    "GSPC"
   ]
  },
  {
   "cell_type": "code",
   "execution_count": 3,
   "id": "9324833b",
   "metadata": {},
   "outputs": [],
   "source": [
    "Close = GSPC.Close\n",
    "High = GSPC.High\n",
    "Low = GSPC.Low\n",
    "ndate=len(Close)"
   ]
  },
  {
   "cell_type": "code",
   "execution_count": 4,
   "id": "61793d69",
   "metadata": {},
   "outputs": [],
   "source": [
    "RSV=[]\n",
    "for j in range(8,ndate):\n",
    "    periodHigh=np.max(High[(j-8):(j+1)])\n",
    "    periodLow=np.min(Low[(j-8):(j+1)])\n",
    "    RSV.append(100*(Close[j]-periodLow)\\\n",
    "           /(periodHigh-periodLow))"
   ]
  },
  {
   "cell_type": "code",
   "execution_count": 5,
   "id": "12f10e51",
   "metadata": {},
   "outputs": [
    {
     "data": {
      "text/plain": [
       "count    244.000000\n",
       "mean      64.847982\n",
       "std       31.637507\n",
       "min        0.000000\n",
       "25%       40.213694\n",
       "50%       75.757163\n",
       "75%       92.299787\n",
       "max      100.000000\n",
       "Name: RSV, dtype: float64"
      ]
     },
     "execution_count": 5,
     "metadata": {},
     "output_type": "execute_result"
    }
   ],
   "source": [
    "RSV=pd.Series(RSV,index=Close.index[8:])\n",
    "RSV.name='RSV'\n",
    "RSV.head()\n",
    "RSV.describe()"
   ]
  },
  {
   "cell_type": "code",
   "execution_count": 6,
   "id": "c9bf9105",
   "metadata": {},
   "outputs": [
    {
     "data": {
      "text/plain": [
       "array([<AxesSubplot:xlabel='date'>, <AxesSubplot:xlabel='date'>],\n",
       "      dtype=object)"
      ]
     },
     "execution_count": 6,
     "metadata": {},
     "output_type": "execute_result"
    },
    {
     "data": {
      "image/png": "[encoded data removed]",
      "text/plain": [
       "<Figure size 432x288 with 2 Axes>"
      ]
     },
     "metadata": {
      "needs_background": "light"
     },
     "output_type": "display_data"
    }
   ],
   "source": [
    "Close1=Close['2014']\n",
    "RSV1=RSV['2014']\n",
    "Cl_RSV=pd.DataFrame([Close1,RSV1]).transpose()\n",
    "from matplotlib.font_manager import FontProperties\n",
    "Cl_RSV.plot(subplots=True,\n",
    "             title='未成熟隨機指標RSV')"
   ]
  },
  {
   "cell_type": "code",
   "execution_count": 7,
   "id": "521688fc",
   "metadata": {},
   "outputs": [],
   "source": [
    "K=[50]\n",
    "D=[50]\n",
    "\n",
    "for i in range(len(RSV)):\n",
    "    KValue = (2/3)*K[-1] + (RSV[i]/3)\n",
    "    DValue = (2/3)*D[-1] + KValue/3\n",
    "    K.append(KValue)\n",
    "    D.append(DValue)"
   ]
  },
  {
   "cell_type": "code",
   "execution_count": 8,
   "id": "018c0882",
   "metadata": {},
   "outputs": [
    {
     "data": {
      "text/plain": [
       "date\n",
       "2014-01-14    58.998036\n",
       "2014-01-15    70.343759\n",
       "2014-01-16    75.557638\n",
       "2014-01-17    72.247907\n",
       "2014-01-21    74.854656\n",
       "Name: KValue, dtype: float64"
      ]
     },
     "execution_count": 8,
     "metadata": {},
     "output_type": "execute_result"
    }
   ],
   "source": [
    "K=pd.Series(K[1:],index=RSV.index)\n",
    "K.name='KValue'\n",
    "K.head()"
   ]
  },
  {
   "cell_type": "code",
   "execution_count": 9,
   "id": "3c81e2f9",
   "metadata": {},
   "outputs": [
    {
     "data": {
      "text/plain": [
       "date\n",
       "2014-01-14    52.999345\n",
       "2014-01-15    58.780817\n",
       "2014-01-16    64.373090\n",
       "2014-01-17    66.998029\n",
       "2014-01-21    69.616905\n",
       "Name: DValue, dtype: float64"
      ]
     },
     "execution_count": 9,
     "metadata": {},
     "output_type": "execute_result"
    }
   ],
   "source": [
    "D=pd.Series(D[1:],index=RSV.index)\n",
    "D.name='DValue'\n",
    "D.head()"
   ]
  },
  {
   "cell_type": "code",
   "execution_count": 10,
   "id": "e61f9427",
   "metadata": {},
   "outputs": [
    {
     "data": {
      "text/plain": [
       "date\n",
       "2014-01-14    70.995416\n",
       "2014-01-15    93.469645\n",
       "2014-01-16    97.926733\n",
       "2014-01-17    82.747662\n",
       "2014-01-21    85.330158\n",
       "Name: JValue, dtype: float64"
      ]
     },
     "execution_count": 10,
     "metadata": {},
     "output_type": "execute_result"
    }
   ],
   "source": [
    "J=3*K-2*D\n",
    "J.name='JValue'\n",
    "J.head()"
   ]
  },
  {
   "cell_type": "code",
   "execution_count": 11,
   "id": "9a8ff019",
   "metadata": {},
   "outputs": [
    {
     "name": "stderr",
     "output_type": "stream",
     "text": [
      "No handles with labels found to put in legend.\n"
     ]
    },
    {
     "data": {
      "text/plain": [
       "<matplotlib.legend.Legend at 0x1dbf8eb3220>"
      ]
     },
     "execution_count": 11,
     "metadata": {},
     "output_type": "execute_result"
    },
    {
     "data": {
      "image/png": "[encoded data removed]",
      "text/plain": [
       "<Figure size 432x288 with 2 Axes>"
      ]
     },
     "metadata": {
      "needs_background": "light"
     },
     "output_type": "display_data"
    }
   ],
   "source": [
    "plt.subplot(211)\n",
    "plt.title('2014年GSPC')\n",
    "plt.plot(Close['2014'])\n",
    "plt.subplot(212)\n",
    "plt.title('2014年GSPC的RSV&KDJ')\n",
    "plt.plot(RSV['2014'])\n",
    "plt.plot(K['2014'],linestyle='dashed')\n",
    "plt.plot(D['2014'],linestyle='-.')\n",
    "plt.plot(J['2014'],linestyle='--')\n",
    "plt.legend(loc='upper left') "
   ]
  },
  {
   "cell_type": "code",
   "execution_count": 12,
   "id": "18d9d6b7",
   "metadata": {},
   "outputs": [],
   "source": [
    "KSignal=K.apply(lambda x:\\\n",
    "                    -1 if x>80 else 1 if x<20 else 0)\n",
    "\n",
    "DSignal=D.apply(lambda x: \\\n",
    "                 -1 if x>80 else 1 if x<20 else 0)\n",
    "KDSignal=KSignal+DSignal\n",
    "KDSignal.name='KDSignal'"
   ]
  },
  {
   "cell_type": "code",
   "execution_count": 13,
   "id": "ab6658ef",
   "metadata": {},
   "outputs": [
    {
     "data": {
      "text/plain": [
       "date\n",
       "2014-01-14    0\n",
       "2014-01-15    0\n",
       "2014-01-16    0\n",
       "Name: KDSignal, dtype: int64"
      ]
     },
     "execution_count": 13,
     "metadata": {},
     "output_type": "execute_result"
    }
   ],
   "source": [
    "KDSignal[KDSignal>=1]=1\n",
    "KDSignal[KDSignal<=-1]=-1\n",
    "KDSignal.head(n=3)"
   ]
  },
  {
   "cell_type": "code",
   "execution_count": 14,
   "id": "4d3286c6",
   "metadata": {},
   "outputs": [
    {
     "data": {
      "text/plain": [
       "date\n",
       "2014-02-03    1\n",
       "2014-02-04    1\n",
       "2014-02-05    1\n",
       "Name: KDSignal, dtype: int64"
      ]
     },
     "execution_count": 14,
     "metadata": {},
     "output_type": "execute_result"
    }
   ],
   "source": [
    "KDSignal[KDSignal==1].head(n=3)\n"
   ]
  },
  {
   "cell_type": "code",
   "execution_count": 15,
   "id": "71854924",
   "metadata": {},
   "outputs": [],
   "source": [
    "def trade(signal,price):\n",
    "    ret=(price-price.shift(1))/price.shift(1)\n",
    "    ret.name='ret'\n",
    "    signal=signal.shift(1)\n",
    "    tradeRet=(ret*signal).dropna()\n",
    "    tradeRet.name='tradeRet'\n",
    "    tradeRet[tradeRet==-0]=0\n",
    "    Returns=pd.merge(pd.DataFrame(ret),\\\n",
    "                     pd.DataFrame(tradeRet),\n",
    "                     left_index=True,\\\n",
    "                     right_index=True).dropna()\n",
    "    return(Returns)\n"
   ]
  },
  {
   "cell_type": "code",
   "execution_count": 16,
   "id": "6d7b43c5",
   "metadata": {},
   "outputs": [
    {
     "data": {
      "text/html": [
       "<div>\n",
       "<style scoped>\n",
       "    .dataframe tbody tr th:only-of-type {\n",
       "        vertical-align: middle;\n",
       "    }\n",
       "\n",
       "    .dataframe tbody tr th {\n",
       "        vertical-align: top;\n",
       "    }\n",
       "\n",
       "    .dataframe thead th {\n",
       "        text-align: right;\n",
       "    }\n",
       "</style>\n",
       "<table border=\"1\" class=\"dataframe\">\n",
       "  <thead>\n",
       "    <tr style=\"text-align: right;\">\n",
       "      <th></th>\n",
       "      <th>Ret</th>\n",
       "      <th>KDtradeRet</th>\n",
       "    </tr>\n",
       "    <tr>\n",
       "      <th>date</th>\n",
       "      <th></th>\n",
       "      <th></th>\n",
       "    </tr>\n",
       "  </thead>\n",
       "  <tbody>\n",
       "    <tr>\n",
       "      <th>2014-01-15</th>\n",
       "      <td>0.005166</td>\n",
       "      <td>0.0</td>\n",
       "    </tr>\n",
       "    <tr>\n",
       "      <th>2014-01-16</th>\n",
       "      <td>-0.001347</td>\n",
       "      <td>0.0</td>\n",
       "    </tr>\n",
       "    <tr>\n",
       "      <th>2014-01-17</th>\n",
       "      <td>-0.003895</td>\n",
       "      <td>0.0</td>\n",
       "    </tr>\n",
       "    <tr>\n",
       "      <th>2014-01-21</th>\n",
       "      <td>0.002774</td>\n",
       "      <td>0.0</td>\n",
       "    </tr>\n",
       "    <tr>\n",
       "      <th>2014-01-22</th>\n",
       "      <td>0.000575</td>\n",
       "      <td>0.0</td>\n",
       "    </tr>\n",
       "  </tbody>\n",
       "</table>\n",
       "</div>"
      ],
      "text/plain": [
       "                 Ret  KDtradeRet\n",
       "date                            \n",
       "2014-01-15  0.005166         0.0\n",
       "2014-01-16 -0.001347         0.0\n",
       "2014-01-17 -0.003895         0.0\n",
       "2014-01-21  0.002774         0.0\n",
       "2014-01-22  0.000575         0.0"
      ]
     },
     "execution_count": 16,
     "metadata": {},
     "output_type": "execute_result"
    }
   ],
   "source": [
    "KDtrade=trade(KDSignal,Close)\n",
    "KDtrade.rename(columns={'ret':'Ret',\\\n",
    "              'tradeRet':'KDtradeRet'},\\\n",
    "               inplace=True)\n",
    "KDtrade.head()"
   ]
  },
  {
   "cell_type": "code",
   "execution_count": 17,
   "id": "97355e53",
   "metadata": {},
   "outputs": [],
   "source": [
    "import ffn"
   ]
  },
  {
   "cell_type": "code",
   "execution_count": 18,
   "id": "35e76fc0",
   "metadata": {},
   "outputs": [],
   "source": [
    "def backtest(ret,tradeRet):\n",
    "    def performance(x):\n",
    "        winpct=len(x[x>0])/len(x[x!=0])\n",
    "        annRet=(1+x).cumprod()[-1]**(245/len(x))-1\n",
    "        sharpe=ffn.calc_risk_return_ratio(x)\n",
    "        maxDD=ffn.calc_max_drawdown((1+x).cumprod())\n",
    "        perfo=pd.Series([winpct,annRet,sharpe,maxDD],\\\n",
    "        index=['win rate','annualized return',\\\n",
    "        'sharpe ratio','maximum drawdown'])\n",
    "        return(perfo)\n",
    "    BuyAndHold=performance(ret)\n",
    "    Trade=performance(tradeRet)\n",
    "    return(pd.DataFrame({ret.name:BuyAndHold,\\\n",
    "           tradeRet.name:Trade}))"
   ]
  },
  {
   "cell_type": "code",
   "execution_count": 19,
   "id": "5e12e9bc",
   "metadata": {},
   "outputs": [
    {
     "data": {
      "text/html": [
       "<div>\n",
       "<style scoped>\n",
       "    .dataframe tbody tr th:only-of-type {\n",
       "        vertical-align: middle;\n",
       "    }\n",
       "\n",
       "    .dataframe tbody tr th {\n",
       "        vertical-align: top;\n",
       "    }\n",
       "\n",
       "    .dataframe thead th {\n",
       "        text-align: right;\n",
       "    }\n",
       "</style>\n",
       "<table border=\"1\" class=\"dataframe\">\n",
       "  <thead>\n",
       "    <tr style=\"text-align: right;\">\n",
       "      <th></th>\n",
       "      <th>Ret</th>\n",
       "      <th>KDtradeRet</th>\n",
       "    </tr>\n",
       "  </thead>\n",
       "  <tbody>\n",
       "    <tr>\n",
       "      <th>win rate</th>\n",
       "      <td>0.576132</td>\n",
       "      <td>0.470588</td>\n",
       "    </tr>\n",
       "    <tr>\n",
       "      <th>annualized return</th>\n",
       "      <td>0.120691</td>\n",
       "      <td>0.017515</td>\n",
       "    </tr>\n",
       "    <tr>\n",
       "      <th>sharpe ratio</th>\n",
       "      <td>0.068388</td>\n",
       "      <td>0.021664</td>\n",
       "    </tr>\n",
       "    <tr>\n",
       "      <th>maximum drawdown</th>\n",
       "      <td>-0.074015</td>\n",
       "      <td>-0.063772</td>\n",
       "    </tr>\n",
       "  </tbody>\n",
       "</table>\n",
       "</div>"
      ],
      "text/plain": [
       "                        Ret  KDtradeRet\n",
       "win rate           0.576132    0.470588\n",
       "annualized return  0.120691    0.017515\n",
       "sharpe ratio       0.068388    0.021664\n",
       "maximum drawdown  -0.074015   -0.063772"
      ]
     },
     "execution_count": 19,
     "metadata": {},
     "output_type": "execute_result"
    }
   ],
   "source": [
    "backtest(KDtrade.Ret,KDtrade.KDtradeRet)"
   ]
  },
  {
   "cell_type": "code",
   "execution_count": 20,
   "id": "15742470",
   "metadata": {},
   "outputs": [
    {
     "data": {
      "image/png": "[encoded data removed]",
      "text/plain": [
       "<Figure size 432x288 with 1 Axes>"
      ]
     },
     "metadata": {
      "needs_background": "light"
     },
     "output_type": "display_data"
    }
   ],
   "source": [
    "cumRets1=(1+KDtrade).cumprod()\n",
    "plt.plot(cumRets1.Ret,label='Ret')\n",
    "plt.plot(cumRets1.KDtradeRet,'--',\\\n",
    "          label='KDtradeRet')\n",
    "plt.title('KD指標交易策略績效表現')\n",
    "plt.legend()\n",
    "from matplotlib.font_manager import FontProperties"
   ]
  },
  {
   "cell_type": "code",
   "execution_count": 21,
   "id": "5f049361",
   "metadata": {},
   "outputs": [],
   "source": [
    "JSignal=J.apply(lambda x:\\\n",
    "         -1 if x>100 else 1 if x<0 else 0)\n",
    "KDJSignal=KSignal+DSignal+JSignal\n",
    "KDJSignal=KDJSignal.apply(lambda x:\\\n",
    "          1 if x>=2 else -1 if x<=-2 else 0)"
   ]
  },
  {
   "cell_type": "code",
   "execution_count": 22,
   "id": "c4988885",
   "metadata": {},
   "outputs": [
    {
     "data": {
      "text/html": [
       "<div>\n",
       "<style scoped>\n",
       "    .dataframe tbody tr th:only-of-type {\n",
       "        vertical-align: middle;\n",
       "    }\n",
       "\n",
       "    .dataframe tbody tr th {\n",
       "        vertical-align: top;\n",
       "    }\n",
       "\n",
       "    .dataframe thead th {\n",
       "        text-align: right;\n",
       "    }\n",
       "</style>\n",
       "<table border=\"1\" class=\"dataframe\">\n",
       "  <thead>\n",
       "    <tr style=\"text-align: right;\">\n",
       "      <th></th>\n",
       "      <th>Ret</th>\n",
       "      <th>KDJtradeRet</th>\n",
       "    </tr>\n",
       "  </thead>\n",
       "  <tbody>\n",
       "    <tr>\n",
       "      <th>win rate</th>\n",
       "      <td>0.576132</td>\n",
       "      <td>0.500000</td>\n",
       "    </tr>\n",
       "    <tr>\n",
       "      <th>annualized return</th>\n",
       "      <td>0.120691</td>\n",
       "      <td>0.034513</td>\n",
       "    </tr>\n",
       "    <tr>\n",
       "      <th>sharpe ratio</th>\n",
       "      <td>0.068388</td>\n",
       "      <td>0.043026</td>\n",
       "    </tr>\n",
       "    <tr>\n",
       "      <th>maximum drawdown</th>\n",
       "      <td>-0.074015</td>\n",
       "      <td>-0.059033</td>\n",
       "    </tr>\n",
       "  </tbody>\n",
       "</table>\n",
       "</div>"
      ],
      "text/plain": [
       "                        Ret  KDJtradeRet\n",
       "win rate           0.576132     0.500000\n",
       "annualized return  0.120691     0.034513\n",
       "sharpe ratio       0.068388     0.043026\n",
       "maximum drawdown  -0.074015    -0.059033"
      ]
     },
     "execution_count": 22,
     "metadata": {},
     "output_type": "execute_result"
    }
   ],
   "source": [
    "KDJtrade=trade(KDJSignal,Close)\n",
    "KDJtrade.rename(columns={'ret':'Ret',\\\n",
    "             'tradeRet':'KDJtradeRet'},\\\n",
    "             inplace=True)\n",
    "\n",
    "backtest(KDJtrade.Ret,KDJtrade.KDJtradeRet)"
   ]
  },
  {
   "cell_type": "code",
   "execution_count": 23,
   "id": "7ff99c3c",
   "metadata": {},
   "outputs": [
    {
     "data": {
      "text/plain": [
       "<matplotlib.legend.Legend at 0x1db99ac79a0>"
      ]
     },
     "execution_count": 23,
     "metadata": {},
     "output_type": "execute_result"
    },
    {
     "data": {
      "image/png": "[encoded data removed]",
      "text/plain": [
       "<Figure size 432x288 with 1 Axes>"
      ]
     },
     "metadata": {
      "needs_background": "light"
     },
     "output_type": "display_data"
    }
   ],
   "source": [
    "KDJCumRet=(1+KDJtrade).cumprod()\n",
    "plt.plot(KDJCumRet.Ret,label='Ret')\n",
    "plt.plot(KDJCumRet.KDJtradeRet,'--',\\\n",
    "          label='KDJtradeRet')\n",
    "plt.title('KDJ指標交易策略績效表現')\n",
    "plt.legend(loc='upper left')"
   ]
  },
  {
   "cell_type": "code",
   "execution_count": 24,
   "id": "374f3f7e",
   "metadata": {},
   "outputs": [
    {
     "data": {
      "text/html": [
       "<div>\n",
       "<style scoped>\n",
       "    .dataframe tbody tr th:only-of-type {\n",
       "        vertical-align: middle;\n",
       "    }\n",
       "\n",
       "    .dataframe tbody tr th {\n",
       "        vertical-align: top;\n",
       "    }\n",
       "\n",
       "    .dataframe thead th {\n",
       "        text-align: right;\n",
       "    }\n",
       "</style>\n",
       "<table border=\"1\" class=\"dataframe\">\n",
       "  <thead>\n",
       "    <tr style=\"text-align: right;\">\n",
       "      <th></th>\n",
       "      <th>Ret</th>\n",
       "      <th>KDJtradeRet</th>\n",
       "    </tr>\n",
       "  </thead>\n",
       "  <tbody>\n",
       "    <tr>\n",
       "      <th>win rate</th>\n",
       "      <td>0.566845</td>\n",
       "      <td>0.537037</td>\n",
       "    </tr>\n",
       "    <tr>\n",
       "      <th>annualized return</th>\n",
       "      <td>0.048184</td>\n",
       "      <td>0.066724</td>\n",
       "    </tr>\n",
       "    <tr>\n",
       "      <th>sharpe ratio</th>\n",
       "      <td>0.031324</td>\n",
       "      <td>0.100208</td>\n",
       "    </tr>\n",
       "    <tr>\n",
       "      <th>maximum drawdown</th>\n",
       "      <td>-0.057613</td>\n",
       "      <td>-0.021362</td>\n",
       "    </tr>\n",
       "  </tbody>\n",
       "</table>\n",
       "</div>"
      ],
      "text/plain": [
       "                        Ret  KDJtradeRet\n",
       "win rate           0.566845     0.537037\n",
       "annualized return  0.048184     0.066724\n",
       "sharpe ratio       0.031324     0.100208\n",
       "maximum drawdown  -0.057613    -0.021362"
      ]
     },
     "execution_count": 24,
     "metadata": {},
     "output_type": "execute_result"
    }
   ],
   "source": [
    "backtest(KDJtrade.Ret[:'2014-10-10'],\\\n",
    "             KDJtrade.KDJtradeRet[:'2014-10-10'])"
   ]
  },
  {
   "cell_type": "code",
   "execution_count": 25,
   "id": "5d766c1c",
   "metadata": {},
   "outputs": [],
   "source": [
    "def upbreak(Line,RefLine):\n",
    "    signal=np.all([Line>RefLine,\\\n",
    "                   Line.shift(1)<RefLine.shift(1)],\\\n",
    "                   axis=0)\n",
    "    return(pd.Series(signal[1:],\\\n",
    "                     index=Line.index[1:]))"
   ]
  },
  {
   "cell_type": "code",
   "execution_count": 26,
   "id": "b9620a55",
   "metadata": {},
   "outputs": [
    {
     "data": {
      "text/plain": [
       "date\n",
       "2014-02-06    1\n",
       "2014-03-04    1\n",
       "2014-03-20    1\n",
       "2014-03-31    1\n",
       "2014-04-16    1\n",
       "dtype: int32"
      ]
     },
     "execution_count": 26,
     "metadata": {},
     "output_type": "execute_result"
    }
   ],
   "source": [
    "KDupbreak=upbreak(K,D)*1\n",
    "KDupbreak[KDupbreak==1].head()"
   ]
  },
  {
   "cell_type": "code",
   "execution_count": 27,
   "id": "4198149d",
   "metadata": {},
   "outputs": [],
   "source": [
    "def downbreak(Line,RefLine):\n",
    "    signal=np.all([Line<RefLine,\\\n",
    "                   Line.shift(1)>RefLine.shift(1)],\\\n",
    "                   axis=0)\n",
    "    return(pd.Series(signal[1:],\\\n",
    "           index=Line.index[1:]))"
   ]
  },
  {
   "cell_type": "code",
   "execution_count": 28,
   "id": "05085dd8",
   "metadata": {},
   "outputs": [
    {
     "data": {
      "text/plain": [
       "date\n",
       "2014-01-23    1\n",
       "2014-02-21    1\n",
       "2014-03-11    1\n",
       "2014-03-24    1\n",
       "2014-04-07    1\n",
       "dtype: int32"
      ]
     },
     "execution_count": 28,
     "metadata": {},
     "output_type": "execute_result"
    }
   ],
   "source": [
    "KDdownbreak=downbreak(K,D)*1\n",
    "KDdownbreak[KDdownbreak==1].head()"
   ]
  },
  {
   "cell_type": "code",
   "execution_count": 29,
   "id": "03cb9c52",
   "metadata": {},
   "outputs": [
    {
     "data": {
      "text/plain": [
       "date\n",
       "2014-01-03   -1\n",
       "2014-01-06   -1\n",
       "2014-01-07    1\n",
       "2014-01-08   -1\n",
       "2014-01-09    1\n",
       "Name: Close, dtype: int32"
      ]
     },
     "execution_count": 29,
     "metadata": {},
     "output_type": "execute_result"
    }
   ],
   "source": [
    "Close=Close['2014-01-01':]\n",
    "difClose=Close.diff()\n",
    "\n",
    "prctrend=2*(difClose[1:]>=0)-1\n",
    "prctrend.head()"
   ]
  },
  {
   "cell_type": "code",
   "execution_count": 30,
   "id": "1095e156",
   "metadata": {},
   "outputs": [
    {
     "data": {
      "text/plain": [
       "date\n",
       "2014-01-03    False\n",
       "2014-01-06    False\n",
       "2014-01-07    False\n",
       "dtype: bool"
      ]
     },
     "execution_count": 30,
     "metadata": {},
     "output_type": "execute_result"
    }
   ],
   "source": [
    "KDupSig=(KDupbreak[1:]+prctrend)==2\n",
    "KDupSig.head(n=3)"
   ]
  },
  {
   "cell_type": "code",
   "execution_count": 31,
   "id": "7c7a80d5",
   "metadata": {},
   "outputs": [
    {
     "data": {
      "text/plain": [
       "date\n",
       "2014-01-03    0\n",
       "2014-01-06    0\n",
       "2014-01-07    0\n",
       "2014-01-08    0\n",
       "2014-01-09    0\n",
       "Name: breakSig, dtype: int32"
      ]
     },
     "execution_count": 31,
     "metadata": {},
     "output_type": "execute_result"
    }
   ],
   "source": [
    "KDdownSig= (KDdownbreak[1:]==1)&(prctrend==-1) \n",
    "\n",
    "breakSig=KDupSig*1+KDdownSig*-1\n",
    "breakSig.name='breakSig'\n",
    "breakSig.head()"
   ]
  },
  {
   "cell_type": "code",
   "execution_count": 32,
   "id": "1e801b7f",
   "metadata": {},
   "outputs": [
    {
     "data": {
      "text/html": [
       "<div>\n",
       "<style scoped>\n",
       "    .dataframe tbody tr th:only-of-type {\n",
       "        vertical-align: middle;\n",
       "    }\n",
       "\n",
       "    .dataframe tbody tr th {\n",
       "        vertical-align: top;\n",
       "    }\n",
       "\n",
       "    .dataframe thead th {\n",
       "        text-align: right;\n",
       "    }\n",
       "</style>\n",
       "<table border=\"1\" class=\"dataframe\">\n",
       "  <thead>\n",
       "    <tr style=\"text-align: right;\">\n",
       "      <th></th>\n",
       "      <th>Ret</th>\n",
       "      <th>KDbreakRet</th>\n",
       "    </tr>\n",
       "    <tr>\n",
       "      <th>date</th>\n",
       "      <th></th>\n",
       "      <th></th>\n",
       "    </tr>\n",
       "  </thead>\n",
       "  <tbody>\n",
       "    <tr>\n",
       "      <th>2014-01-06</th>\n",
       "      <td>-0.002512</td>\n",
       "      <td>0.0</td>\n",
       "    </tr>\n",
       "    <tr>\n",
       "      <th>2014-01-07</th>\n",
       "      <td>0.006082</td>\n",
       "      <td>0.0</td>\n",
       "    </tr>\n",
       "    <tr>\n",
       "      <th>2014-01-08</th>\n",
       "      <td>-0.000212</td>\n",
       "      <td>0.0</td>\n",
       "    </tr>\n",
       "    <tr>\n",
       "      <th>2014-01-09</th>\n",
       "      <td>0.000348</td>\n",
       "      <td>0.0</td>\n",
       "    </tr>\n",
       "    <tr>\n",
       "      <th>2014-01-10</th>\n",
       "      <td>0.002307</td>\n",
       "      <td>0.0</td>\n",
       "    </tr>\n",
       "  </tbody>\n",
       "</table>\n",
       "</div>"
      ],
      "text/plain": [
       "                 Ret  KDbreakRet\n",
       "date                            \n",
       "2014-01-06 -0.002512         0.0\n",
       "2014-01-07  0.006082         0.0\n",
       "2014-01-08 -0.000212         0.0\n",
       "2014-01-09  0.000348         0.0\n",
       "2014-01-10  0.002307         0.0"
      ]
     },
     "execution_count": 32,
     "metadata": {},
     "output_type": "execute_result"
    }
   ],
   "source": [
    "KDbreak=trade(breakSig,Close)\n",
    "KDbreak.rename(columns={'ret':'Ret',\\\n",
    "              'tradeRet':'KDbreakRet'},\\\n",
    "              inplace=True)\n",
    "KDbreak.head()"
   ]
  },
  {
   "cell_type": "code",
   "execution_count": 33,
   "id": "93df1eac",
   "metadata": {},
   "outputs": [],
   "source": [
    "backtest(KDbreak.Ret,KDbreak.KDbreakRet)\n",
    "\n",
    "KDbreakRet=(1+KDbreak).cumprod()"
   ]
  },
  {
   "cell_type": "code",
   "execution_count": 34,
   "id": "90450f64",
   "metadata": {},
   "outputs": [
    {
     "data": {
      "image/png": "[encoded data removed]",
      "text/plain": [
       "<Figure size 432x288 with 1 Axes>"
      ]
     },
     "metadata": {
      "needs_background": "light"
     },
     "output_type": "display_data"
    }
   ],
   "source": [
    "plt.plot(KDbreakRet.Ret,label='Ret')\n",
    "plt.plot(KDbreakRet.KDbreakRet,'--',\\\n",
    "          label='KDbreakRet')\n",
    "plt.title('KD\"金叉\"與\"死叉\"交易策略績效表現')\n",
    "plt.legend(loc='upper left')\n",
    "from matplotlib.font_manager import FontProperties"
   ]
  }
 ],
 "metadata": {
  "kernelspec": {
   "display_name": "Python 3",
   "language": "python",
   "name": "python3"
  },
  "language_info": {
   "codemirror_mode": {
    "name": "ipython",
    "version": 3
   },
   "file_extension": ".py",
   "mimetype": "text/x-python",
   "name": "python",
   "nbconvert_exporter": "python",
   "pygments_lexer": "ipython3",
   "version": "3.8.10"
  }
 },
 "nbformat": 4,
 "nbformat_minor": 5
}
