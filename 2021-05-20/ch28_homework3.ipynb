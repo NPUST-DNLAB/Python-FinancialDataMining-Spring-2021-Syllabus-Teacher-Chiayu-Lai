{
 "cells": [
  {
   "cell_type": "code",
   "execution_count": 1,
   "id": "c1b57e0f",
   "metadata": {},
   "outputs": [
    {
     "name": "stderr",
     "output_type": "stream",
     "text": [
      "c:\\users\\eggs\\appdata\\local\\programs\\python\\python38\\lib\\site-packages\\mpl_finance.py:16: DeprecationWarning: \n",
      "\n",
      "  =================================================================\n",
      "\n",
      "   WARNING: `mpl_finance` is deprecated:\n",
      "\n",
      "    Please use `mplfinance` instead (no hyphen, no underscore).\n",
      "\n",
      "    To install: `pip install --upgrade mplfinance` \n",
      "\n",
      "   For more information, see: https://pypi.org/project/mplfinance/\n",
      "\n",
      "  =================================================================\n",
      "\n",
      "  __warnings.warn('\\n\\n  ================================================================='+\n"
     ]
    }
   ],
   "source": [
    "import pandas as pd\n",
    "import yfinance as yf\n",
    "import numpy as np\n",
    "import matplotlib.pyplot as plt\n",
    "from mpl_finance import candlestick_ochl\n",
    "from mpl_finance import  candlestick_ohlc\n",
    "from matplotlib.dates import DateFormatter, WeekdayLocator,\\\n",
    "    DayLocator, MONDAY\n",
    "from matplotlib.dates import date2num\n",
    "from datetime import datetime\n",
    "%matplotlib inline\n",
    "plt.rcParams['font.sans-serif'] = ['Microsoft JhengHei'] #中文錯誤問題"
   ]
  },
  {
   "cell_type": "code",
   "execution_count": 2,
   "id": "846d3a38",
   "metadata": {
    "scrolled": true
   },
   "outputs": [
    {
     "name": "stderr",
     "output_type": "stream",
     "text": [
      "<ipython-input-2-1b3964576dc2>:3: FutureWarning: Indexing a DataFrame with a datetimelike index using a single string to slice the rows, like `frame[string]`, is deprecated and will be removed in a future version. Use `frame.loc[string]` instead.\n",
      "  taiex201201 = taiex2012['2012-01']\n",
      "<ipython-input-2-1b3964576dc2>:4: FutureWarning: Indexing a DataFrame with a datetimelike index using a single string to slice the rows, like `frame[string]`, is deprecated and will be removed in a future version. Use `frame.loc[string]` instead.\n",
      "  taiex201202 = taiex2012['2012-02']\n",
      "<ipython-input-2-1b3964576dc2>:5: FutureWarning: Indexing a DataFrame with a datetimelike index using a single string to slice the rows, like `frame[string]`, is deprecated and will be removed in a future version. Use `frame.loc[string]` instead.\n",
      "  taiex201203 = taiex2012['2012-03']\n",
      "<ipython-input-2-1b3964576dc2>:6: FutureWarning: Indexing a DataFrame with a datetimelike index using a single string to slice the rows, like `frame[string]`, is deprecated and will be removed in a future version. Use `frame.loc[string]` instead.\n",
      "  taiex201204 = taiex2012['2012-04']\n",
      "<ipython-input-2-1b3964576dc2>:7: FutureWarning: Indexing a DataFrame with a datetimelike index using a single string to slice the rows, like `frame[string]`, is deprecated and will be removed in a future version. Use `frame.loc[string]` instead.\n",
      "  taiex201205 = taiex2012['2012-05']\n",
      "<ipython-input-2-1b3964576dc2>:8: FutureWarning: Indexing a DataFrame with a datetimelike index using a single string to slice the rows, like `frame[string]`, is deprecated and will be removed in a future version. Use `frame.loc[string]` instead.\n",
      "  taiex201206 = taiex2012['2012-06']\n",
      "<ipython-input-2-1b3964576dc2>:9: FutureWarning: Indexing a DataFrame with a datetimelike index using a single string to slice the rows, like `frame[string]`, is deprecated and will be removed in a future version. Use `frame.loc[string]` instead.\n",
      "  taiex201207 = taiex2012['2012-07']\n",
      "<ipython-input-2-1b3964576dc2>:10: FutureWarning: Indexing a DataFrame with a datetimelike index using a single string to slice the rows, like `frame[string]`, is deprecated and will be removed in a future version. Use `frame.loc[string]` instead.\n",
      "  taiex201208 = taiex2012['2012-08']\n",
      "<ipython-input-2-1b3964576dc2>:11: FutureWarning: Indexing a DataFrame with a datetimelike index using a single string to slice the rows, like `frame[string]`, is deprecated and will be removed in a future version. Use `frame.loc[string]` instead.\n",
      "  taiex201209 = taiex2012['2012-09']\n",
      "<ipython-input-2-1b3964576dc2>:12: FutureWarning: Indexing a DataFrame with a datetimelike index using a single string to slice the rows, like `frame[string]`, is deprecated and will be removed in a future version. Use `frame.loc[string]` instead.\n",
      "  taiex201210 = taiex2012['2012-10']\n",
      "<ipython-input-2-1b3964576dc2>:13: FutureWarning: Indexing a DataFrame with a datetimelike index using a single string to slice the rows, like `frame[string]`, is deprecated and will be removed in a future version. Use `frame.loc[string]` instead.\n",
      "  taiex201211 = taiex2012['2012-11']\n",
      "<ipython-input-2-1b3964576dc2>:14: FutureWarning: Indexing a DataFrame with a datetimelike index using a single string to slice the rows, like `frame[string]`, is deprecated and will be removed in a future version. Use `frame.loc[string]` instead.\n",
      "  taiex201212 = taiex2012['2012-12']\n"
     ]
    }
   ],
   "source": [
    "taiex2012 = pd.read_csv('taiex2012.csv')\n",
    "taiex2012.index = pd.to_datetime(taiex2012.Date)\n",
    "taiex201201 = taiex2012['2012-01'] \n",
    "taiex201202 = taiex2012['2012-02'] \n",
    "taiex201203 = taiex2012['2012-03'] \n",
    "taiex201204 = taiex2012['2012-04'] \n",
    "taiex201205 = taiex2012['2012-05'] \n",
    "taiex201206 = taiex2012['2012-06'] \n",
    "taiex201207 = taiex2012['2012-07'] \n",
    "taiex201208 = taiex2012['2012-08'] \n",
    "taiex201209 = taiex2012['2012-09'] \n",
    "taiex201210 = taiex2012['2012-10'] \n",
    "taiex201211 = taiex2012['2012-11'] \n",
    "taiex201212 = taiex2012['2012-12'] "
   ]
  },
  {
   "cell_type": "code",
   "execution_count": 3,
   "id": "a88b16e8",
   "metadata": {},
   "outputs": [
    {
     "name": "stderr",
     "output_type": "stream",
     "text": [
      "c:\\users\\eggs\\appdata\\local\\programs\\python\\python38\\lib\\site-packages\\pandas\\core\\generic.py:5494: SettingWithCopyWarning: \n",
      "A value is trying to be set on a copy of a slice from a DataFrame.\n",
      "Try using .loc[row_indexer,col_indexer] = value instead\n",
      "\n",
      "See the caveats in the documentation: https://pandas.pydata.org/pandas-docs/stable/user_guide/indexing.html#returning-a-view-versus-a-copy\n",
      "  self[name] = value\n"
     ]
    }
   ],
   "source": [
    "taiex2012.Date=[date2num(datetime.strptime(date,\"%Y/%m/%d\"))\\\n",
    "               for date in taiex2012.Date]\n",
    "\n",
    "taiex201201.Date = [date2num(datetime.strptime(date,\"%Y/%m/%d\"))\\\n",
    "               for date in taiex201201.Date]\n",
    "\n",
    "taiex201202.Date = [date2num(datetime.strptime(date,\"%Y/%m/%d\"))\\\n",
    "               for date in taiex201202.Date]\n",
    "\n",
    "taiex201203.Date = [date2num(datetime.strptime(date,\"%Y/%m/%d\"))\\\n",
    "               for date in taiex201203.Date]\n",
    "\n",
    "taiex201204.Date = [date2num(datetime.strptime(date,\"%Y/%m/%d\"))\\\n",
    "               for date in taiex201204.Date]\n",
    "\n",
    "taiex201205.Date = [date2num(datetime.strptime(date,\"%Y/%m/%d\"))\\\n",
    "               for date in taiex201205.Date]\n",
    "\n",
    "taiex201206.Date = [date2num(datetime.strptime(date,\"%Y/%m/%d\"))\\\n",
    "               for date in taiex201206.Date]\n",
    "\n",
    "taiex201207.Date = [date2num(datetime.strptime(date,\"%Y/%m/%d\"))\\\n",
    "               for date in taiex201207.Date]\n",
    "\n",
    "taiex201208.Date = [date2num(datetime.strptime(date,\"%Y/%m/%d\"))\\\n",
    "               for date in taiex201208.Date]\n",
    "\n",
    "taiex201209.Date = [date2num(datetime.strptime(date,\"%Y/%m/%d\"))\\\n",
    "               for date in taiex201209.Date]\n",
    "\n",
    "taiex201210.Date = [date2num(datetime.strptime(date,\"%Y/%m/%d\"))\\\n",
    "               for date in taiex201210.Date]\n",
    "\n",
    "taiex201211.Date = [date2num(datetime.strptime(date,\"%Y/%m/%d\"))\\\n",
    "               for date in taiex201211.Date]\n",
    "\n",
    "taiex201212.Date = [date2num(datetime.strptime(date,\"%Y/%m/%d\"))\\\n",
    "               for date in taiex201212.Date]\n"
   ]
  },
  {
   "cell_type": "code",
   "execution_count": 4,
   "id": "7541a95f",
   "metadata": {},
   "outputs": [
    {
     "data": {
      "text/html": [
       "<div>\n",
       "<style scoped>\n",
       "    .dataframe tbody tr th:only-of-type {\n",
       "        vertical-align: middle;\n",
       "    }\n",
       "\n",
       "    .dataframe tbody tr th {\n",
       "        vertical-align: top;\n",
       "    }\n",
       "\n",
       "    .dataframe thead th {\n",
       "        text-align: right;\n",
       "    }\n",
       "</style>\n",
       "<table border=\"1\" class=\"dataframe\">\n",
       "  <thead>\n",
       "    <tr style=\"text-align: right;\">\n",
       "      <th></th>\n",
       "      <th>Date</th>\n",
       "      <th>Open</th>\n",
       "      <th>High</th>\n",
       "      <th>Low</th>\n",
       "      <th>Close</th>\n",
       "      <th>Volume</th>\n",
       "    </tr>\n",
       "    <tr>\n",
       "      <th>Date</th>\n",
       "      <th></th>\n",
       "      <th></th>\n",
       "      <th></th>\n",
       "      <th></th>\n",
       "      <th></th>\n",
       "      <th></th>\n",
       "    </tr>\n",
       "  </thead>\n",
       "  <tbody>\n",
       "    <tr>\n",
       "      <th>2012-03-01</th>\n",
       "      <td>15400.0</td>\n",
       "      <td>8127.57</td>\n",
       "      <td>8151.70</td>\n",
       "      <td>8103.75</td>\n",
       "      <td>8118.34</td>\n",
       "      <td>4032373</td>\n",
       "    </tr>\n",
       "    <tr>\n",
       "      <th>2012-03-02</th>\n",
       "      <td>15401.0</td>\n",
       "      <td>8161.87</td>\n",
       "      <td>8170.72</td>\n",
       "      <td>8114.14</td>\n",
       "      <td>8144.04</td>\n",
       "      <td>4429674</td>\n",
       "    </tr>\n",
       "    <tr>\n",
       "      <th>2012-03-03</th>\n",
       "      <td>15402.0</td>\n",
       "      <td>8119.94</td>\n",
       "      <td>8134.94</td>\n",
       "      <td>8087.20</td>\n",
       "      <td>8114.44</td>\n",
       "      <td>3437220</td>\n",
       "    </tr>\n",
       "    <tr>\n",
       "      <th>2012-03-05</th>\n",
       "      <td>15404.0</td>\n",
       "      <td>8105.27</td>\n",
       "      <td>8115.49</td>\n",
       "      <td>7998.96</td>\n",
       "      <td>8004.74</td>\n",
       "      <td>4009491</td>\n",
       "    </tr>\n",
       "    <tr>\n",
       "      <th>2012-03-06</th>\n",
       "      <td>15405.0</td>\n",
       "      <td>8006.85</td>\n",
       "      <td>8028.02</td>\n",
       "      <td>7860.87</td>\n",
       "      <td>7937.97</td>\n",
       "      <td>4369742</td>\n",
       "    </tr>\n",
       "    <tr>\n",
       "      <th>2012-03-07</th>\n",
       "      <td>15406.0</td>\n",
       "      <td>7846.49</td>\n",
       "      <td>7937.11</td>\n",
       "      <td>7824.45</td>\n",
       "      <td>7903.08</td>\n",
       "      <td>3662536</td>\n",
       "    </tr>\n",
       "    <tr>\n",
       "      <th>2012-03-08</th>\n",
       "      <td>15407.0</td>\n",
       "      <td>7952.94</td>\n",
       "      <td>8000.93</td>\n",
       "      <td>7905.50</td>\n",
       "      <td>7984.56</td>\n",
       "      <td>3785528</td>\n",
       "    </tr>\n",
       "    <tr>\n",
       "      <th>2012-03-09</th>\n",
       "      <td>15408.0</td>\n",
       "      <td>8012.59</td>\n",
       "      <td>8027.08</td>\n",
       "      <td>7965.68</td>\n",
       "      <td>8016.01</td>\n",
       "      <td>3722467</td>\n",
       "    </tr>\n",
       "    <tr>\n",
       "      <th>2012-03-12</th>\n",
       "      <td>15411.0</td>\n",
       "      <td>8028.87</td>\n",
       "      <td>8028.87</td>\n",
       "      <td>7927.55</td>\n",
       "      <td>7927.55</td>\n",
       "      <td>3176525</td>\n",
       "    </tr>\n",
       "    <tr>\n",
       "      <th>2012-03-13</th>\n",
       "      <td>15412.0</td>\n",
       "      <td>7990.60</td>\n",
       "      <td>8045.61</td>\n",
       "      <td>7974.38</td>\n",
       "      <td>8031.51</td>\n",
       "      <td>3617552</td>\n",
       "    </tr>\n",
       "    <tr>\n",
       "      <th>2012-03-14</th>\n",
       "      <td>15413.0</td>\n",
       "      <td>8132.96</td>\n",
       "      <td>8170.31</td>\n",
       "      <td>8113.76</td>\n",
       "      <td>8125.26</td>\n",
       "      <td>4303980</td>\n",
       "    </tr>\n",
       "    <tr>\n",
       "      <th>2012-03-15</th>\n",
       "      <td>15414.0</td>\n",
       "      <td>8141.93</td>\n",
       "      <td>8142.98</td>\n",
       "      <td>8088.10</td>\n",
       "      <td>8121.62</td>\n",
       "      <td>3450339</td>\n",
       "    </tr>\n",
       "    <tr>\n",
       "      <th>2012-03-16</th>\n",
       "      <td>15415.0</td>\n",
       "      <td>8130.28</td>\n",
       "      <td>8130.52</td>\n",
       "      <td>8054.94</td>\n",
       "      <td>8054.94</td>\n",
       "      <td>3666705</td>\n",
       "    </tr>\n",
       "    <tr>\n",
       "      <th>2012-03-19</th>\n",
       "      <td>15418.0</td>\n",
       "      <td>8113.46</td>\n",
       "      <td>8123.15</td>\n",
       "      <td>7997.05</td>\n",
       "      <td>8043.92</td>\n",
       "      <td>2961464</td>\n",
       "    </tr>\n",
       "    <tr>\n",
       "      <th>2012-03-20</th>\n",
       "      <td>15419.0</td>\n",
       "      <td>8062.91</td>\n",
       "      <td>8062.91</td>\n",
       "      <td>7965.96</td>\n",
       "      <td>7972.70</td>\n",
       "      <td>2846949</td>\n",
       "    </tr>\n",
       "    <tr>\n",
       "      <th>2012-03-21</th>\n",
       "      <td>15420.0</td>\n",
       "      <td>7993.46</td>\n",
       "      <td>8013.67</td>\n",
       "      <td>7940.19</td>\n",
       "      <td>7981.94</td>\n",
       "      <td>3202170</td>\n",
       "    </tr>\n",
       "    <tr>\n",
       "      <th>2012-03-22</th>\n",
       "      <td>15421.0</td>\n",
       "      <td>7997.66</td>\n",
       "      <td>8075.97</td>\n",
       "      <td>7995.57</td>\n",
       "      <td>8059.94</td>\n",
       "      <td>3174305</td>\n",
       "    </tr>\n",
       "    <tr>\n",
       "      <th>2012-03-23</th>\n",
       "      <td>15422.0</td>\n",
       "      <td>8067.93</td>\n",
       "      <td>8076.61</td>\n",
       "      <td>8030.88</td>\n",
       "      <td>8076.61</td>\n",
       "      <td>2833264</td>\n",
       "    </tr>\n",
       "    <tr>\n",
       "      <th>2012-03-26</th>\n",
       "      <td>15425.0</td>\n",
       "      <td>8073.93</td>\n",
       "      <td>8073.93</td>\n",
       "      <td>7958.72</td>\n",
       "      <td>7967.62</td>\n",
       "      <td>3043554</td>\n",
       "    </tr>\n",
       "    <tr>\n",
       "      <th>2012-03-27</th>\n",
       "      <td>15426.0</td>\n",
       "      <td>8033.22</td>\n",
       "      <td>8033.22</td>\n",
       "      <td>7978.74</td>\n",
       "      <td>8029.46</td>\n",
       "      <td>2850161</td>\n",
       "    </tr>\n",
       "    <tr>\n",
       "      <th>2012-03-28</th>\n",
       "      <td>15427.0</td>\n",
       "      <td>8074.64</td>\n",
       "      <td>8085.43</td>\n",
       "      <td>8013.80</td>\n",
       "      <td>8038.07</td>\n",
       "      <td>2893376</td>\n",
       "    </tr>\n",
       "    <tr>\n",
       "      <th>2012-03-29</th>\n",
       "      <td>15428.0</td>\n",
       "      <td>7997.87</td>\n",
       "      <td>7997.87</td>\n",
       "      <td>7808.55</td>\n",
       "      <td>7872.66</td>\n",
       "      <td>4472745</td>\n",
       "    </tr>\n",
       "    <tr>\n",
       "      <th>2012-03-30</th>\n",
       "      <td>15429.0</td>\n",
       "      <td>7832.22</td>\n",
       "      <td>7933.00</td>\n",
       "      <td>7775.75</td>\n",
       "      <td>7933.00</td>\n",
       "      <td>3423989</td>\n",
       "    </tr>\n",
       "  </tbody>\n",
       "</table>\n",
       "</div>"
      ],
      "text/plain": [
       "               Date     Open     High      Low    Close   Volume\n",
       "Date                                                            \n",
       "2012-03-01  15400.0  8127.57  8151.70  8103.75  8118.34  4032373\n",
       "2012-03-02  15401.0  8161.87  8170.72  8114.14  8144.04  4429674\n",
       "2012-03-03  15402.0  8119.94  8134.94  8087.20  8114.44  3437220\n",
       "2012-03-05  15404.0  8105.27  8115.49  7998.96  8004.74  4009491\n",
       "2012-03-06  15405.0  8006.85  8028.02  7860.87  7937.97  4369742\n",
       "2012-03-07  15406.0  7846.49  7937.11  7824.45  7903.08  3662536\n",
       "2012-03-08  15407.0  7952.94  8000.93  7905.50  7984.56  3785528\n",
       "2012-03-09  15408.0  8012.59  8027.08  7965.68  8016.01  3722467\n",
       "2012-03-12  15411.0  8028.87  8028.87  7927.55  7927.55  3176525\n",
       "2012-03-13  15412.0  7990.60  8045.61  7974.38  8031.51  3617552\n",
       "2012-03-14  15413.0  8132.96  8170.31  8113.76  8125.26  4303980\n",
       "2012-03-15  15414.0  8141.93  8142.98  8088.10  8121.62  3450339\n",
       "2012-03-16  15415.0  8130.28  8130.52  8054.94  8054.94  3666705\n",
       "2012-03-19  15418.0  8113.46  8123.15  7997.05  8043.92  2961464\n",
       "2012-03-20  15419.0  8062.91  8062.91  7965.96  7972.70  2846949\n",
       "2012-03-21  15420.0  7993.46  8013.67  7940.19  7981.94  3202170\n",
       "2012-03-22  15421.0  7997.66  8075.97  7995.57  8059.94  3174305\n",
       "2012-03-23  15422.0  8067.93  8076.61  8030.88  8076.61  2833264\n",
       "2012-03-26  15425.0  8073.93  8073.93  7958.72  7967.62  3043554\n",
       "2012-03-27  15426.0  8033.22  8033.22  7978.74  8029.46  2850161\n",
       "2012-03-28  15427.0  8074.64  8085.43  8013.80  8038.07  2893376\n",
       "2012-03-29  15428.0  7997.87  7997.87  7808.55  7872.66  4472745\n",
       "2012-03-30  15429.0  7832.22  7933.00  7775.75  7933.00  3423989"
      ]
     },
     "execution_count": 4,
     "metadata": {},
     "output_type": "execute_result"
    }
   ],
   "source": [
    "taiex201203"
   ]
  },
  {
   "cell_type": "code",
   "execution_count": 5,
   "id": "511867b7",
   "metadata": {},
   "outputs": [],
   "source": [
    "taiex2012_listData=[]\n",
    "for i in range(len(taiex2012)):\n",
    "    a=[taiex2012.Date[i],taiex2012.Open[i],taiex2012.High[i],taiex2012.Low[i],taiex2012.Close[i]]\n",
    "    taiex2012_listData.append(a)\n",
    "    \n",
    "taiex201201_listData=[]\n",
    "for i in range(len(taiex201201)):\n",
    "    a=[taiex201201.Date[i],taiex201201.Open[i],taiex201201.High[i],taiex201201.Low[i],taiex201201.Close[i]]\n",
    "    taiex201201_listData.append(a)\n",
    "\n",
    "taiex201202_listData=[]\n",
    "for i in range(len(taiex201202)):\n",
    "    a=[taiex201202.Date[i],taiex201202.Open[i],taiex201202.High[i],taiex201202.Low[i],taiex201202.Close[i]]\n",
    "    taiex201202_listData.append(a)\n",
    "    \n",
    "taiex201203_listData=[]\n",
    "for i in range(len(taiex201203)):\n",
    "    a=[taiex201203.Date[i],taiex201203.Open[i],taiex201203.High[i],taiex201203.Low[i],taiex201203.Close[i]]\n",
    "    taiex201203_listData.append(a)\n",
    "\n",
    "taiex201204_listData=[]\n",
    "for i in range(len(taiex201204)):\n",
    "    a=[taiex201204.Date[i],taiex201204.Open[i],taiex201204.High[i],taiex201204.Low[i],taiex201204.Close[i]]\n",
    "    taiex201204_listData.append(a)\n",
    "    \n",
    "taiex201205_listData=[]\n",
    "for i in range(len(taiex201205)):\n",
    "    a=[taiex201205.Date[i],taiex201205.Open[i],taiex201205.High[i],taiex201205.Low[i],taiex201205.Close[i]]\n",
    "    taiex201205_listData.append(a)\n",
    "    \n",
    "taiex201206_listData=[]\n",
    "for i in range(len(taiex201206)):\n",
    "    a=[taiex201206.Date[i],taiex201206.Open[i],taiex201206.High[i],taiex201206.Low[i],taiex201206.Close[i]]\n",
    "    taiex201206_listData.append(a)\n",
    "    \n",
    "taiex201207_listData=[]\n",
    "for i in range(len(taiex201207)):\n",
    "    a=[taiex201207.Date[i],taiex201207.Open[i],taiex201207.High[i],taiex201207.Low[i],taiex201207.Close[i]]\n",
    "    taiex201207_listData.append(a)\n",
    "    \n",
    "taiex201208_listData=[]\n",
    "for i in range(len(taiex201208)):\n",
    "    a=[taiex201208.Date[i],taiex201208.Open[i],taiex201208.High[i],taiex201208.Low[i],taiex201208.Close[i]]\n",
    "    taiex201208_listData.append(a)\n",
    "    \n",
    "taiex201209_listData=[]\n",
    "for i in range(len(taiex201209)):\n",
    "    a=[taiex201209.Date[i],taiex201209.Open[i],taiex201209.High[i],taiex201209.Low[i],taiex201209.Close[i]]\n",
    "    taiex201209_listData.append(a)\n",
    "    \n",
    "taiex201210_listData=[]\n",
    "for i in range(len(taiex201210)):\n",
    "    a=[taiex201210.Date[i],taiex201210.Open[i],taiex201210.High[i],taiex201210.Low[i],taiex201210.Close[i]]\n",
    "    taiex201208_listData.append(a)\n",
    "    \n",
    "taiex201211_listData=[]\n",
    "for i in range(len(taiex201211)):\n",
    "    a=[taiex201211.Date[i],taiex201211.Open[i],taiex201211.High[i],taiex201211.Low[i],taiex201211.Close[i]]\n",
    "    taiex201211_listData.append(a)\n",
    "    \n",
    "taiex201212_listData=[]\n",
    "for i in range(len(taiex201212)):\n",
    "    a=[taiex201212.Date[i],taiex201212.Open[i],taiex201212.High[i],taiex201212.Low[i],taiex201212.Close[i]]\n",
    "    taiex201212_listData.append(a)"
   ]
  },
  {
   "cell_type": "code",
   "execution_count": 6,
   "id": "76d34cff",
   "metadata": {},
   "outputs": [
    {
     "name": "stderr",
     "output_type": "stream",
     "text": [
      "findfont: Font family ['sans-serif'] not found. Falling back to DejaVu Sans.\n",
      "findfont: Generic family 'sans-serif' not found because none of the following families were found: SimHei\n",
      "c:\\users\\eggs\\appdata\\local\\programs\\python\\python38\\lib\\site-packages\\matplotlib\\backends\\backend_agg.py:240: RuntimeWarning: Glyph 21152 missing from current font.\n",
      "  font.set_text(s, 0.0, flags=flags)\n",
      "c:\\users\\eggs\\appdata\\local\\programs\\python\\python38\\lib\\site-packages\\matplotlib\\backends\\backend_agg.py:240: RuntimeWarning: Glyph 27402 missing from current font.\n",
      "  font.set_text(s, 0.0, flags=flags)\n",
      "c:\\users\\eggs\\appdata\\local\\programs\\python\\python38\\lib\\site-packages\\matplotlib\\backends\\backend_agg.py:240: RuntimeWarning: Glyph 32929 missing from current font.\n",
      "  font.set_text(s, 0.0, flags=flags)\n",
      "c:\\users\\eggs\\appdata\\local\\programs\\python\\python38\\lib\\site-packages\\matplotlib\\backends\\backend_agg.py:240: RuntimeWarning: Glyph 20729 missing from current font.\n",
      "  font.set_text(s, 0.0, flags=flags)\n",
      "c:\\users\\eggs\\appdata\\local\\programs\\python\\python38\\lib\\site-packages\\matplotlib\\backends\\backend_agg.py:240: RuntimeWarning: Glyph 25351 missing from current font.\n",
      "  font.set_text(s, 0.0, flags=flags)\n",
      "c:\\users\\eggs\\appdata\\local\\programs\\python\\python38\\lib\\site-packages\\matplotlib\\backends\\backend_agg.py:240: RuntimeWarning: Glyph 25976 missing from current font.\n",
      "  font.set_text(s, 0.0, flags=flags)\n",
      "c:\\users\\eggs\\appdata\\local\\programs\\python\\python38\\lib\\site-packages\\matplotlib\\backends\\backend_agg.py:240: RuntimeWarning: Glyph 24180 missing from current font.\n",
      "  font.set_text(s, 0.0, flags=flags)\n",
      "c:\\users\\eggs\\appdata\\local\\programs\\python\\python38\\lib\\site-packages\\matplotlib\\backends\\backend_agg.py:240: RuntimeWarning: Glyph 32218 missing from current font.\n",
      "  font.set_text(s, 0.0, flags=flags)\n",
      "c:\\users\\eggs\\appdata\\local\\programs\\python\\python38\\lib\\site-packages\\matplotlib\\backends\\backend_agg.py:240: RuntimeWarning: Glyph 22294 missing from current font.\n",
      "  font.set_text(s, 0.0, flags=flags)\n",
      "findfont: Font family ['sans-serif'] not found. Falling back to DejaVu Sans.\n",
      "findfont: Generic family 'sans-serif' not found because none of the following families were found: SimHei\n",
      "c:\\users\\eggs\\appdata\\local\\programs\\python\\python38\\lib\\site-packages\\matplotlib\\backends\\backend_agg.py:203: RuntimeWarning: Glyph 21152 missing from current font.\n",
      "  font.set_text(s, 0, flags=flags)\n",
      "c:\\users\\eggs\\appdata\\local\\programs\\python\\python38\\lib\\site-packages\\matplotlib\\backends\\backend_agg.py:203: RuntimeWarning: Glyph 27402 missing from current font.\n",
      "  font.set_text(s, 0, flags=flags)\n",
      "c:\\users\\eggs\\appdata\\local\\programs\\python\\python38\\lib\\site-packages\\matplotlib\\backends\\backend_agg.py:203: RuntimeWarning: Glyph 32929 missing from current font.\n",
      "  font.set_text(s, 0, flags=flags)\n",
      "c:\\users\\eggs\\appdata\\local\\programs\\python\\python38\\lib\\site-packages\\matplotlib\\backends\\backend_agg.py:203: RuntimeWarning: Glyph 20729 missing from current font.\n",
      "  font.set_text(s, 0, flags=flags)\n",
      "c:\\users\\eggs\\appdata\\local\\programs\\python\\python38\\lib\\site-packages\\matplotlib\\backends\\backend_agg.py:203: RuntimeWarning: Glyph 25351 missing from current font.\n",
      "  font.set_text(s, 0, flags=flags)\n",
      "c:\\users\\eggs\\appdata\\local\\programs\\python\\python38\\lib\\site-packages\\matplotlib\\backends\\backend_agg.py:203: RuntimeWarning: Glyph 25976 missing from current font.\n",
      "  font.set_text(s, 0, flags=flags)\n",
      "c:\\users\\eggs\\appdata\\local\\programs\\python\\python38\\lib\\site-packages\\matplotlib\\backends\\backend_agg.py:203: RuntimeWarning: Glyph 24180 missing from current font.\n",
      "  font.set_text(s, 0, flags=flags)\n",
      "c:\\users\\eggs\\appdata\\local\\programs\\python\\python38\\lib\\site-packages\\matplotlib\\backends\\backend_agg.py:203: RuntimeWarning: Glyph 32218 missing from current font.\n",
      "  font.set_text(s, 0, flags=flags)\n",
      "c:\\users\\eggs\\appdata\\local\\programs\\python\\python38\\lib\\site-packages\\matplotlib\\backends\\backend_agg.py:203: RuntimeWarning: Glyph 22294 missing from current font.\n",
      "  font.set_text(s, 0, flags=flags)\n"
     ]
    },
    {
     "data": {
      "image/png": "[encoded data removed]",
      "text/plain": [
       "<Figure size 432x288 with 1 Axes>"
      ]
     },
     "metadata": {
      "needs_background": "light"
     },
     "output_type": "display_data"
    }
   ],
   "source": [
    "ax= plt.subplot()\n",
    "mondays = WeekdayLocator(MONDAY)\n",
    "ax.xaxis.set_major_locator(mondays)\n",
    "ax.xaxis.set_minor_locator(DayLocator() )\n",
    "weekFormatter = DateFormatter('%y %b %d')\n",
    "ax.xaxis.set_major_formatter(weekFormatter)\n",
    "plt.rcParams['font.sans-serif'] = ['SimHei']\n",
    "plt.rcParams['axes.unicode_minus'] = False\n",
    "ax.set_title('加權股價指數2012年K線圖')\n",
    "candlestick_ohlc(ax, taiex2012_listData, \n",
    "    width=0.7,colorup='r', colordown='g');\n",
    "plt.setp(plt.gca().get_xticklabels(),\n",
    "    rotation=50,\n",
    "    horizontalalignment='center')\n",
    "plt.show()"
   ]
  },
  {
   "cell_type": "code",
   "execution_count": 7,
   "id": "7e494553",
   "metadata": {},
   "outputs": [
    {
     "name": "stderr",
     "output_type": "stream",
     "text": [
      "c:\\users\\eggs\\appdata\\local\\programs\\python\\python38\\lib\\site-packages\\matplotlib\\backends\\backend_agg.py:240: RuntimeWarning: Glyph 26376 missing from current font.\n",
      "  font.set_text(s, 0.0, flags=flags)\n",
      "c:\\users\\eggs\\appdata\\local\\programs\\python\\python38\\lib\\site-packages\\matplotlib\\backends\\backend_agg.py:203: RuntimeWarning: Glyph 26376 missing from current font.\n",
      "  font.set_text(s, 0, flags=flags)\n"
     ]
    },
    {
     "data": {
      "image/png": "[encoded data removed]",
      "text/plain": [
       "<Figure size 432x288 with 1 Axes>"
      ]
     },
     "metadata": {
      "needs_background": "light"
     },
     "output_type": "display_data"
    }
   ],
   "source": [
    "ax= plt.subplot()\n",
    "mondays = WeekdayLocator(MONDAY)\n",
    "ax.xaxis.set_major_locator(mondays)\n",
    "ax.xaxis.set_minor_locator(DayLocator() )\n",
    "weekFormatter = DateFormatter('%y %b %d')\n",
    "ax.xaxis.set_major_formatter(weekFormatter)\n",
    "plt.rcParams['font.sans-serif'] = ['SimHei']\n",
    "plt.rcParams['axes.unicode_minus'] = False\n",
    "ax.set_title('加權股價指數2012年01月K線圖')\n",
    "candlestick_ohlc(ax, taiex201201_listData, \n",
    "    width=0.7,colorup='r', colordown='g');\n",
    "plt.setp(plt.gca().get_xticklabels(),\n",
    "    rotation=50,\n",
    "    horizontalalignment='center')\n",
    "plt.show()"
   ]
  },
  {
   "cell_type": "code",
   "execution_count": 8,
   "id": "1206071e",
   "metadata": {},
   "outputs": [
    {
     "data": {
      "image/png": "[encoded data removed]",
      "text/plain": [
       "<Figure size 432x288 with 1 Axes>"
      ]
     },
     "metadata": {
      "needs_background": "light"
     },
     "output_type": "display_data"
    }
   ],
   "source": [
    "ax= plt.subplot()\n",
    "mondays = WeekdayLocator(MONDAY)\n",
    "ax.xaxis.set_major_locator(mondays)\n",
    "ax.xaxis.set_minor_locator(DayLocator() )\n",
    "weekFormatter = DateFormatter('%y %b %d')\n",
    "ax.xaxis.set_major_formatter(weekFormatter)\n",
    "plt.rcParams['font.sans-serif'] = ['SimHei']\n",
    "plt.rcParams['axes.unicode_minus'] = False\n",
    "ax.set_title('加權股價指數2012年02月K線圖')\n",
    "candlestick_ohlc(ax, taiex201202_listData, \n",
    "    width=0.7,colorup='r', colordown='g');\n",
    "plt.setp(plt.gca().get_xticklabels(),\n",
    "    rotation=50,\n",
    "    horizontalalignment='center')\n",
    "plt.show()"
   ]
  },
  {
   "cell_type": "code",
   "execution_count": 9,
   "id": "ae396137",
   "metadata": {},
   "outputs": [
    {
     "data": {
      "image/png": "[encoded data removed]",
      "text/plain": [
       "<Figure size 432x288 with 1 Axes>"
      ]
     },
     "metadata": {
      "needs_background": "light"
     },
     "output_type": "display_data"
    }
   ],
   "source": [
    "ax= plt.subplot()\n",
    "mondays = WeekdayLocator(MONDAY)\n",
    "ax.xaxis.set_major_locator(mondays)\n",
    "ax.xaxis.set_minor_locator(DayLocator() )\n",
    "weekFormatter = DateFormatter('%y %b %d')\n",
    "ax.xaxis.set_major_formatter(weekFormatter)\n",
    "plt.rcParams['font.sans-serif'] = ['SimHei']\n",
    "plt.rcParams['axes.unicode_minus'] = False\n",
    "ax.set_title('加權股價指數2012年03月K線圖')\n",
    "candlestick_ohlc(ax, taiex201203_listData, \n",
    "    width=0.7,colorup='r', colordown='g');\n",
    "plt.setp(plt.gca().get_xticklabels(),\n",
    "    rotation=50,\n",
    "    horizontalalignment='center')\n",
    "plt.show()"
   ]
  },
  {
   "cell_type": "code",
   "execution_count": 10,
   "id": "dc2b5398",
   "metadata": {},
   "outputs": [
    {
     "data": {
      "image/png": "[encoded data removed]",
      "text/plain": [
       "<Figure size 432x288 with 1 Axes>"
      ]
     },
     "metadata": {
      "needs_background": "light"
     },
     "output_type": "display_data"
    }
   ],
   "source": [
    "ax= plt.subplot()\n",
    "mondays = WeekdayLocator(MONDAY)\n",
    "ax.xaxis.set_major_locator(mondays)\n",
    "ax.xaxis.set_minor_locator(DayLocator() )\n",
    "weekFormatter = DateFormatter('%y %b %d')\n",
    "ax.xaxis.set_major_formatter(weekFormatter)\n",
    "plt.rcParams['font.sans-serif'] = ['SimHei']\n",
    "plt.rcParams['axes.unicode_minus'] = False\n",
    "ax.set_title('加權股價指數2012年04月K線圖')\n",
    "candlestick_ohlc(ax, taiex201204_listData, \n",
    "    width=0.7,colorup='r', colordown='g');\n",
    "plt.setp(plt.gca().get_xticklabels(),\n",
    "    rotation=50,\n",
    "    horizontalalignment='center')\n",
    "plt.show()"
   ]
  },
  {
   "cell_type": "code",
   "execution_count": 11,
   "id": "6ec4df05",
   "metadata": {},
   "outputs": [
    {
     "data": {
      "image/png": "[encoded data removed]",
      "text/plain": [
       "<Figure size 432x288 with 1 Axes>"
      ]
     },
     "metadata": {
      "needs_background": "light"
     },
     "output_type": "display_data"
    }
   ],
   "source": [
    "ax= plt.subplot()\n",
    "mondays = WeekdayLocator(MONDAY)\n",
    "ax.xaxis.set_major_locator(mondays)\n",
    "ax.xaxis.set_minor_locator(DayLocator() )\n",
    "weekFormatter = DateFormatter('%y %b %d')\n",
    "ax.xaxis.set_major_formatter(weekFormatter)\n",
    "plt.rcParams['font.sans-serif'] = ['SimHei']\n",
    "plt.rcParams['axes.unicode_minus'] = False\n",
    "ax.set_title('加權股價指數2012年05月K線圖')\n",
    "candlestick_ohlc(ax, taiex201205_listData, \n",
    "    width=0.7,colorup='r', colordown='g');\n",
    "plt.setp(plt.gca().get_xticklabels(),\n",
    "    rotation=50,\n",
    "    horizontalalignment='center')\n",
    "plt.show()"
   ]
  },
  {
   "cell_type": "code",
   "execution_count": 12,
   "id": "429b011f",
   "metadata": {},
   "outputs": [
    {
     "data": {
      "image/png": "[encoded data removed]",
      "text/plain": [
       "<Figure size 432x288 with 1 Axes>"
      ]
     },
     "metadata": {
      "needs_background": "light"
     },
     "output_type": "display_data"
    }
   ],
   "source": [
    "ax= plt.subplot()\n",
    "mondays = WeekdayLocator(MONDAY)\n",
    "ax.xaxis.set_major_locator(mondays)\n",
    "ax.xaxis.set_minor_locator(DayLocator() )\n",
    "weekFormatter = DateFormatter('%y %b %d')\n",
    "ax.xaxis.set_major_formatter(weekFormatter)\n",
    "plt.rcParams['font.sans-serif'] = ['SimHei']\n",
    "plt.rcParams['axes.unicode_minus'] = False\n",
    "ax.set_title('加權股價指數2012年06月K線圖')\n",
    "candlestick_ohlc(ax, taiex201206_listData, \n",
    "    width=0.7,colorup='r', colordown='g');\n",
    "plt.setp(plt.gca().get_xticklabels(),\n",
    "    rotation=50,\n",
    "    horizontalalignment='center')\n",
    "plt.show()"
   ]
  },
  {
   "cell_type": "code",
   "execution_count": 13,
   "id": "90eafcaf",
   "metadata": {},
   "outputs": [
    {
     "data": {
      "image/png": "[encoded data removed]",
      "text/plain": [
       "<Figure size 432x288 with 1 Axes>"
      ]
     },
     "metadata": {
      "needs_background": "light"
     },
     "output_type": "display_data"
    }
   ],
   "source": [
    "ax= plt.subplot()\n",
    "mondays = WeekdayLocator(MONDAY)\n",
    "ax.xaxis.set_major_locator(mondays)\n",
    "ax.xaxis.set_minor_locator(DayLocator() )\n",
    "weekFormatter = DateFormatter('%y %b %d')\n",
    "ax.xaxis.set_major_formatter(weekFormatter)\n",
    "plt.rcParams['font.sans-serif'] = ['SimHei']\n",
    "plt.rcParams['axes.unicode_minus'] = False\n",
    "ax.set_title('加權股價指數2012年07月K線圖')\n",
    "candlestick_ohlc(ax, taiex201207_listData, \n",
    "    width=0.7,colorup='r', colordown='g');\n",
    "plt.setp(plt.gca().get_xticklabels(),\n",
    "    rotation=50,\n",
    "    horizontalalignment='center')\n",
    "plt.show()"
   ]
  },
  {
   "cell_type": "code",
   "execution_count": 14,
   "id": "093df28f",
   "metadata": {},
   "outputs": [
    {
     "data": {
      "image/png": "[encoded data removed]",
      "text/plain": [
       "<Figure size 432x288 with 1 Axes>"
      ]
     },
     "metadata": {
      "needs_background": "light"
     },
     "output_type": "display_data"
    }
   ],
   "source": [
    "ax= plt.subplot()\n",
    "mondays = WeekdayLocator(MONDAY)\n",
    "ax.xaxis.set_major_locator(mondays)\n",
    "ax.xaxis.set_minor_locator(DayLocator() )\n",
    "weekFormatter = DateFormatter('%y %b %d')\n",
    "ax.xaxis.set_major_formatter(weekFormatter)\n",
    "plt.rcParams['font.sans-serif'] = ['SimHei']\n",
    "plt.rcParams['axes.unicode_minus'] = False\n",
    "ax.set_title('加權股價指數2012年08月K線圖')\n",
    "candlestick_ohlc(ax, taiex201208_listData, \n",
    "    width=0.7,colorup='r', colordown='g');\n",
    "plt.setp(plt.gca().get_xticklabels(),\n",
    "    rotation=50,\n",
    "    horizontalalignment='center')\n",
    "plt.show()"
   ]
  },
  {
   "cell_type": "code",
   "execution_count": 15,
   "id": "c144f187",
   "metadata": {},
   "outputs": [
    {
     "data": {
      "image/png": "[encoded data removed]",
      "text/plain": [
       "<Figure size 432x288 with 1 Axes>"
      ]
     },
     "metadata": {
      "needs_background": "light"
     },
     "output_type": "display_data"
    }
   ],
   "source": [
    "ax= plt.subplot()\n",
    "mondays = WeekdayLocator(MONDAY)\n",
    "ax.xaxis.set_major_locator(mondays)\n",
    "ax.xaxis.set_minor_locator(DayLocator() )\n",
    "weekFormatter = DateFormatter('%y %b %d')\n",
    "ax.xaxis.set_major_formatter(weekFormatter)\n",
    "plt.rcParams['font.sans-serif'] = ['SimHei']\n",
    "plt.rcParams['axes.unicode_minus'] = False\n",
    "ax.set_title('加權股價指數2012年09月K線圖')\n",
    "candlestick_ohlc(ax, taiex201209_listData, \n",
    "    width=0.7,colorup='r', colordown='g');\n",
    "plt.setp(plt.gca().get_xticklabels(),\n",
    "    rotation=50,\n",
    "    horizontalalignment='center')\n",
    "plt.show()"
   ]
  },
  {
   "cell_type": "code",
   "execution_count": 16,
   "id": "b9f14c27",
   "metadata": {},
   "outputs": [
    {
     "name": "stderr",
     "output_type": "stream",
     "text": [
      "Locator attempting to generate 4018 ticks ([10775.0, ..., 14792.0]), which exceeds Locator.MAXTICKS (1000).\n",
      "Locator attempting to generate 4018 ticks ([10775.0, ..., 14792.0]), which exceeds Locator.MAXTICKS (1000).\n",
      "Locator attempting to generate 4018 ticks ([10775.0, ..., 14792.0]), which exceeds Locator.MAXTICKS (1000).\n",
      "Locator attempting to generate 4018 ticks ([10775.0, ..., 14792.0]), which exceeds Locator.MAXTICKS (1000).\n",
      "Locator attempting to generate 4018 ticks ([10775.0, ..., 14792.0]), which exceeds Locator.MAXTICKS (1000).\n",
      "Locator attempting to generate 4018 ticks ([10775.0, ..., 14792.0]), which exceeds Locator.MAXTICKS (1000).\n",
      "Locator attempting to generate 4018 ticks ([10775.0, ..., 14792.0]), which exceeds Locator.MAXTICKS (1000).\n",
      "Locator attempting to generate 4018 ticks ([10775.0, ..., 14792.0]), which exceeds Locator.MAXTICKS (1000).\n",
      "Locator attempting to generate 4018 ticks ([10775.0, ..., 14792.0]), which exceeds Locator.MAXTICKS (1000).\n",
      "Locator attempting to generate 4018 ticks ([10775.0, ..., 14792.0]), which exceeds Locator.MAXTICKS (1000).\n"
     ]
    },
    {
     "data": {
      "image/png": "[encoded data removed]",
      "text/plain": [
       "<Figure size 432x288 with 1 Axes>"
      ]
     },
     "metadata": {
      "needs_background": "light"
     },
     "output_type": "display_data"
    }
   ],
   "source": [
    "ax= plt.subplot()\n",
    "mondays = WeekdayLocator(MONDAY)\n",
    "ax.xaxis.set_major_locator(mondays)\n",
    "ax.xaxis.set_minor_locator(DayLocator() )\n",
    "weekFormatter = DateFormatter('%y %b %d')\n",
    "ax.xaxis.set_major_formatter(weekFormatter)\n",
    "plt.rcParams['font.sans-serif'] = ['SimHei']\n",
    "plt.rcParams['axes.unicode_minus'] = False\n",
    "ax.set_title('加權股價指數2012年10月K線圖')\n",
    "candlestick_ohlc(ax, taiex201210_listData, \n",
    "    width=0.7,colorup='r', colordown='g');\n",
    "plt.setp(plt.gca().get_xticklabels(),\n",
    "    rotation=50,\n",
    "    horizontalalignment='center')\n",
    "plt.show()"
   ]
  },
  {
   "cell_type": "code",
   "execution_count": 17,
   "id": "1ee4c3e2",
   "metadata": {},
   "outputs": [
    {
     "data": {
      "image/png": "[encoded data removed]",
      "text/plain": [
       "<Figure size 432x288 with 1 Axes>"
      ]
     },
     "metadata": {
      "needs_background": "light"
     },
     "output_type": "display_data"
    }
   ],
   "source": [
    "ax= plt.subplot()\n",
    "mondays = WeekdayLocator(MONDAY)\n",
    "ax.xaxis.set_major_locator(mondays)\n",
    "ax.xaxis.set_minor_locator(DayLocator() )\n",
    "weekFormatter = DateFormatter('%y %b %d')\n",
    "ax.xaxis.set_major_formatter(weekFormatter)\n",
    "plt.rcParams['font.sans-serif'] = ['SimHei']\n",
    "plt.rcParams['axes.unicode_minus'] = False\n",
    "ax.set_title('加權股價指數2012年11月K線圖')\n",
    "candlestick_ohlc(ax, taiex201211_listData, \n",
    "    width=0.7,colorup='r', colordown='g');\n",
    "plt.setp(plt.gca().get_xticklabels(),\n",
    "    rotation=50,\n",
    "    horizontalalignment='center')\n",
    "plt.show()"
   ]
  },
  {
   "cell_type": "code",
   "execution_count": 18,
   "id": "a30178db",
   "metadata": {},
   "outputs": [
    {
     "data": {
      "image/png": "[encoded data removed]",
      "text/plain": [
       "<Figure size 432x288 with 1 Axes>"
      ]
     },
     "metadata": {
      "needs_background": "light"
     },
     "output_type": "display_data"
    }
   ],
   "source": [
    "ax= plt.subplot()\n",
    "mondays = WeekdayLocator(MONDAY)\n",
    "ax.xaxis.set_major_locator(mondays)\n",
    "ax.xaxis.set_minor_locator(DayLocator() )\n",
    "weekFormatter = DateFormatter('%y %b %d')\n",
    "ax.xaxis.set_major_formatter(weekFormatter)\n",
    "plt.rcParams['font.sans-serif'] = ['SimHei']\n",
    "plt.rcParams['axes.unicode_minus'] = False\n",
    "ax.set_title('加權股價指數2012年12月K線圖')\n",
    "candlestick_ohlc(ax, taiex201212_listData, \n",
    "    width=0.7,colorup='r', colordown='g');\n",
    "plt.setp(plt.gca().get_xticklabels(),\n",
    "    rotation=50,\n",
    "    horizontalalignment='center')\n",
    "plt.show()"
   ]
  },
  {
   "cell_type": "code",
   "execution_count": 19,
   "id": "b5e8dba2",
   "metadata": {},
   "outputs": [
    {
     "name": "stdout",
     "output_type": "stream",
     "text": [
      "                  Date     Open     High      Low    Close   Volume\n",
      "Date                                                               \n",
      "2012-12-27  2012/12/27  7634.80  7661.01  7622.73  7648.41  3031920\n",
      "2012-12-28  2012/12/28  7700.87  7708.31  7665.04  7699.50  3185729\n"
     ]
    }
   ],
   "source": [
    "taiex2012 = pd.read_csv('taiex2012.csv')\n",
    "taiex2012.index = pd.to_datetime(taiex2012.Date)\n",
    "\n",
    "taiex2012.head(2)\n",
    "taiex2012.iloc[-2:,:]\n",
    "print(taiex2012.iloc[-2:,:])\n",
    "Close=taiex2012.Close\n",
    "Open=taiex2012.Open\n",
    "ClOp=Close-Open\n",
    "ClOp.head()\n",
    "ClOp.describe()\n",
    "\n",
    "Shape = [0,0,0]\n",
    "for i in range(3,len(ClOp)):\n",
    "    if all([ClOp[i-2]<-20,abs(ClOp[i-1])< 20,\\\n",
    "    ClOp[i]>5,abs(ClOp[i])>abs(ClOp[i-2]*0.5)]):\n",
    "        Shape.append(1)\n",
    "    else:\n",
    "        Shape.append(0)\n",
    "\n",
    "Shape.index(1)\n",
    "\n",
    "\n",
    "Doji=[0,0,0]\n",
    "for i in range(3,len(Open)):\n",
    "    if all([Open[i-1]<Open[i],Open[i-1]<Close[i-2],\\\n",
    "    Close[i-1]<Open[i],(Close[i-1]<Close[i-2])]):\n",
    "        Doji.append(1)\n",
    "    else:\n",
    "        Doji.append(0)\n",
    "\n",
    "Doji.count(1)\n",
    "\n",
    "\n",
    "Trend=[0,0,0]\n",
    "for i in range(3,len(Close)):\n",
    "    if Close[i-2] < Close[i-3]:\n",
    "        Trend.append(1)\n",
    "    else:\n",
    "        Trend.append(0)\n",
    "\n",
    "StarSig=[]\n",
    "for i in range(len(Trend)):\n",
    "    if all([Shape[i]==1,Doji[i]==1,Trend[i]==1]):\n",
    "        StarSig.append(1)\n",
    "    else:\n",
    "        StarSig.append(0)\n",
    "\n",
    "for i in range(len(StarSig)):\n",
    "    if StarSig[i]==1:\n",
    "        print(taiex2012.index[i])"
   ]
  },
  {
   "cell_type": "code",
   "execution_count": null,
   "id": "44d3fe50",
   "metadata": {},
   "outputs": [],
   "source": []
  },
  {
   "cell_type": "code",
   "execution_count": null,
   "id": "6b3ba526",
   "metadata": {},
   "outputs": [],
   "source": []
  }
 ],
 "metadata": {
  "kernelspec": {
   "display_name": "Python 3",
   "language": "python",
   "name": "python3"
  },
  "language_info": {
   "codemirror_mode": {
    "name": "ipython",
    "version": 3
   },
   "file_extension": ".py",
   "mimetype": "text/x-python",
   "name": "python",
   "nbconvert_exporter": "python",
   "pygments_lexer": "ipython3",
   "version": "3.8.10"
  }
 },
 "nbformat": 4,
 "nbformat_minor": 5
}
