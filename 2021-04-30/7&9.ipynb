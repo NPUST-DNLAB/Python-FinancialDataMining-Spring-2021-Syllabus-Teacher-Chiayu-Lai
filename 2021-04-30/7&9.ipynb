{
 "cells": [
  {
   "cell_type": "markdown",
   "metadata": {},
   "source": [
    "<font size=6>**7&9**</font>"
   ]
  },
  {
   "cell_type": "markdown",
   "metadata": {},
   "source": [
    "----"
   ]
  },
  {
   "cell_type": "markdown",
   "metadata": {},
   "source": [
    "<font size=6>**第七題**</font>"
   ]
  },
  {
   "cell_type": "markdown",
   "metadata": {},
   "source": [
    "E(Ri)=Ri+βi[E(Rm)-Rf]\n",
    "\n",
    "A公司 : 0.04+1.2(0.09-0.04) = 0.1\n",
    "B公司： 0.04+1.3(0.12-0.04) = 0.144\n",
    "A公司預期報酬率0.1\n",
    "B公司預期報酬率0.144\n",
    "因此選B公司"
   ]
  },
  {
   "cell_type": "markdown",
   "metadata": {},
   "source": [
    "---"
   ]
  },
  {
   "cell_type": "code",
   "execution_count": 1,
   "metadata": {},
   "outputs": [],
   "source": [
    "import pandas as pd\n",
    "import statsmodels.api as sm"
   ]
  },
  {
   "cell_type": "markdown",
   "metadata": {},
   "source": [
    "<font size=6>**head**</font>\n",
    "<font size=6>**2016-01**</font>\n",
    "<font size=6>**TSE&SPIL**</font>"
   ]
  },
  {
   "cell_type": "code",
   "execution_count": 2,
   "metadata": {},
   "outputs": [
    {
     "name": "stdout",
     "output_type": "stream",
     "text": [
      "            SPIL        TSE\n",
      "Date                       \n",
      "2016-01-04  7.70  22.090000\n",
      "2016-01-05  7.71  21.950001\n",
      "2016-01-06  7.68  21.340000\n",
      "2016-01-07  7.66  21.100000\n",
      "2016-01-08  7.55  20.809999\n",
      "                SPIL       TSE\n",
      "Date                          \n",
      "2016-01-05  0.001299 -0.006338\n",
      "2016-01-06 -0.003891 -0.027790\n",
      "2016-01-07 -0.002604 -0.011246\n",
      "2016-01-08 -0.014360 -0.013744\n",
      "2016-01-11  0.019868  0.005767\n"
     ]
    }
   ],
   "source": [
    "#SPIL = pd.read_csv(\"SPIL.csv\")\n",
    "#SPIL.index = pd.to_datetime(SPIL.index)\n",
    "#SPIL['price1']=SPIL['Close'].shift(-1)\n",
    "#SPIL['priceDiff']=SPIL['price1']-SPIL['Close']\n",
    "#SPIL['return']=SPIL['priceDiff']/SPIL['Close']\n",
    "#SPIL.head()\n",
    "SPIL = pd.read_csv('SPIL.csv', parse_dates=True, index_col='Date',)\n",
    "TSE = pd.read_csv('TSE.csv', parse_dates=True, index_col='Date')\n",
    "\n",
    "monthly_prices = pd.concat([SPIL['Close'], TSE['Close']], axis=1)\n",
    "monthly_prices.columns = ['SPIL', 'TSE']\n",
    "\n",
    "print(monthly_prices.head())\n",
    "\n",
    "monthly_returns = monthly_prices.pct_change(1)\n",
    "clean_monthly_returns = monthly_returns.dropna(axis=0) \n",
    "print(clean_monthly_returns.head())"
   ]
  },
  {
   "cell_type": "code",
   "execution_count": 3,
   "metadata": {},
   "outputs": [
    {
     "name": "stdout",
     "output_type": "stream",
     "text": [
      "                            OLS Regression Results                            \n",
      "==============================================================================\n",
      "Dep. Variable:                    TSE   R-squared:                       0.242\n",
      "Model:                            OLS   Adj. R-squared:                  0.195\n",
      "Method:                 Least Squares   F-statistic:                     5.121\n",
      "Date:                Sun, 02 May 2021   Prob (F-statistic):             0.0379\n",
      "Time:                        03:06:04   Log-Likelihood:                 44.124\n",
      "No. Observations:                  18   AIC:                            -84.25\n",
      "Df Residuals:                      16   BIC:                            -82.47\n",
      "Df Model:                           1                                         \n",
      "Covariance Type:            nonrobust                                         \n",
      "==============================================================================\n",
      "                 coef    std err          t      P>|t|      [0.025      0.975]\n",
      "------------------------------------------------------------------------------\n",
      "const          0.0011      0.005      0.204      0.841      -0.010       0.012\n",
      "SPIL           0.9446      0.417      2.263      0.038       0.060       1.829\n",
      "==============================================================================\n",
      "Omnibus:                       12.561   Durbin-Watson:                   2.322\n",
      "Prob(Omnibus):                  0.002   Jarque-Bera (JB):                9.912\n",
      "Skew:                           1.442   Prob(JB):                      0.00704\n",
      "Kurtosis:                       5.213   Cond. No.                         80.1\n",
      "==============================================================================\n",
      "\n",
      "Warnings:\n",
      "[1] Standard Errors assume that the covariance matrix of the errors is correctly specified.\n"
     ]
    },
    {
     "name": "stderr",
     "output_type": "stream",
     "text": [
      "C:\\Users\\RONGF\\Anaconda3\\lib\\site-packages\\numpy\\core\\fromnumeric.py:2389: FutureWarning: Method .ptp is deprecated and will be removed in a future version. Use numpy.ptp instead.\n",
      "  return ptp(axis=axis, out=out, **kwargs)\n",
      "C:\\Users\\RONGF\\Anaconda3\\lib\\site-packages\\scipy\\stats\\stats.py:1535: UserWarning: kurtosistest only valid for n>=20 ... continuing anyway, n=18\n",
      "  \"anyway, n=%i\" % int(n))\n"
     ]
    }
   ],
   "source": [
    "# split dependent and independent variable\n",
    "X = clean_monthly_returns['SPIL']\n",
    "y = clean_monthly_returns['TSE']\n",
    "\n",
    "# Add a constant to the independent value\n",
    "X1 = sm.add_constant(X)\n",
    "\n",
    "# make regression model \n",
    "model = sm.OLS(y, X1)\n",
    "\n",
    "# fit model and print results\n",
    "results = model.fit()\n",
    "print(results.summary())"
   ]
  }
 ],
 "metadata": {
  "kernelspec": {
   "display_name": "Python 3",
   "language": "python",
   "name": "python3"
  },
  "language_info": {
   "codemirror_mode": {
    "name": "ipython",
    "version": 3
   },
   "file_extension": ".py",
   "mimetype": "text/x-python",
   "name": "python",
   "nbconvert_exporter": "python",
   "pygments_lexer": "ipython3",
   "version": "3.8.10"
  }
 },
 "nbformat": 4,
 "nbformat_minor": 2
}
