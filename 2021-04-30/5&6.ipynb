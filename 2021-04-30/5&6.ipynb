{
 "cells": [
  {
   "cell_type": "markdown",
   "metadata": {},
   "source": [
    "<font size=6>**5&6**</font>"
   ]
  },
  {
   "cell_type": "code",
   "execution_count": 34,
   "metadata": {},
   "outputs": [],
   "source": [
    "import pandas as pd\n",
    "import matplotlib.pyplot as plt\n",
    "import numpy as np"
   ]
  },
  {
   "cell_type": "markdown",
   "metadata": {},
   "source": [
    "<font size=6>**head**</font>"
   ]
  },
  {
   "cell_type": "code",
   "execution_count": 7,
   "metadata": {},
   "outputs": [
    {
     "data": {
      "text/html": [
       "<div>\n",
       "<style scoped>\n",
       "    .dataframe tbody tr th:only-of-type {\n",
       "        vertical-align: middle;\n",
       "    }\n",
       "\n",
       "    .dataframe tbody tr th {\n",
       "        vertical-align: top;\n",
       "    }\n",
       "\n",
       "    .dataframe thead th {\n",
       "        text-align: right;\n",
       "    }\n",
       "</style>\n",
       "<table border=\"1\" class=\"dataframe\">\n",
       "  <thead>\n",
       "    <tr style=\"text-align: right;\">\n",
       "      <th></th>\n",
       "      <th>A</th>\n",
       "      <th>B</th>\n",
       "      <th>C</th>\n",
       "      <th>D</th>\n",
       "    </tr>\n",
       "    <tr>\n",
       "      <th>Date</th>\n",
       "      <th></th>\n",
       "      <th></th>\n",
       "      <th></th>\n",
       "      <th></th>\n",
       "    </tr>\n",
       "  </thead>\n",
       "  <tbody>\n",
       "    <tr>\n",
       "      <td>2014-01-02</td>\n",
       "      <td>0.0000</td>\n",
       "      <td>0.0000</td>\n",
       "      <td>-1.3333</td>\n",
       "      <td>-0.4449</td>\n",
       "    </tr>\n",
       "    <tr>\n",
       "      <td>2014-01-03</td>\n",
       "      <td>-0.8889</td>\n",
       "      <td>-0.8785</td>\n",
       "      <td>-1.0135</td>\n",
       "      <td>-0.5587</td>\n",
       "    </tr>\n",
       "    <tr>\n",
       "      <td>2014-01-06</td>\n",
       "      <td>-0.2242</td>\n",
       "      <td>-0.8863</td>\n",
       "      <td>-3.0717</td>\n",
       "      <td>-2.3596</td>\n",
       "    </tr>\n",
       "    <tr>\n",
       "      <td>2014-01-07</td>\n",
       "      <td>0.2247</td>\n",
       "      <td>-1.3413</td>\n",
       "      <td>-0.3521</td>\n",
       "      <td>0.1151</td>\n",
       "    </tr>\n",
       "    <tr>\n",
       "      <td>2014-01-08</td>\n",
       "      <td>-0.6726</td>\n",
       "      <td>-0.3021</td>\n",
       "      <td>-0.7067</td>\n",
       "      <td>0.5747</td>\n",
       "    </tr>\n",
       "  </tbody>\n",
       "</table>\n",
       "</div>"
      ],
      "text/plain": [
       "                 A       B       C       D\n",
       "Date                                      \n",
       "2014-01-02  0.0000  0.0000 -1.3333 -0.4449\n",
       "2014-01-03 -0.8889 -0.8785 -1.0135 -0.5587\n",
       "2014-01-06 -0.2242 -0.8863 -3.0717 -2.3596\n",
       "2014-01-07  0.2247 -1.3413 -0.3521  0.1151\n",
       "2014-01-08 -0.6726 -0.3021 -0.7067  0.5747"
      ]
     },
     "execution_count": 7,
     "metadata": {},
     "output_type": "execute_result"
    }
   ],
   "source": [
    "retData = pd.read_csv(\"./002/retdata.csv\",index_col=\"Date\")\n",
    "retData.index = pd.to_datetime(retData.index)\n",
    "reData = retData*0.01\n",
    "retData.head()"
   ]
  },
  {
   "cell_type": "code",
   "execution_count": 13,
   "metadata": {},
   "outputs": [
    {
     "data": {
      "text/plain": [
       "<matplotlib.legend.Legend at 0x11fc122cf48>"
      ]
     },
     "execution_count": 13,
     "metadata": {},
     "output_type": "execute_result"
    },
    {
     "data": {
      "image/png": "[encoded data removed]",
      "text/plain": [
       "<Figure size 432x288 with 1 Axes>"
      ]
     },
     "metadata": {
      "needs_background": "light"
     },
     "output_type": "display_data"
    }
   ],
   "source": [
    "cumreturn = (1+retData).cumprod()-1\n",
    "cumreturn.plot()\n",
    "plt.title('A-B-C-D')\n",
    "plt.legend(loc='lower center',bbox_to_anchor = (0.5,-0.3),ncol = 5,fancybox = True,shadow = True)"
   ]
  },
  {
   "cell_type": "code",
   "execution_count": 9,
   "metadata": {},
   "outputs": [
    {
     "data": {
      "text/html": [
       "<div>\n",
       "<style scoped>\n",
       "    .dataframe tbody tr th:only-of-type {\n",
       "        vertical-align: middle;\n",
       "    }\n",
       "\n",
       "    .dataframe tbody tr th {\n",
       "        vertical-align: top;\n",
       "    }\n",
       "\n",
       "    .dataframe thead th {\n",
       "        text-align: right;\n",
       "    }\n",
       "</style>\n",
       "<table border=\"1\" class=\"dataframe\">\n",
       "  <thead>\n",
       "    <tr style=\"text-align: right;\">\n",
       "      <th></th>\n",
       "      <th>A</th>\n",
       "      <th>B</th>\n",
       "      <th>C</th>\n",
       "      <th>D</th>\n",
       "    </tr>\n",
       "  </thead>\n",
       "  <tbody>\n",
       "    <tr>\n",
       "      <td>A</td>\n",
       "      <td>1.000000</td>\n",
       "      <td>0.072610</td>\n",
       "      <td>0.210182</td>\n",
       "      <td>0.155395</td>\n",
       "    </tr>\n",
       "    <tr>\n",
       "      <td>B</td>\n",
       "      <td>0.072610</td>\n",
       "      <td>1.000000</td>\n",
       "      <td>0.199095</td>\n",
       "      <td>0.235830</td>\n",
       "    </tr>\n",
       "    <tr>\n",
       "      <td>C</td>\n",
       "      <td>0.210182</td>\n",
       "      <td>0.199095</td>\n",
       "      <td>1.000000</td>\n",
       "      <td>0.205023</td>\n",
       "    </tr>\n",
       "    <tr>\n",
       "      <td>D</td>\n",
       "      <td>0.155395</td>\n",
       "      <td>0.235830</td>\n",
       "      <td>0.205023</td>\n",
       "      <td>1.000000</td>\n",
       "    </tr>\n",
       "  </tbody>\n",
       "</table>\n",
       "</div>"
      ],
      "text/plain": [
       "          A         B         C         D\n",
       "A  1.000000  0.072610  0.210182  0.155395\n",
       "B  0.072610  1.000000  0.199095  0.235830\n",
       "C  0.210182  0.199095  1.000000  0.205023\n",
       "D  0.155395  0.235830  0.205023  1.000000"
      ]
     },
     "execution_count": 9,
     "metadata": {},
     "output_type": "execute_result"
    }
   ],
   "source": [
    "retData = retData.dropna()\n",
    "retData.corr()"
   ]
  },
  {
   "cell_type": "code",
   "execution_count": 10,
   "metadata": {},
   "outputs": [],
   "source": [
    "train_set = retData['2014-01-02':'2015-12-31']\n",
    "test_sey = retData['2016']"
   ]
  },
  {
   "cell_type": "code",
   "execution_count": 11,
   "metadata": {},
   "outputs": [],
   "source": [
    "# 共變異數矩陣\n",
    "cov_mat = train_set.cov()\n",
    "# 收益率均值\n",
    "avg_rets= train_set.mean()"
   ]
  },
  {
   "cell_type": "markdown",
   "metadata": {},
   "source": [
    "<font size=6>**function**</font>"
   ]
  },
  {
   "cell_type": "code",
   "execution_count": 25,
   "metadata": {},
   "outputs": [],
   "source": [
    "def blacklitterman(returns,tau, P, Q):\n",
    "    mu=returns.mean()\n",
    "    \n",
    "    sigma=returns.cov()\n",
    "    \n",
    "    pi1=mu\n",
    "    \n",
    "    ts = tau * sigma\n",
    "\n",
    "    Omega = np.dot(np.dot(P,ts),P.T) * np.eye(Q.shape[0])\n",
    "\n",
    "    middle = np.linalg.inv(np.dot(np.dot(P,ts),P.T) + Omega)  \n",
    "\n",
    "    er = np.expand_dims(pi1,axis=0).T + np.dot(np.dot(np.dot(ts,P.T),middle),(Q - np.expand_dims(np.dot(P,pi1.T),axis=1)))\n",
    "\n",
    "    posteriorSigma = sigma + ts - np.dot(ts.dot(P.T).dot(middle).dot(P),ts)\n",
    "\n",
    "    return [er, posteriorSigma]"
   ]
  },
  {
   "cell_type": "code",
   "execution_count": 27,
   "metadata": {},
   "outputs": [
    {
     "name": "stdout",
     "output_type": "stream",
     "text": [
      "[[ 1  0  0  0]\n",
      " [ 0 -1  0  1]\n",
      " [ 1  0 -1  0]]\n",
      "[[0.6]\n",
      " [0.2]\n",
      " [0.3]]\n"
     ]
    },
    {
     "data": {
      "text/html": [
       "<div>\n",
       "<style scoped>\n",
       "    .dataframe tbody tr th:only-of-type {\n",
       "        vertical-align: middle;\n",
       "    }\n",
       "\n",
       "    .dataframe tbody tr th {\n",
       "        vertical-align: top;\n",
       "    }\n",
       "\n",
       "    .dataframe thead th {\n",
       "        text-align: right;\n",
       "    }\n",
       "</style>\n",
       "<table border=\"1\" class=\"dataframe\">\n",
       "  <thead>\n",
       "    <tr style=\"text-align: right;\">\n",
       "      <th></th>\n",
       "      <th>posterior_mean</th>\n",
       "    </tr>\n",
       "  </thead>\n",
       "  <tbody>\n",
       "    <tr>\n",
       "      <td>A</td>\n",
       "      <td>0.305914</td>\n",
       "    </tr>\n",
       "    <tr>\n",
       "      <td>B</td>\n",
       "      <td>-0.058739</td>\n",
       "    </tr>\n",
       "    <tr>\n",
       "      <td>C</td>\n",
       "      <td>0.083899</td>\n",
       "    </tr>\n",
       "    <tr>\n",
       "      <td>D</td>\n",
       "      <td>0.031793</td>\n",
       "    </tr>\n",
       "  </tbody>\n",
       "</table>\n",
       "</div>"
      ],
      "text/plain": [
       "   posterior_mean\n",
       "A        0.305914\n",
       "B       -0.058739\n",
       "C        0.083899\n",
       "D        0.031793"
      ]
     },
     "execution_count": 27,
     "metadata": {},
     "output_type": "execute_result"
    }
   ],
   "source": [
    "pick1 = np.array([1,0,0,0])\n",
    "q1 = np.array([0.6])\n",
    "pick2 = np.array([0,-1,0,1])\n",
    "q2 = np.array([0.2])\n",
    "pick3 = np.array([1,0,-1,0])\n",
    "q3 = np.array([0.3])\n",
    "P = np.array([pick1,pick2,pick3])\n",
    "Q = np.array([q1,q2,q3])\n",
    "print(P)\n",
    "print(Q)\n",
    "res = blacklitterman(retData,0.1,P,Q)\n",
    "p_mean = pd.DataFrame(res[0],index =reData.columns,columns=['posterior_mean'])\n",
    "p_mean"
   ]
  },
  {
   "cell_type": "code",
   "execution_count": 28,
   "metadata": {},
   "outputs": [
    {
     "data": {
      "text/html": [
       "<div>\n",
       "<style scoped>\n",
       "    .dataframe tbody tr th:only-of-type {\n",
       "        vertical-align: middle;\n",
       "    }\n",
       "\n",
       "    .dataframe tbody tr th {\n",
       "        vertical-align: top;\n",
       "    }\n",
       "\n",
       "    .dataframe thead th {\n",
       "        text-align: right;\n",
       "    }\n",
       "</style>\n",
       "<table border=\"1\" class=\"dataframe\">\n",
       "  <thead>\n",
       "    <tr style=\"text-align: right;\">\n",
       "      <th></th>\n",
       "      <th>A</th>\n",
       "      <th>B</th>\n",
       "      <th>C</th>\n",
       "      <th>D</th>\n",
       "    </tr>\n",
       "  </thead>\n",
       "  <tbody>\n",
       "    <tr>\n",
       "      <td>A</td>\n",
       "      <td>3.818413</td>\n",
       "      <td>0.267746</td>\n",
       "      <td>0.950288</td>\n",
       "      <td>0.413263</td>\n",
       "    </tr>\n",
       "    <tr>\n",
       "      <td>B</td>\n",
       "      <td>0.267746</td>\n",
       "      <td>3.390146</td>\n",
       "      <td>0.807306</td>\n",
       "      <td>0.644438</td>\n",
       "    </tr>\n",
       "    <tr>\n",
       "      <td>C</td>\n",
       "      <td>0.950288</td>\n",
       "      <td>0.807306</td>\n",
       "      <td>4.894424</td>\n",
       "      <td>0.620502</td>\n",
       "    </tr>\n",
       "    <tr>\n",
       "      <td>D</td>\n",
       "      <td>0.413263</td>\n",
       "      <td>0.644438</td>\n",
       "      <td>0.620502</td>\n",
       "      <td>1.880182</td>\n",
       "    </tr>\n",
       "  </tbody>\n",
       "</table>\n",
       "</div>"
      ],
      "text/plain": [
       "          A         B         C         D\n",
       "A  3.818413  0.267746  0.950288  0.413263\n",
       "B  0.267746  3.390146  0.807306  0.644438\n",
       "C  0.950288  0.807306  4.894424  0.620502\n",
       "D  0.413263  0.644438  0.620502  1.880182"
      ]
     },
     "execution_count": 28,
     "metadata": {},
     "output_type": "execute_result"
    }
   ],
   "source": [
    "p_cov = res[1]\n",
    "p_cov"
   ]
  }
 ],
 "metadata": {
  "kernelspec": {
   "display_name": "Python 3",
   "language": "python",
   "name": "python3"
  },
  "language_info": {
   "codemirror_mode": {
    "name": "ipython",
    "version": 3
   },
   "file_extension": ".py",
   "mimetype": "text/x-python",
   "name": "python",
   "nbconvert_exporter": "python",
   "pygments_lexer": "ipython3",
   "version": "3.7.4"
  }
 },
 "nbformat": 4,
 "nbformat_minor": 2
}
