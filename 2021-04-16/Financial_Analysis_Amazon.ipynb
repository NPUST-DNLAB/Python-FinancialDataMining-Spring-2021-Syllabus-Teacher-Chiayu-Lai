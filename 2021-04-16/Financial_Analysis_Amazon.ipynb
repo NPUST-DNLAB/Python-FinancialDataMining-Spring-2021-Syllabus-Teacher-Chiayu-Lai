{
 "cells": [
  {
   "cell_type": "code",
   "execution_count": 63,
   "metadata": {
    "tags": []
   },
   "outputs": [],
   "source": [
    "import pandas as pd\n",
    "import requests\n",
    "import yfinance as yf\n",
    "import datetime \n",
    "import warnings\n",
    "warnings.filterwarnings(\"ignore\")"
   ]
  },
  {
   "cell_type": "code",
   "execution_count": 29,
   "metadata": {},
   "outputs": [
    {
     "name": "stdout",
     "output_type": "stream",
     "text": [
      "[*********************100%***********************]  2 of 2 completed\n",
      "                   AMZN                                                      \\\n",
      "                   Open         High          Low        Close    Adj Close   \n",
      "Date                                                                          \n",
      "2019-01-02  1465.199951  1553.359985  1460.930054  1539.130005  1539.130005   \n",
      "2019-01-03  1520.010010  1538.000000  1497.109985  1500.280029  1500.280029   \n",
      "2019-01-04  1530.000000  1594.000000  1518.310059  1575.390015  1575.390015   \n",
      "2019-01-07  1602.310059  1634.560059  1589.189941  1629.510010  1629.510010   \n",
      "2019-01-08  1664.689941  1676.609985  1616.609985  1656.579956  1656.579956   \n",
      "...                 ...          ...          ...          ...          ...   \n",
      "2021-03-25  3072.989990  3109.780029  3037.139893  3046.260010  3046.260010   \n",
      "2021-03-26  3044.060059  3056.659912  2996.000000  3052.030029  3052.030029   \n",
      "2021-03-29  3055.439941  3091.250000  3028.449951  3075.729980  3075.729980   \n",
      "2021-03-30  3070.010010  3073.000000  3034.000000  3055.290039  3055.290039   \n",
      "2021-03-31  3064.060059  3119.330078  3062.500000  3094.080078  3094.080078   \n",
      "\n",
      "                           MSFT                                      \\\n",
      "             Volume        Open        High         Low       Close   \n",
      "Date                                                                  \n",
      "2019-01-02  7983100   99.550003  101.750000   98.940002  101.120003   \n",
      "2019-01-03  6975600  100.099998  100.190002   97.199997   97.400002   \n",
      "2019-01-04  9182600   99.720001  102.510002   98.930000  101.930000   \n",
      "2019-01-07  7993200  101.639999  103.269997  100.980003  102.059998   \n",
      "2019-01-08  8881400  103.040001  103.970001  101.709999  102.800003   \n",
      "...             ...         ...         ...         ...         ...   \n",
      "2021-03-25  3563500  235.300003  236.940002  231.570007  232.339996   \n",
      "2021-03-26  3306700  231.550003  236.710007  231.550003  236.479996   \n",
      "2021-03-29  2746000  236.589996  236.800003  231.880005  235.240005   \n",
      "2021-03-30  2337600  233.529999  233.850006  231.100006  231.850006   \n",
      "2021-03-31  3093900  232.910004  239.100006  232.389999  235.770004   \n",
      "\n",
      "                                  \n",
      "             Adj Close    Volume  \n",
      "Date                              \n",
      "2019-01-02   98.375481  35329300  \n",
      "2019-01-03   94.756454  42579100  \n",
      "2019-01-04   99.163513  44060600  \n",
      "2019-01-07   99.289970  35656100  \n",
      "2019-01-08  100.009888  31514400  \n",
      "...                ...       ...  \n",
      "2021-03-25  232.339996  34061900  \n",
      "2021-03-26  236.479996  25471700  \n",
      "2021-03-29  235.240005  25227500  \n",
      "2021-03-30  231.850006  24792000  \n",
      "2021-03-31  235.770004  43623500  \n",
      "\n",
      "[566 rows x 12 columns]\n",
      "                   Open         High          Low        Close    Adj Close  \\\n",
      "Date                                                                          \n",
      "2019-01-02  1465.199951  1553.359985  1460.930054  1539.130005  1539.130005   \n",
      "2019-01-03  1520.010010  1538.000000  1497.109985  1500.280029  1500.280029   \n",
      "2019-01-04  1530.000000  1594.000000  1518.310059  1575.390015  1575.390015   \n",
      "2019-01-07  1602.310059  1634.560059  1589.189941  1629.510010  1629.510010   \n",
      "2019-01-08  1664.689941  1676.609985  1616.609985  1656.579956  1656.579956   \n",
      "...                 ...          ...          ...          ...          ...   \n",
      "2021-03-25  3072.989990  3109.780029  3037.139893  3046.260010  3046.260010   \n",
      "2021-03-26  3044.060059  3056.659912  2996.000000  3052.030029  3052.030029   \n",
      "2021-03-29  3055.439941  3091.250000  3028.449951  3075.729980  3075.729980   \n",
      "2021-03-30  3070.010010  3073.000000  3034.000000  3055.290039  3055.290039   \n",
      "2021-03-31  3064.060059  3119.330078  3062.500000  3094.080078  3094.080078   \n",
      "\n",
      "             Volume  \n",
      "Date                 \n",
      "2019-01-02  7983100  \n",
      "2019-01-03  6975600  \n",
      "2019-01-04  9182600  \n",
      "2019-01-07  7993200  \n",
      "2019-01-08  8881400  \n",
      "...             ...  \n",
      "2021-03-25  3563500  \n",
      "2021-03-26  3306700  \n",
      "2021-03-29  2746000  \n",
      "2021-03-30  2337600  \n",
      "2021-03-31  3093900  \n",
      "\n",
      "[566 rows x 6 columns]\n"
     ]
    }
   ],
   "source": [
    "df = yf.download(\"AMZN MSFT\", start=\"2019-01-01\", end=\"2021-04-01\",group_by=\"ticker\") \n",
    "print(df) \n",
    "print(df.AMZN)"
   ]
  },
  {
   "cell_type": "code",
   "execution_count": 30,
   "metadata": {
    "jupyter": {
     "source_hidden": true
    },
    "tags": []
   },
   "outputs": [],
   "source": [
    "Amazon=df.AMZN"
   ]
  },
  {
   "cell_type": "code",
   "execution_count": 31,
   "metadata": {},
   "outputs": [],
   "source": [
    "Amazon=df.AMZN"
   ]
  },
  {
   "cell_type": "code",
   "execution_count": 33,
   "metadata": {
    "tags": []
   },
   "outputs": [
    {
     "data": {
      "text/html": [
       "<div>\n",
       "<style scoped>\n",
       "    .dataframe tbody tr th:only-of-type {\n",
       "        vertical-align: middle;\n",
       "    }\n",
       "\n",
       "    .dataframe tbody tr th {\n",
       "        vertical-align: top;\n",
       "    }\n",
       "\n",
       "    .dataframe thead th {\n",
       "        text-align: right;\n",
       "    }\n",
       "</style>\n",
       "<table border=\"1\" class=\"dataframe\">\n",
       "  <thead>\n",
       "    <tr style=\"text-align: right;\">\n",
       "      <th></th>\n",
       "      <th>Open</th>\n",
       "      <th>High</th>\n",
       "      <th>Low</th>\n",
       "      <th>Close</th>\n",
       "      <th>Adj Close</th>\n",
       "      <th>Volume</th>\n",
       "    </tr>\n",
       "  </thead>\n",
       "  <tbody>\n",
       "    <tr>\n",
       "      <th>count</th>\n",
       "      <td>566.000000</td>\n",
       "      <td>566.000000</td>\n",
       "      <td>566.000000</td>\n",
       "      <td>566.000000</td>\n",
       "      <td>566.000000</td>\n",
       "      <td>5.660000e+02</td>\n",
       "    </tr>\n",
       "    <tr>\n",
       "      <th>mean</th>\n",
       "      <td>2337.072810</td>\n",
       "      <td>2362.984060</td>\n",
       "      <td>2308.613975</td>\n",
       "      <td>2336.601958</td>\n",
       "      <td>2336.601958</td>\n",
       "      <td>4.318077e+06</td>\n",
       "    </tr>\n",
       "    <tr>\n",
       "      <th>std</th>\n",
       "      <td>635.977150</td>\n",
       "      <td>645.278551</td>\n",
       "      <td>622.655254</td>\n",
       "      <td>632.787789</td>\n",
       "      <td>632.787789</td>\n",
       "      <td>1.822480e+06</td>\n",
       "    </tr>\n",
       "    <tr>\n",
       "      <th>min</th>\n",
       "      <td>1465.199951</td>\n",
       "      <td>1538.000000</td>\n",
       "      <td>1460.930054</td>\n",
       "      <td>1500.280029</td>\n",
       "      <td>1500.280029</td>\n",
       "      <td>8.813000e+05</td>\n",
       "    </tr>\n",
       "    <tr>\n",
       "      <th>25%</th>\n",
       "      <td>1796.057495</td>\n",
       "      <td>1805.802521</td>\n",
       "      <td>1782.105011</td>\n",
       "      <td>1794.562531</td>\n",
       "      <td>1794.562531</td>\n",
       "      <td>3.025675e+06</td>\n",
       "    </tr>\n",
       "    <tr>\n",
       "      <th>50%</th>\n",
       "      <td>1948.400024</td>\n",
       "      <td>1976.500000</td>\n",
       "      <td>1930.260010</td>\n",
       "      <td>1958.974976</td>\n",
       "      <td>1958.974976</td>\n",
       "      <td>3.916400e+06</td>\n",
       "    </tr>\n",
       "    <tr>\n",
       "      <th>75%</th>\n",
       "      <td>3100.875000</td>\n",
       "      <td>3134.184998</td>\n",
       "      <td>3065.409973</td>\n",
       "      <td>3097.574890</td>\n",
       "      <td>3097.574890</td>\n",
       "      <td>5.114300e+06</td>\n",
       "    </tr>\n",
       "    <tr>\n",
       "      <th>max</th>\n",
       "      <td>3547.000000</td>\n",
       "      <td>3552.250000</td>\n",
       "      <td>3486.689941</td>\n",
       "      <td>3531.449951</td>\n",
       "      <td>3531.449951</td>\n",
       "      <td>1.556730e+07</td>\n",
       "    </tr>\n",
       "  </tbody>\n",
       "</table>\n",
       "</div>"
      ],
      "text/plain": [
       "              Open         High          Low        Close    Adj Close  \\\n",
       "count   566.000000   566.000000   566.000000   566.000000   566.000000   \n",
       "mean   2337.072810  2362.984060  2308.613975  2336.601958  2336.601958   \n",
       "std     635.977150   645.278551   622.655254   632.787789   632.787789   \n",
       "min    1465.199951  1538.000000  1460.930054  1500.280029  1500.280029   \n",
       "25%    1796.057495  1805.802521  1782.105011  1794.562531  1794.562531   \n",
       "50%    1948.400024  1976.500000  1930.260010  1958.974976  1958.974976   \n",
       "75%    3100.875000  3134.184998  3065.409973  3097.574890  3097.574890   \n",
       "max    3547.000000  3552.250000  3486.689941  3531.449951  3531.449951   \n",
       "\n",
       "             Volume  \n",
       "count  5.660000e+02  \n",
       "mean   4.318077e+06  \n",
       "std    1.822480e+06  \n",
       "min    8.813000e+05  \n",
       "25%    3.025675e+06  \n",
       "50%    3.916400e+06  \n",
       "75%    5.114300e+06  \n",
       "max    1.556730e+07  "
      ]
     },
     "execution_count": 33,
     "metadata": {},
     "output_type": "execute_result"
    }
   ],
   "source": [
    "Amazon.describe()"
   ]
  },
  {
   "cell_type": "code",
   "execution_count": 36,
   "metadata": {},
   "outputs": [
    {
     "data": {
      "text/plain": [
       "Date\n",
       "2019-01-02    1500.280029\n",
       "2019-01-03    1575.390015\n",
       "2019-01-04    1629.510010\n",
       "2019-01-07    1656.579956\n",
       "2019-01-08    1659.420044\n",
       "                 ...     \n",
       "2021-03-25    3052.030029\n",
       "2021-03-26    3075.729980\n",
       "2021-03-29    3055.290039\n",
       "2021-03-30    3094.080078\n",
       "2021-03-31            NaN\n",
       "Name: Close, Length: 566, dtype: float64"
      ]
     },
     "execution_count": 36,
     "metadata": {},
     "output_type": "execute_result"
    }
   ],
   "source": [
    "Amazon['Close'].shift(-1)"
   ]
  },
  {
   "cell_type": "code",
   "execution_count": 37,
   "metadata": {},
   "outputs": [
    {
     "name": "stderr",
     "output_type": "stream",
     "text": [
      "/home/dnlab_admin/anaconda3/envs/jupyterhub37/lib/python3.7/site-packages/ipykernel_launcher.py:1: SettingWithCopyWarning: \n",
      "A value is trying to be set on a copy of a slice from a DataFrame.\n",
      "Try using .loc[row_indexer,col_indexer] = value instead\n",
      "\n",
      "See the caveats in the documentation: https://pandas.pydata.org/pandas-docs/stable/user_guide/indexing.html#returning-a-view-versus-a-copy\n",
      "  \"\"\"Entry point for launching an IPython kernel.\n"
     ]
    }
   ],
   "source": [
    "Amazon['price1']=Amazon['Close'].shift(-1)"
   ]
  },
  {
   "cell_type": "code",
   "execution_count": 38,
   "metadata": {},
   "outputs": [
    {
     "data": {
      "text/html": [
       "<div>\n",
       "<style scoped>\n",
       "    .dataframe tbody tr th:only-of-type {\n",
       "        vertical-align: middle;\n",
       "    }\n",
       "\n",
       "    .dataframe tbody tr th {\n",
       "        vertical-align: top;\n",
       "    }\n",
       "\n",
       "    .dataframe thead th {\n",
       "        text-align: right;\n",
       "    }\n",
       "</style>\n",
       "<table border=\"1\" class=\"dataframe\">\n",
       "  <thead>\n",
       "    <tr style=\"text-align: right;\">\n",
       "      <th></th>\n",
       "      <th>Open</th>\n",
       "      <th>High</th>\n",
       "      <th>Low</th>\n",
       "      <th>Close</th>\n",
       "      <th>Adj Close</th>\n",
       "      <th>Volume</th>\n",
       "      <th>price1</th>\n",
       "    </tr>\n",
       "    <tr>\n",
       "      <th>Date</th>\n",
       "      <th></th>\n",
       "      <th></th>\n",
       "      <th></th>\n",
       "      <th></th>\n",
       "      <th></th>\n",
       "      <th></th>\n",
       "      <th></th>\n",
       "    </tr>\n",
       "  </thead>\n",
       "  <tbody>\n",
       "    <tr>\n",
       "      <th>2019-01-02</th>\n",
       "      <td>1465.199951</td>\n",
       "      <td>1553.359985</td>\n",
       "      <td>1460.930054</td>\n",
       "      <td>1539.130005</td>\n",
       "      <td>1539.130005</td>\n",
       "      <td>7983100</td>\n",
       "      <td>1500.280029</td>\n",
       "    </tr>\n",
       "    <tr>\n",
       "      <th>2019-01-03</th>\n",
       "      <td>1520.010010</td>\n",
       "      <td>1538.000000</td>\n",
       "      <td>1497.109985</td>\n",
       "      <td>1500.280029</td>\n",
       "      <td>1500.280029</td>\n",
       "      <td>6975600</td>\n",
       "      <td>1575.390015</td>\n",
       "    </tr>\n",
       "    <tr>\n",
       "      <th>2019-01-04</th>\n",
       "      <td>1530.000000</td>\n",
       "      <td>1594.000000</td>\n",
       "      <td>1518.310059</td>\n",
       "      <td>1575.390015</td>\n",
       "      <td>1575.390015</td>\n",
       "      <td>9182600</td>\n",
       "      <td>1629.510010</td>\n",
       "    </tr>\n",
       "    <tr>\n",
       "      <th>2019-01-07</th>\n",
       "      <td>1602.310059</td>\n",
       "      <td>1634.560059</td>\n",
       "      <td>1589.189941</td>\n",
       "      <td>1629.510010</td>\n",
       "      <td>1629.510010</td>\n",
       "      <td>7993200</td>\n",
       "      <td>1656.579956</td>\n",
       "    </tr>\n",
       "    <tr>\n",
       "      <th>2019-01-08</th>\n",
       "      <td>1664.689941</td>\n",
       "      <td>1676.609985</td>\n",
       "      <td>1616.609985</td>\n",
       "      <td>1656.579956</td>\n",
       "      <td>1656.579956</td>\n",
       "      <td>8881400</td>\n",
       "      <td>1659.420044</td>\n",
       "    </tr>\n",
       "    <tr>\n",
       "      <th>...</th>\n",
       "      <td>...</td>\n",
       "      <td>...</td>\n",
       "      <td>...</td>\n",
       "      <td>...</td>\n",
       "      <td>...</td>\n",
       "      <td>...</td>\n",
       "      <td>...</td>\n",
       "    </tr>\n",
       "    <tr>\n",
       "      <th>2021-03-25</th>\n",
       "      <td>3072.989990</td>\n",
       "      <td>3109.780029</td>\n",
       "      <td>3037.139893</td>\n",
       "      <td>3046.260010</td>\n",
       "      <td>3046.260010</td>\n",
       "      <td>3563500</td>\n",
       "      <td>3052.030029</td>\n",
       "    </tr>\n",
       "    <tr>\n",
       "      <th>2021-03-26</th>\n",
       "      <td>3044.060059</td>\n",
       "      <td>3056.659912</td>\n",
       "      <td>2996.000000</td>\n",
       "      <td>3052.030029</td>\n",
       "      <td>3052.030029</td>\n",
       "      <td>3306700</td>\n",
       "      <td>3075.729980</td>\n",
       "    </tr>\n",
       "    <tr>\n",
       "      <th>2021-03-29</th>\n",
       "      <td>3055.439941</td>\n",
       "      <td>3091.250000</td>\n",
       "      <td>3028.449951</td>\n",
       "      <td>3075.729980</td>\n",
       "      <td>3075.729980</td>\n",
       "      <td>2746000</td>\n",
       "      <td>3055.290039</td>\n",
       "    </tr>\n",
       "    <tr>\n",
       "      <th>2021-03-30</th>\n",
       "      <td>3070.010010</td>\n",
       "      <td>3073.000000</td>\n",
       "      <td>3034.000000</td>\n",
       "      <td>3055.290039</td>\n",
       "      <td>3055.290039</td>\n",
       "      <td>2337600</td>\n",
       "      <td>3094.080078</td>\n",
       "    </tr>\n",
       "    <tr>\n",
       "      <th>2021-03-31</th>\n",
       "      <td>3064.060059</td>\n",
       "      <td>3119.330078</td>\n",
       "      <td>3062.500000</td>\n",
       "      <td>3094.080078</td>\n",
       "      <td>3094.080078</td>\n",
       "      <td>3093900</td>\n",
       "      <td>NaN</td>\n",
       "    </tr>\n",
       "  </tbody>\n",
       "</table>\n",
       "<p>566 rows × 7 columns</p>\n",
       "</div>"
      ],
      "text/plain": [
       "                   Open         High          Low        Close    Adj Close  \\\n",
       "Date                                                                          \n",
       "2019-01-02  1465.199951  1553.359985  1460.930054  1539.130005  1539.130005   \n",
       "2019-01-03  1520.010010  1538.000000  1497.109985  1500.280029  1500.280029   \n",
       "2019-01-04  1530.000000  1594.000000  1518.310059  1575.390015  1575.390015   \n",
       "2019-01-07  1602.310059  1634.560059  1589.189941  1629.510010  1629.510010   \n",
       "2019-01-08  1664.689941  1676.609985  1616.609985  1656.579956  1656.579956   \n",
       "...                 ...          ...          ...          ...          ...   \n",
       "2021-03-25  3072.989990  3109.780029  3037.139893  3046.260010  3046.260010   \n",
       "2021-03-26  3044.060059  3056.659912  2996.000000  3052.030029  3052.030029   \n",
       "2021-03-29  3055.439941  3091.250000  3028.449951  3075.729980  3075.729980   \n",
       "2021-03-30  3070.010010  3073.000000  3034.000000  3055.290039  3055.290039   \n",
       "2021-03-31  3064.060059  3119.330078  3062.500000  3094.080078  3094.080078   \n",
       "\n",
       "             Volume       price1  \n",
       "Date                              \n",
       "2019-01-02  7983100  1500.280029  \n",
       "2019-01-03  6975600  1575.390015  \n",
       "2019-01-04  9182600  1629.510010  \n",
       "2019-01-07  7993200  1656.579956  \n",
       "2019-01-08  8881400  1659.420044  \n",
       "...             ...          ...  \n",
       "2021-03-25  3563500  3052.030029  \n",
       "2021-03-26  3306700  3075.729980  \n",
       "2021-03-29  2746000  3055.290039  \n",
       "2021-03-30  2337600  3094.080078  \n",
       "2021-03-31  3093900          NaN  \n",
       "\n",
       "[566 rows x 7 columns]"
      ]
     },
     "execution_count": 38,
     "metadata": {},
     "output_type": "execute_result"
    }
   ],
   "source": [
    "Amazon"
   ]
  },
  {
   "cell_type": "code",
   "execution_count": 42,
   "metadata": {
    "tags": []
   },
   "outputs": [
    {
     "name": "stderr",
     "output_type": "stream",
     "text": [
      "/home/dnlab_admin/anaconda3/envs/jupyterhub37/lib/python3.7/site-packages/ipykernel_launcher.py:1: SettingWithCopyWarning: \n",
      "A value is trying to be set on a copy of a slice from a DataFrame.\n",
      "Try using .loc[row_indexer,col_indexer] = value instead\n",
      "\n",
      "See the caveats in the documentation: https://pandas.pydata.org/pandas-docs/stable/user_guide/indexing.html#returning-a-view-versus-a-copy\n",
      "  \"\"\"Entry point for launching an IPython kernel.\n"
     ]
    }
   ],
   "source": [
    "Amazon['priceDiff']=Amazon['price1']-Amazon['Close']"
   ]
  },
  {
   "cell_type": "code",
   "execution_count": 43,
   "metadata": {},
   "outputs": [
    {
     "name": "stderr",
     "output_type": "stream",
     "text": [
      "/home/dnlab_admin/anaconda3/envs/jupyterhub37/lib/python3.7/site-packages/ipykernel_launcher.py:1: SettingWithCopyWarning: \n",
      "A value is trying to be set on a copy of a slice from a DataFrame.\n",
      "Try using .loc[row_indexer,col_indexer] = value instead\n",
      "\n",
      "See the caveats in the documentation: https://pandas.pydata.org/pandas-docs/stable/user_guide/indexing.html#returning-a-view-versus-a-copy\n",
      "  \"\"\"Entry point for launching an IPython kernel.\n"
     ]
    }
   ],
   "source": [
    "Amazon['return']=Amazon['priceDiff']/Amazon['Close']"
   ]
  },
  {
   "cell_type": "code",
   "execution_count": 44,
   "metadata": {
    "tags": []
   },
   "outputs": [
    {
     "name": "stderr",
     "output_type": "stream",
     "text": [
      "/home/dnlab_admin/anaconda3/envs/jupyterhub37/lib/python3.7/site-packages/ipykernel_launcher.py:4: SettingWithCopyWarning: \n",
      "A value is trying to be set on a copy of a slice from a DataFrame.\n",
      "Try using .loc[row_indexer,col_indexer] = value instead\n",
      "\n",
      "See the caveats in the documentation: https://pandas.pydata.org/pandas-docs/stable/user_guide/indexing.html#returning-a-view-versus-a-copy\n",
      "  after removing the cwd from sys.path.\n"
     ]
    }
   ],
   "source": [
    "#List Comprehesion\n",
    "#Selecting data by row numbers (.iloc)\n",
    "#Selecting data by label or by a conditional statment (.loc)\n",
    "Amazon['direction']=[1 if Amazon.loc[ei,'priceDiff']>0 else -1 for ei in Amazon.index]"
   ]
  },
  {
   "cell_type": "code",
   "execution_count": 45,
   "metadata": {},
   "outputs": [
    {
     "name": "stderr",
     "output_type": "stream",
     "text": [
      "/home/dnlab_admin/anaconda3/envs/jupyterhub37/lib/python3.7/site-packages/ipykernel_launcher.py:2: SettingWithCopyWarning: \n",
      "A value is trying to be set on a copy of a slice from a DataFrame.\n",
      "Try using .loc[row_indexer,col_indexer] = value instead\n",
      "\n",
      "See the caveats in the documentation: https://pandas.pydata.org/pandas-docs/stable/user_guide/indexing.html#returning-a-view-versus-a-copy\n",
      "  \n"
     ]
    }
   ],
   "source": [
    "#MovingAverage\n",
    "Amazon['Avg3']=(Amazon['Close']+Amazon['Close'].shift(1)+Amazon['Close'].shift(2))/3"
   ]
  },
  {
   "cell_type": "code",
   "execution_count": 46,
   "metadata": {},
   "outputs": [],
   "source": [
    "#calculate moving average using rolling \n",
    "Amazon['MA40']=Amazon['Close'].rolling(40).mean()"
   ]
  },
  {
   "cell_type": "code",
   "execution_count": 47,
   "metadata": {},
   "outputs": [],
   "source": [
    "Amazon['MA200']=Amazon['Close'].rolling(200).mean()"
   ]
  },
  {
   "cell_type": "code",
   "execution_count": 48,
   "metadata": {},
   "outputs": [],
   "source": [
    "%matplotlib inline"
   ]
  },
  {
   "cell_type": "code",
   "execution_count": 51,
   "metadata": {},
   "outputs": [
    {
     "data": {
      "text/plain": [
       "<AxesSubplot:xlabel='Date'>"
      ]
     },
     "execution_count": 51,
     "metadata": {},
     "output_type": "execute_result"
    },
    {
     "data": {
      "image/png": "[encoded data removed]",
      "text/plain": [
       "<Figure size 432x288 with 1 Axes>"
      ]
     },
     "metadata": {
      "needs_background": "light"
     },
     "output_type": "display_data"
    }
   ],
   "source": [
    "Amazon['Close'].plot(legend=True)\n",
    "Amazon['MA40'].plot(legend=True)\n",
    "Amazon['MA200'].plot(legend=True)\n",
    "##\n",
    "#If MA40 is above MA200, some traders who we call trend-following traders,\n",
    "#they believe the stock price will move upwards for a while."
   ]
  },
  {
   "cell_type": "code",
   "execution_count": 52,
   "metadata": {},
   "outputs": [],
   "source": [
    "stock2419 = pd.read_csv('PythonBook_code_data/part4/027/2419.csv', sep='\\t')"
   ]
  },
  {
   "cell_type": "code",
   "execution_count": 53,
   "metadata": {},
   "outputs": [],
   "source": [
    "stock2419['price1']=stock2419['Close'].shift(-1)\n",
    "#PriceDiff = (close price of tomorrow - Close price of today)\n",
    "stock2419['priceDiff']=stock2419['price1']-stock2419['Close']\n",
    "#DailyReturn = PriceDiff/close price of today\n",
    "stock2419['return']=stock2419['priceDiff']/stock2419['Close']"
   ]
  },
  {
   "cell_type": "code",
   "execution_count": 54,
   "metadata": {},
   "outputs": [],
   "source": [
    "#List Comprehesion\n",
    "#Selecting data by row numbers (.iloc)\n",
    "#Selecting data by label or by a conditional statment (.loc)\n",
    "stock2419['direction']=[1 if stock2419.loc[ei,'priceDiff']>0 else -1 for ei in stock2419.index]"
   ]
  },
  {
   "cell_type": "code",
   "execution_count": 55,
   "metadata": {},
   "outputs": [],
   "source": [
    "#MovingAverage\n",
    "stock2419['Avg3']=(stock2419['Close']+stock2419['Close'].shift(1)+stock2419['Close'].shift(2))/3"
   ]
  },
  {
   "cell_type": "code",
   "execution_count": 56,
   "metadata": {},
   "outputs": [],
   "source": [
    "#calculate moving average using rolling \n",
    "stock2419['MA40']=stock2419['Close'].rolling(40).mean()"
   ]
  },
  {
   "cell_type": "code",
   "execution_count": 57,
   "metadata": {},
   "outputs": [],
   "source": [
    "stock2419['MA200']=stock2419['Close'].rolling(200).mean()"
   ]
  },
  {
   "cell_type": "code",
   "execution_count": 58,
   "metadata": {},
   "outputs": [],
   "source": [
    "%matplotlib inline"
   ]
  },
  {
   "cell_type": "code",
   "execution_count": 59,
   "metadata": {},
   "outputs": [],
   "source": [
    "stock2419.index = pd.to_datetime(stock2419.Date)"
   ]
  },
  {
   "cell_type": "code",
   "execution_count": 60,
   "metadata": {},
   "outputs": [
    {
     "data": {
      "text/plain": [
       "<AxesSubplot:xlabel='Date'>"
      ]
     },
     "execution_count": 60,
     "metadata": {},
     "output_type": "execute_result"
    },
    {
     "data": {
      "image/png": "[encoded data removed]",
      "text/plain": [
       "<Figure size 432x288 with 1 Axes>"
      ]
     },
     "metadata": {
      "needs_background": "light"
     },
     "output_type": "display_data"
    }
   ],
   "source": [
    "stock2419['Close'].plot(legend=True)\n",
    "stock2419['MA40'].plot(legend=True)\n",
    "stock2419['MA200'].plot(legend=True)\n",
    "##\n",
    "#If MA40 is above MA200, some traders who we call trend-following traders,\n",
    "#they believe the stock price will move upwards for a while."
   ]
  },
  {
   "cell_type": "code",
   "execution_count": 61,
   "metadata": {},
   "outputs": [
    {
     "data": {
      "text/html": [
       "<div>\n",
       "<style scoped>\n",
       "    .dataframe tbody tr th:only-of-type {\n",
       "        vertical-align: middle;\n",
       "    }\n",
       "\n",
       "    .dataframe tbody tr th {\n",
       "        vertical-align: top;\n",
       "    }\n",
       "\n",
       "    .dataframe thead th {\n",
       "        text-align: right;\n",
       "    }\n",
       "</style>\n",
       "<table border=\"1\" class=\"dataframe\">\n",
       "  <thead>\n",
       "    <tr style=\"text-align: right;\">\n",
       "      <th></th>\n",
       "      <th>Date</th>\n",
       "      <th>Close</th>\n",
       "      <th>Open</th>\n",
       "      <th>High</th>\n",
       "      <th>Low</th>\n",
       "      <th>Volume</th>\n",
       "      <th>ROI</th>\n",
       "      <th>price1</th>\n",
       "      <th>priceDiff</th>\n",
       "      <th>return</th>\n",
       "      <th>direction</th>\n",
       "      <th>Avg3</th>\n",
       "      <th>MA40</th>\n",
       "      <th>MA200</th>\n",
       "    </tr>\n",
       "    <tr>\n",
       "      <th>Date</th>\n",
       "      <th></th>\n",
       "      <th></th>\n",
       "      <th></th>\n",
       "      <th></th>\n",
       "      <th></th>\n",
       "      <th></th>\n",
       "      <th></th>\n",
       "      <th></th>\n",
       "      <th></th>\n",
       "      <th></th>\n",
       "      <th></th>\n",
       "      <th></th>\n",
       "      <th></th>\n",
       "      <th></th>\n",
       "    </tr>\n",
       "  </thead>\n",
       "  <tbody>\n",
       "    <tr>\n",
       "      <th>2014-01-02</th>\n",
       "      <td>2014-01-02</td>\n",
       "      <td>14.40</td>\n",
       "      <td>14.04</td>\n",
       "      <td>14.49</td>\n",
       "      <td>14.04</td>\n",
       "      <td>2612</td>\n",
       "      <td>2.5806</td>\n",
       "      <td>14.22</td>\n",
       "      <td>-0.18</td>\n",
       "      <td>-0.012500</td>\n",
       "      <td>-1</td>\n",
       "      <td>NaN</td>\n",
       "      <td>NaN</td>\n",
       "      <td>NaN</td>\n",
       "    </tr>\n",
       "    <tr>\n",
       "      <th>2014-01-03</th>\n",
       "      <td>2014-01-03</td>\n",
       "      <td>14.22</td>\n",
       "      <td>14.13</td>\n",
       "      <td>14.35</td>\n",
       "      <td>14.13</td>\n",
       "      <td>1138</td>\n",
       "      <td>-1.2579</td>\n",
       "      <td>14.04</td>\n",
       "      <td>-0.18</td>\n",
       "      <td>-0.012658</td>\n",
       "      <td>-1</td>\n",
       "      <td>NaN</td>\n",
       "      <td>NaN</td>\n",
       "      <td>NaN</td>\n",
       "    </tr>\n",
       "    <tr>\n",
       "      <th>2014-01-06</th>\n",
       "      <td>2014-01-06</td>\n",
       "      <td>14.04</td>\n",
       "      <td>14.22</td>\n",
       "      <td>14.35</td>\n",
       "      <td>13.99</td>\n",
       "      <td>1372</td>\n",
       "      <td>-1.2739</td>\n",
       "      <td>14.31</td>\n",
       "      <td>0.27</td>\n",
       "      <td>0.019231</td>\n",
       "      <td>1</td>\n",
       "      <td>14.220000</td>\n",
       "      <td>NaN</td>\n",
       "      <td>NaN</td>\n",
       "    </tr>\n",
       "    <tr>\n",
       "      <th>2014-01-07</th>\n",
       "      <td>2014-01-07</td>\n",
       "      <td>14.31</td>\n",
       "      <td>14.04</td>\n",
       "      <td>14.40</td>\n",
       "      <td>14.04</td>\n",
       "      <td>2741</td>\n",
       "      <td>1.9355</td>\n",
       "      <td>14.40</td>\n",
       "      <td>0.09</td>\n",
       "      <td>0.006289</td>\n",
       "      <td>1</td>\n",
       "      <td>14.190000</td>\n",
       "      <td>NaN</td>\n",
       "      <td>NaN</td>\n",
       "    </tr>\n",
       "    <tr>\n",
       "      <th>2014-01-08</th>\n",
       "      <td>2014-01-08</td>\n",
       "      <td>14.40</td>\n",
       "      <td>14.40</td>\n",
       "      <td>14.67</td>\n",
       "      <td>14.31</td>\n",
       "      <td>3891</td>\n",
       "      <td>0.6329</td>\n",
       "      <td>14.17</td>\n",
       "      <td>-0.23</td>\n",
       "      <td>-0.015972</td>\n",
       "      <td>-1</td>\n",
       "      <td>14.250000</td>\n",
       "      <td>NaN</td>\n",
       "      <td>NaN</td>\n",
       "    </tr>\n",
       "    <tr>\n",
       "      <th>...</th>\n",
       "      <td>...</td>\n",
       "      <td>...</td>\n",
       "      <td>...</td>\n",
       "      <td>...</td>\n",
       "      <td>...</td>\n",
       "      <td>...</td>\n",
       "      <td>...</td>\n",
       "      <td>...</td>\n",
       "      <td>...</td>\n",
       "      <td>...</td>\n",
       "      <td>...</td>\n",
       "      <td>...</td>\n",
       "      <td>...</td>\n",
       "      <td>...</td>\n",
       "    </tr>\n",
       "    <tr>\n",
       "      <th>2015-06-24</th>\n",
       "      <td>2015-06-24</td>\n",
       "      <td>12.60</td>\n",
       "      <td>12.74</td>\n",
       "      <td>12.78</td>\n",
       "      <td>12.55</td>\n",
       "      <td>317</td>\n",
       "      <td>-1.0909</td>\n",
       "      <td>12.55</td>\n",
       "      <td>-0.05</td>\n",
       "      <td>-0.003968</td>\n",
       "      <td>-1</td>\n",
       "      <td>12.646667</td>\n",
       "      <td>13.83025</td>\n",
       "      <td>14.62270</td>\n",
       "    </tr>\n",
       "    <tr>\n",
       "      <th>2015-06-25</th>\n",
       "      <td>2015-06-25</td>\n",
       "      <td>12.55</td>\n",
       "      <td>12.65</td>\n",
       "      <td>12.74</td>\n",
       "      <td>12.51</td>\n",
       "      <td>371</td>\n",
       "      <td>-0.3676</td>\n",
       "      <td>12.46</td>\n",
       "      <td>-0.09</td>\n",
       "      <td>-0.007171</td>\n",
       "      <td>-1</td>\n",
       "      <td>12.630000</td>\n",
       "      <td>13.76875</td>\n",
       "      <td>14.60460</td>\n",
       "    </tr>\n",
       "    <tr>\n",
       "      <th>2015-06-26</th>\n",
       "      <td>2015-06-26</td>\n",
       "      <td>12.46</td>\n",
       "      <td>12.55</td>\n",
       "      <td>12.65</td>\n",
       "      <td>12.41</td>\n",
       "      <td>343</td>\n",
       "      <td>-0.7380</td>\n",
       "      <td>12.32</td>\n",
       "      <td>-0.14</td>\n",
       "      <td>-0.011236</td>\n",
       "      <td>-1</td>\n",
       "      <td>12.536667</td>\n",
       "      <td>13.71200</td>\n",
       "      <td>14.58675</td>\n",
       "    </tr>\n",
       "    <tr>\n",
       "      <th>2015-06-29</th>\n",
       "      <td>2015-06-29</td>\n",
       "      <td>12.32</td>\n",
       "      <td>12.46</td>\n",
       "      <td>12.51</td>\n",
       "      <td>12.32</td>\n",
       "      <td>600</td>\n",
       "      <td>-1.1152</td>\n",
       "      <td>12.32</td>\n",
       "      <td>0.00</td>\n",
       "      <td>0.000000</td>\n",
       "      <td>-1</td>\n",
       "      <td>12.443333</td>\n",
       "      <td>13.65175</td>\n",
       "      <td>14.56800</td>\n",
       "    </tr>\n",
       "    <tr>\n",
       "      <th>2015-06-30</th>\n",
       "      <td>2015-06-30</td>\n",
       "      <td>12.32</td>\n",
       "      <td>12.32</td>\n",
       "      <td>12.51</td>\n",
       "      <td>12.32</td>\n",
       "      <td>342</td>\n",
       "      <td>0.0000</td>\n",
       "      <td>NaN</td>\n",
       "      <td>NaN</td>\n",
       "      <td>NaN</td>\n",
       "      <td>-1</td>\n",
       "      <td>12.366667</td>\n",
       "      <td>13.58350</td>\n",
       "      <td>14.54900</td>\n",
       "    </tr>\n",
       "  </tbody>\n",
       "</table>\n",
       "<p>364 rows × 14 columns</p>\n",
       "</div>"
      ],
      "text/plain": [
       "                  Date  Close   Open   High    Low  Volume     ROI  price1  \\\n",
       "Date                                                                         \n",
       "2014-01-02  2014-01-02  14.40  14.04  14.49  14.04    2612  2.5806   14.22   \n",
       "2014-01-03  2014-01-03  14.22  14.13  14.35  14.13    1138 -1.2579   14.04   \n",
       "2014-01-06  2014-01-06  14.04  14.22  14.35  13.99    1372 -1.2739   14.31   \n",
       "2014-01-07  2014-01-07  14.31  14.04  14.40  14.04    2741  1.9355   14.40   \n",
       "2014-01-08  2014-01-08  14.40  14.40  14.67  14.31    3891  0.6329   14.17   \n",
       "...                ...    ...    ...    ...    ...     ...     ...     ...   \n",
       "2015-06-24  2015-06-24  12.60  12.74  12.78  12.55     317 -1.0909   12.55   \n",
       "2015-06-25  2015-06-25  12.55  12.65  12.74  12.51     371 -0.3676   12.46   \n",
       "2015-06-26  2015-06-26  12.46  12.55  12.65  12.41     343 -0.7380   12.32   \n",
       "2015-06-29  2015-06-29  12.32  12.46  12.51  12.32     600 -1.1152   12.32   \n",
       "2015-06-30  2015-06-30  12.32  12.32  12.51  12.32     342  0.0000     NaN   \n",
       "\n",
       "            priceDiff    return  direction       Avg3      MA40     MA200  \n",
       "Date                                                                       \n",
       "2014-01-02      -0.18 -0.012500         -1        NaN       NaN       NaN  \n",
       "2014-01-03      -0.18 -0.012658         -1        NaN       NaN       NaN  \n",
       "2014-01-06       0.27  0.019231          1  14.220000       NaN       NaN  \n",
       "2014-01-07       0.09  0.006289          1  14.190000       NaN       NaN  \n",
       "2014-01-08      -0.23 -0.015972         -1  14.250000       NaN       NaN  \n",
       "...               ...       ...        ...        ...       ...       ...  \n",
       "2015-06-24      -0.05 -0.003968         -1  12.646667  13.83025  14.62270  \n",
       "2015-06-25      -0.09 -0.007171         -1  12.630000  13.76875  14.60460  \n",
       "2015-06-26      -0.14 -0.011236         -1  12.536667  13.71200  14.58675  \n",
       "2015-06-29       0.00  0.000000         -1  12.443333  13.65175  14.56800  \n",
       "2015-06-30        NaN       NaN         -1  12.366667  13.58350  14.54900  \n",
       "\n",
       "[364 rows x 14 columns]"
      ]
     },
     "execution_count": 61,
     "metadata": {},
     "output_type": "execute_result"
    }
   ],
   "source": [
    "stock2419"
   ]
  },
  {
   "cell_type": "code",
   "execution_count": null,
   "metadata": {},
   "outputs": [],
   "source": []
  }
 ],
 "metadata": {
  "kernelspec": {
   "display_name": "Python 3",
   "language": "python",
   "name": "python3"
  },
  "language_info": {
   "codemirror_mode": {
    "name": "ipython",
    "version": 3
   },
   "file_extension": ".py",
   "mimetype": "text/x-python",
   "name": "python",
   "nbconvert_exporter": "python",
   "pygments_lexer": "ipython3",
   "version": "3.7.4"
  }
 },
 "nbformat": 4,
 "nbformat_minor": 4
}
