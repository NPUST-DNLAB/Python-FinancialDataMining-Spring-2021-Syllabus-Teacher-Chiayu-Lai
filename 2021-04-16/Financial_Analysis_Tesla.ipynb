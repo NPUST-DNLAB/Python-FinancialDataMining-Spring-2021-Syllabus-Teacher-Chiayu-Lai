{
 "cells": [
  {
   "cell_type": "code",
   "execution_count": 27,
   "metadata": {},
   "outputs": [],
   "source": [
    "import pandas as pd\n",
    "from scipy.stats import norm\n",
    "import numpy as np\n",
    "import requests\n",
    "import yfinance as yf\n",
    "import datetime \n",
    "import warnings\n",
    "warnings.filterwarnings(\"ignore\")"
   ]
  },
  {
   "cell_type": "code",
   "execution_count": 6,
   "metadata": {},
   "outputs": [
    {
     "name": "stdout",
     "output_type": "stream",
     "text": [
      "[*********************100%***********************]  1 of 1 completed\n",
      "                  Open        High         Low       Close   Adj Close  \\\n",
      "Date                                                                     \n",
      "2018-12-31   67.557999   67.842003   65.052002   66.559998   66.559998   \n",
      "2019-01-02   61.220001   63.026001   59.759998   62.023998   62.023998   \n",
      "2019-01-03   61.400002   61.880001   59.476002   60.071999   60.071999   \n",
      "2019-01-04   61.200001   63.599998   60.546001   63.537998   63.537998   \n",
      "2019-01-07   64.344002   67.348000   63.549999   66.991997   66.991997   \n",
      "...                ...         ...         ...         ...         ...   \n",
      "2021-03-25  613.000000  645.500000  609.500000  640.390015  640.390015   \n",
      "2021-03-26  641.869995  643.820007  599.890015  618.710022  618.710022   \n",
      "2021-03-29  615.640015  616.479980  596.020020  611.289978  611.289978   \n",
      "2021-03-30  601.750000  637.659973  591.010010  635.619995  635.619995   \n",
      "2021-03-31  646.619995  672.000000  641.109985  667.929993  667.929993   \n",
      "\n",
      "              Volume  \n",
      "Date                  \n",
      "2018-12-31  31511500  \n",
      "2019-01-02  58293000  \n",
      "2019-01-03  34826000  \n",
      "2019-01-04  36970500  \n",
      "2019-01-07  37756000  \n",
      "...              ...  \n",
      "2021-03-25  39224900  \n",
      "2021-03-26  33778400  \n",
      "2021-03-29  28637000  \n",
      "2021-03-30  39432400  \n",
      "2021-03-31  33337300  \n",
      "\n",
      "[567 rows x 6 columns]\n"
     ]
    }
   ],
   "source": [
    "Tesla = yf.download(\"TSLA\", start=\"2019-01-01\", end=\"2021-04-01\",group_by=\"ticker\") \n",
    "print(Tesla)"
   ]
  },
  {
   "cell_type": "code",
   "execution_count": 9,
   "metadata": {},
   "outputs": [],
   "source": [
    "Tesla['price1']=Tesla['Close'].shift(-1)"
   ]
  },
  {
   "cell_type": "code",
   "execution_count": 10,
   "metadata": {},
   "outputs": [],
   "source": [
    "Tesla['priceDiff']=Tesla['price1']-Tesla['Close']"
   ]
  },
  {
   "cell_type": "code",
   "execution_count": 11,
   "metadata": {},
   "outputs": [],
   "source": [
    "Tesla['return']=Tesla['priceDiff']/Tesla['Close']"
   ]
  },
  {
   "cell_type": "code",
   "execution_count": 12,
   "metadata": {},
   "outputs": [],
   "source": [
    "Tesla['direction']=[1 if Tesla.loc[ei,'priceDiff']>0 else -1 for ei in Tesla.index]"
   ]
  },
  {
   "cell_type": "code",
   "execution_count": 19,
   "metadata": {},
   "outputs": [],
   "source": [
    "%matplotlib inline"
   ]
  },
  {
   "cell_type": "code",
   "execution_count": 20,
   "metadata": {},
   "outputs": [
    {
     "data": {
      "text/plain": [
       "<matplotlib.axes._subplots.AxesSubplot at 0x2d9ca696e88>"
      ]
     },
     "execution_count": 20,
     "metadata": {},
     "output_type": "execute_result"
    },
    {
     "data": {
      "image/png": "[encoded data removed]",
      "text/plain": [
       "<Figure size 432x288 with 1 Axes>"
      ]
     },
     "metadata": {
      "needs_background": "light"
     },
     "output_type": "display_data"
    }
   ],
   "source": [
    "Tesla['LogReturn'] = np.log(Tesla['Close']).shift(-1) - np.log(Tesla['Close'])\n",
    "Tesla['LogReturn'].hist(bins=50)"
   ]
  },
  {
   "cell_type": "code",
   "execution_count": 60,
   "metadata": {},
   "outputs": [],
   "source": [
    "#MovingAverage\n",
    "Tesla['Avg3']=(Tesla['Close']+Tesla['Close'].shift(1)+Tesla['Close'].shift(2))/3\n",
    "#calculate moving average using rolling \n",
    "Tesla['MA40']=Tesla['Close'].rolling(40).mean()\n",
    "Tesla['MA200']=Tesla['Close'].rolling(200).mean()"
   ]
  },
  {
   "cell_type": "code",
   "execution_count": 61,
   "metadata": {},
   "outputs": [
    {
     "data": {
      "text/plain": [
       "<matplotlib.axes._subplots.AxesSubplot at 0x2d9da546588>"
      ]
     },
     "execution_count": 61,
     "metadata": {},
     "output_type": "execute_result"
    },
    {
     "data": {
      "image/png": "[encoded data removed]",
      "text/plain": [
       "<Figure size 432x288 with 1 Axes>"
      ]
     },
     "metadata": {
      "needs_background": "light"
     },
     "output_type": "display_data"
    }
   ],
   "source": [
    "Tesla['Close'].plot(legend=True)\n",
    "Tesla['MA40'].plot(legend=True)\n",
    "Tesla['MA200'].plot(legend=True)\n",
    "##\n",
    "#If MA40 is above MA200, some traders who we call trend-following traders,\n",
    "#they believe the stock price will move upwards for a while."
   ]
  },
  {
   "cell_type": "markdown",
   "metadata": {},
   "source": [
    "-------------------------------"
   ]
  },
  {
   "cell_type": "code",
   "execution_count": 64,
   "metadata": {},
   "outputs": [
    {
     "name": "stdout",
     "output_type": "stream",
     "text": [
      "0.004074345595102235 0.0457006142533409\n"
     ]
    }
   ],
   "source": [
    "mu = Tesla['LogReturn'].mean()\n",
    "sigma = Tesla['LogReturn'].std(ddof=1)\n",
    "print(mu, sigma)"
   ]
  },
  {
   "cell_type": "code",
   "execution_count": 40,
   "metadata": {},
   "outputs": [
    {
     "name": "stdout",
     "output_type": "stream",
     "text": [
      "0.8963560309224917 0.6778496525699385\n",
      "The probability of rise over 100% in 220 day is\n",
      "0.12003198053302616\n",
      "The probability of droppong over 10% in 220 day is\n",
      "0.07079745156717171\n",
      "The probability of droppong over 20% in 220 day is\n",
      "0.05289566418065991\n",
      "The probability of droppong over 30% in 220 day is\n",
      "0.038787908873093066\n",
      "The probability of droppong over 40% in 220 day is\n",
      "0.027909017189078324\n",
      "The probability of droppong over 50% in 220 day is\n",
      "0.01970027552880955\n",
      "The probability of droppong over 60% in 220 day is\n",
      "0.01363942304082256\n",
      "The probability of droppong over 70% in 220 day is\n",
      "0.009260613865166882\n",
      "The probability of droppong over 80% in 220 day is\n",
      "0.006165023457469411\n",
      "The probability of droppong over 90% in 220 day is\n",
      "0.00402363173496019\n",
      "The probability of droppong over 100% in 220 day is\n",
      "0.00257414619263484\n"
     ]
    }
   ],
   "source": [
    "mu220 = 220*mu\n",
    "sigma220 = 220**0.5*sigma\n",
    "print(mu220, sigma220)\n",
    "\n",
    "print('The probability of rise over 10% in 220 day is')\n",
    "print(norm.cdf(0.1, mu220, sigma220))\n",
    "print('The probability of droppong over 10% in 220 day is')\n",
    "print(norm.cdf(-0.1, mu220, sigma220))\n",
    "print('The probability of droppong over 20% in 220 day is')\n",
    "print(norm.cdf(-0.2, mu220, sigma220))\n",
    "print('The probability of droppong over 30% in 220 day is')\n",
    "print(norm.cdf(-0.3, mu220, sigma220))\n",
    "print('The probability of droppong over 40% in 220 day is')\n",
    "print(norm.cdf(-0.4, mu220, sigma220))\n",
    "print('The probability of droppong over 50% in 220 day is')\n",
    "print(norm.cdf(-0.5, mu220, sigma220))\n",
    "print('The probability of droppong over 60% in 220 day is')\n",
    "print(norm.cdf(-0.6, mu220, sigma220))\n",
    "print('The probability of droppong over 70% in 220 day is')\n",
    "print(norm.cdf(-0.7, mu220, sigma220))\n",
    "print('The probability of droppong over 80% in 220 day is')\n",
    "print(norm.cdf(-0.8, mu220, sigma220))\n",
    "print('The probability of droppong over 90% in 220 day is')\n",
    "print(norm.cdf(-0.9, mu220, sigma220))\n",
    "print('The probability of droppong over 100% in 220 day is')\n",
    "print(norm.cdf(-1, mu220, sigma220))"
   ]
  },
  {
   "cell_type": "code",
   "execution_count": 43,
   "metadata": {},
   "outputs": [],
   "source": [
    "z_left = norm.ppf(0.1)\n",
    "z_right = norm.ppf(0.9)\n",
    "sample_mean = Tesla['LogReturn'].mean()\n",
    "sample_std = Tesla['LogReturn'].std(ddof=1)/(Tesla.shape[0])**0.5"
   ]
  },
  {
   "cell_type": "code",
   "execution_count": 44,
   "metadata": {},
   "outputs": [
    {
     "name": "stdout",
     "output_type": "stream",
     "text": [
      "Sample Mean is 0.004074345595102235\n",
      "----------------------------------------------------------------------\n",
      "80 confidence interval is\n",
      "0.0024590679156651354 0.005689623274539334\n"
     ]
    }
   ],
   "source": [
    "interval_left = sample_mean + z_left * sample_std\n",
    "interval_right = sample_mean + z_right * sample_std\n",
    "print(\"Sample Mean is\", sample_mean)\n",
    "print(\"----------------------------------------------------------------------\")\n",
    "print(\"80 confidence interval is\")\n",
    "print(interval_left, interval_right)"
   ]
  },
  {
   "cell_type": "code",
   "execution_count": 53,
   "metadata": {},
   "outputs": [
    {
     "name": "stdout",
     "output_type": "stream",
     "text": [
      "50.549735275255856\n",
      "-1.9599639845400545 1.9599639845400545\n",
      "At the significance level if： 0.05\n",
      "Shall we reject?： True\n"
     ]
    }
   ],
   "source": [
    "alpha = 0.05\n",
    "zleft = norm.ppf(alpha/2, 0, 1)\n",
    "zright = -zleft\n",
    "n = 567\n",
    "zhat = (sample_mean-0)/(sample_std/n**0.5)\n",
    "print(zhat)\n",
    "print(zleft, zright)\n",
    "print('At the significance level if：', alpha)\n",
    "print('Shall we reject?：', zhat > zright or zhat <zright)"
   ]
  }
 ],
 "metadata": {
  "kernelspec": {
   "display_name": "Python 3",
   "language": "python",
   "name": "python3"
  },
  "language_info": {
   "codemirror_mode": {
    "name": "ipython",
    "version": 3
   },
   "file_extension": ".py",
   "mimetype": "text/x-python",
   "name": "python",
   "nbconvert_exporter": "python",
   "pygments_lexer": "ipython3",
   "version": "3.7.4"
  }
 },
 "nbformat": 4,
 "nbformat_minor": 2
}
