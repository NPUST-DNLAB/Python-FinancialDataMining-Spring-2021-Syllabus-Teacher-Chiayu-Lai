{
 "cells": [
  {
   "cell_type": "code",
   "execution_count": 1,
   "metadata": {},
   "outputs": [],
   "source": [
    "import matplotlib.pyplot as plt\n",
    "import pandas as pd\n",
    "from scipy.stats import norm\n",
    "import numpy as np\n",
    "import requests\n",
    "import yfinance as yf\n",
    "import datetime \n",
    "import warnings\n",
    "\n",
    "warnings.filterwarnings(\"ignore\")\n",
    "\n",
    "%matplotlib inline"
   ]
  },
  {
   "cell_type": "markdown",
   "metadata": {},
   "source": [
    "---"
   ]
  },
  {
   "cell_type": "markdown",
   "metadata": {},
   "source": [
    "### Find your own Stock in the US market and Taiwan, download CSV to play In https://finance.yahoo.com/quote/CSV/history?period1=1428768000&period2=1554998400&interval=1d&filter=history&frequency=1d"
   ]
  },
  {
   "cell_type": "code",
   "execution_count": 2,
   "metadata": {},
   "outputs": [
    {
     "name": "stdout",
     "output_type": "stream",
     "text": [
      "[*********************100%***********************]  1 of 1 completed\n"
     ]
    }
   ],
   "source": [
    "# 數據從2010-06-29 到 2021-04-20，資料筆數共2721筆\n",
    "TSLAdf = yf.download(\"TSLA\", start=\"2010-06-29\", end=\"2021-04-20\",group_by=\"ticker\")"
   ]
  },
  {
   "cell_type": "markdown",
   "metadata": {},
   "source": [
    "---"
   ]
  },
  {
   "cell_type": "markdown",
   "metadata": {},
   "source": [
    "### Create a new column using List Comprehension - Direction"
   ]
  },
  {
   "cell_type": "code",
   "execution_count": 3,
   "metadata": {},
   "outputs": [],
   "source": [
    "Tesla = TSLAdf"
   ]
  },
  {
   "cell_type": "code",
   "execution_count": 4,
   "metadata": {},
   "outputs": [
    {
     "data": {
      "text/html": [
       "<div>\n",
       "<style scoped>\n",
       "    .dataframe tbody tr th:only-of-type {\n",
       "        vertical-align: middle;\n",
       "    }\n",
       "\n",
       "    .dataframe tbody tr th {\n",
       "        vertical-align: top;\n",
       "    }\n",
       "\n",
       "    .dataframe thead th {\n",
       "        text-align: right;\n",
       "    }\n",
       "</style>\n",
       "<table border=\"1\" class=\"dataframe\">\n",
       "  <thead>\n",
       "    <tr style=\"text-align: right;\">\n",
       "      <th></th>\n",
       "      <th>Open</th>\n",
       "      <th>High</th>\n",
       "      <th>Low</th>\n",
       "      <th>Close</th>\n",
       "      <th>Adj Close</th>\n",
       "      <th>Volume</th>\n",
       "    </tr>\n",
       "    <tr>\n",
       "      <th>Date</th>\n",
       "      <th></th>\n",
       "      <th></th>\n",
       "      <th></th>\n",
       "      <th></th>\n",
       "      <th></th>\n",
       "      <th></th>\n",
       "    </tr>\n",
       "  </thead>\n",
       "  <tbody>\n",
       "    <tr>\n",
       "      <td>2010-06-29</td>\n",
       "      <td>3.800000</td>\n",
       "      <td>5.000000</td>\n",
       "      <td>3.508000</td>\n",
       "      <td>4.778000</td>\n",
       "      <td>4.778000</td>\n",
       "      <td>93831500</td>\n",
       "    </tr>\n",
       "    <tr>\n",
       "      <td>2010-06-30</td>\n",
       "      <td>5.158000</td>\n",
       "      <td>6.084000</td>\n",
       "      <td>4.660000</td>\n",
       "      <td>4.766000</td>\n",
       "      <td>4.766000</td>\n",
       "      <td>85935500</td>\n",
       "    </tr>\n",
       "    <tr>\n",
       "      <td>2010-07-01</td>\n",
       "      <td>5.000000</td>\n",
       "      <td>5.184000</td>\n",
       "      <td>4.054000</td>\n",
       "      <td>4.392000</td>\n",
       "      <td>4.392000</td>\n",
       "      <td>41094000</td>\n",
       "    </tr>\n",
       "    <tr>\n",
       "      <td>2010-07-02</td>\n",
       "      <td>4.600000</td>\n",
       "      <td>4.620000</td>\n",
       "      <td>3.742000</td>\n",
       "      <td>3.840000</td>\n",
       "      <td>3.840000</td>\n",
       "      <td>25699000</td>\n",
       "    </tr>\n",
       "    <tr>\n",
       "      <td>2010-07-06</td>\n",
       "      <td>4.000000</td>\n",
       "      <td>4.000000</td>\n",
       "      <td>3.166000</td>\n",
       "      <td>3.222000</td>\n",
       "      <td>3.222000</td>\n",
       "      <td>34334500</td>\n",
       "    </tr>\n",
       "    <tr>\n",
       "      <td>...</td>\n",
       "      <td>...</td>\n",
       "      <td>...</td>\n",
       "      <td>...</td>\n",
       "      <td>...</td>\n",
       "      <td>...</td>\n",
       "      <td>...</td>\n",
       "    </tr>\n",
       "    <tr>\n",
       "      <td>2021-04-13</td>\n",
       "      <td>712.700012</td>\n",
       "      <td>763.000000</td>\n",
       "      <td>710.659973</td>\n",
       "      <td>762.320007</td>\n",
       "      <td>762.320007</td>\n",
       "      <td>44652800</td>\n",
       "    </tr>\n",
       "    <tr>\n",
       "      <td>2021-04-14</td>\n",
       "      <td>770.700012</td>\n",
       "      <td>780.789978</td>\n",
       "      <td>728.030029</td>\n",
       "      <td>732.229980</td>\n",
       "      <td>732.229980</td>\n",
       "      <td>49017400</td>\n",
       "    </tr>\n",
       "    <tr>\n",
       "      <td>2021-04-15</td>\n",
       "      <td>743.099976</td>\n",
       "      <td>743.690002</td>\n",
       "      <td>721.309998</td>\n",
       "      <td>738.849976</td>\n",
       "      <td>738.849976</td>\n",
       "      <td>27848900</td>\n",
       "    </tr>\n",
       "    <tr>\n",
       "      <td>2021-04-16</td>\n",
       "      <td>728.650024</td>\n",
       "      <td>749.409973</td>\n",
       "      <td>724.599976</td>\n",
       "      <td>739.780029</td>\n",
       "      <td>739.780029</td>\n",
       "      <td>27924000</td>\n",
       "    </tr>\n",
       "    <tr>\n",
       "      <td>2021-04-19</td>\n",
       "      <td>719.599976</td>\n",
       "      <td>725.400024</td>\n",
       "      <td>691.799988</td>\n",
       "      <td>714.630005</td>\n",
       "      <td>714.630005</td>\n",
       "      <td>39686200</td>\n",
       "    </tr>\n",
       "  </tbody>\n",
       "</table>\n",
       "<p>2720 rows × 6 columns</p>\n",
       "</div>"
      ],
      "text/plain": [
       "                  Open        High         Low       Close   Adj Close  \\\n",
       "Date                                                                     \n",
       "2010-06-29    3.800000    5.000000    3.508000    4.778000    4.778000   \n",
       "2010-06-30    5.158000    6.084000    4.660000    4.766000    4.766000   \n",
       "2010-07-01    5.000000    5.184000    4.054000    4.392000    4.392000   \n",
       "2010-07-02    4.600000    4.620000    3.742000    3.840000    3.840000   \n",
       "2010-07-06    4.000000    4.000000    3.166000    3.222000    3.222000   \n",
       "...                ...         ...         ...         ...         ...   \n",
       "2021-04-13  712.700012  763.000000  710.659973  762.320007  762.320007   \n",
       "2021-04-14  770.700012  780.789978  728.030029  732.229980  732.229980   \n",
       "2021-04-15  743.099976  743.690002  721.309998  738.849976  738.849976   \n",
       "2021-04-16  728.650024  749.409973  724.599976  739.780029  739.780029   \n",
       "2021-04-19  719.599976  725.400024  691.799988  714.630005  714.630005   \n",
       "\n",
       "              Volume  \n",
       "Date                  \n",
       "2010-06-29  93831500  \n",
       "2010-06-30  85935500  \n",
       "2010-07-01  41094000  \n",
       "2010-07-02  25699000  \n",
       "2010-07-06  34334500  \n",
       "...              ...  \n",
       "2021-04-13  44652800  \n",
       "2021-04-14  49017400  \n",
       "2021-04-15  27848900  \n",
       "2021-04-16  27924000  \n",
       "2021-04-19  39686200  \n",
       "\n",
       "[2720 rows x 6 columns]"
      ]
     },
     "execution_count": 4,
     "metadata": {},
     "output_type": "execute_result"
    }
   ],
   "source": [
    "Tesla"
   ]
  },
  {
   "cell_type": "code",
   "execution_count": 5,
   "metadata": {},
   "outputs": [
    {
     "data": {
      "text/html": [
       "<div>\n",
       "<style scoped>\n",
       "    .dataframe tbody tr th:only-of-type {\n",
       "        vertical-align: middle;\n",
       "    }\n",
       "\n",
       "    .dataframe tbody tr th {\n",
       "        vertical-align: top;\n",
       "    }\n",
       "\n",
       "    .dataframe thead th {\n",
       "        text-align: right;\n",
       "    }\n",
       "</style>\n",
       "<table border=\"1\" class=\"dataframe\">\n",
       "  <thead>\n",
       "    <tr style=\"text-align: right;\">\n",
       "      <th></th>\n",
       "      <th>Open</th>\n",
       "      <th>High</th>\n",
       "      <th>Low</th>\n",
       "      <th>Close</th>\n",
       "      <th>Adj Close</th>\n",
       "      <th>Volume</th>\n",
       "    </tr>\n",
       "  </thead>\n",
       "  <tbody>\n",
       "    <tr>\n",
       "      <td>count</td>\n",
       "      <td>2720.000000</td>\n",
       "      <td>2720.000000</td>\n",
       "      <td>2720.000000</td>\n",
       "      <td>2720.000000</td>\n",
       "      <td>2720.000000</td>\n",
       "      <td>2.720000e+03</td>\n",
       "    </tr>\n",
       "    <tr>\n",
       "      <td>mean</td>\n",
       "      <td>79.179181</td>\n",
       "      <td>80.922657</td>\n",
       "      <td>77.245340</td>\n",
       "      <td>79.218189</td>\n",
       "      <td>79.218189</td>\n",
       "      <td>3.186235e+07</td>\n",
       "    </tr>\n",
       "    <tr>\n",
       "      <td>std</td>\n",
       "      <td>144.675867</td>\n",
       "      <td>148.043636</td>\n",
       "      <td>140.637267</td>\n",
       "      <td>144.732708</td>\n",
       "      <td>144.732708</td>\n",
       "      <td>2.898633e+07</td>\n",
       "    </tr>\n",
       "    <tr>\n",
       "      <td>min</td>\n",
       "      <td>3.228000</td>\n",
       "      <td>3.326000</td>\n",
       "      <td>2.996000</td>\n",
       "      <td>3.160000</td>\n",
       "      <td>3.160000</td>\n",
       "      <td>5.925000e+05</td>\n",
       "    </tr>\n",
       "    <tr>\n",
       "      <td>25%</td>\n",
       "      <td>7.656500</td>\n",
       "      <td>7.795500</td>\n",
       "      <td>7.530000</td>\n",
       "      <td>7.658500</td>\n",
       "      <td>7.658500</td>\n",
       "      <td>1.168250e+07</td>\n",
       "    </tr>\n",
       "    <tr>\n",
       "      <td>50%</td>\n",
       "      <td>45.011000</td>\n",
       "      <td>45.743000</td>\n",
       "      <td>44.211000</td>\n",
       "      <td>44.967999</td>\n",
       "      <td>44.967999</td>\n",
       "      <td>2.526750e+07</td>\n",
       "    </tr>\n",
       "    <tr>\n",
       "      <td>75%</td>\n",
       "      <td>62.398499</td>\n",
       "      <td>63.282001</td>\n",
       "      <td>61.143002</td>\n",
       "      <td>62.251000</td>\n",
       "      <td>62.251000</td>\n",
       "      <td>4.108568e+07</td>\n",
       "    </tr>\n",
       "    <tr>\n",
       "      <td>max</td>\n",
       "      <td>891.380005</td>\n",
       "      <td>900.400024</td>\n",
       "      <td>871.599976</td>\n",
       "      <td>883.090027</td>\n",
       "      <td>883.090027</td>\n",
       "      <td>3.046940e+08</td>\n",
       "    </tr>\n",
       "  </tbody>\n",
       "</table>\n",
       "</div>"
      ],
      "text/plain": [
       "              Open         High          Low        Close    Adj Close  \\\n",
       "count  2720.000000  2720.000000  2720.000000  2720.000000  2720.000000   \n",
       "mean     79.179181    80.922657    77.245340    79.218189    79.218189   \n",
       "std     144.675867   148.043636   140.637267   144.732708   144.732708   \n",
       "min       3.228000     3.326000     2.996000     3.160000     3.160000   \n",
       "25%       7.656500     7.795500     7.530000     7.658500     7.658500   \n",
       "50%      45.011000    45.743000    44.211000    44.967999    44.967999   \n",
       "75%      62.398499    63.282001    61.143002    62.251000    62.251000   \n",
       "max     891.380005   900.400024   871.599976   883.090027   883.090027   \n",
       "\n",
       "             Volume  \n",
       "count  2.720000e+03  \n",
       "mean   3.186235e+07  \n",
       "std    2.898633e+07  \n",
       "min    5.925000e+05  \n",
       "25%    1.168250e+07  \n",
       "50%    2.526750e+07  \n",
       "75%    4.108568e+07  \n",
       "max    3.046940e+08  "
      ]
     },
     "execution_count": 5,
     "metadata": {},
     "output_type": "execute_result"
    }
   ],
   "source": [
    "Tesla.describe()"
   ]
  },
  {
   "cell_type": "code",
   "execution_count": 6,
   "metadata": {},
   "outputs": [],
   "source": [
    "Tesla['price1'] = Tesla['Close'].shift(-1)"
   ]
  },
  {
   "cell_type": "code",
   "execution_count": 7,
   "metadata": {},
   "outputs": [],
   "source": [
    "# 價格差異\n",
    "Tesla['PriceDiff'] = Tesla['price1'] - Tesla['Close']"
   ]
  },
  {
   "cell_type": "code",
   "execution_count": 8,
   "metadata": {},
   "outputs": [],
   "source": [
    "# 每日收益\n",
    "Tesla['Return'] = Tesla['PriceDiff' ] / Tesla['Close']"
   ]
  },
  {
   "cell_type": "code",
   "execution_count": 9,
   "metadata": {},
   "outputs": [],
   "source": [
    "# Creat Direction\n",
    "Tesla['Direction'] = [1 if Tesla.loc[ei, 'PriceDiff'] > 0 else -1\n",
    "                    for ei in Tesla.index]"
   ]
  },
  {
   "cell_type": "code",
   "execution_count": 10,
   "metadata": {},
   "outputs": [],
   "source": [
    "# Create a \"Moving average\"column\n",
    "Tesla['Average3'] = (Tesla['Close'] + Tesla['Close'].shift(1) + Tesla['Close'].shift(2)) / 3"
   ]
  },
  {
   "cell_type": "markdown",
   "metadata": {},
   "source": [
    "---"
   ]
  },
  {
   "cell_type": "markdown",
   "metadata": {},
   "source": [
    "### Create a new column using Rolling Window Calculation - Any days of Moving Average. [10, 20, 60] to do the trading strategy and see the performance and maximum your profits"
   ]
  },
  {
   "cell_type": "code",
   "execution_count": 11,
   "metadata": {},
   "outputs": [],
   "source": [
    "# In DataFrame, rolling() is a method to compute moving average over any number of days.\n",
    "Tesla['MA10'] = Tesla['Close'].rolling(10).mean()\n",
    "Tesla['MA20'] = Tesla['Close'].rolling(20).mean()\n",
    "Tesla['MA60'] = Tesla['Close'].rolling(60).mean()"
   ]
  },
  {
   "cell_type": "code",
   "execution_count": 12,
   "metadata": {},
   "outputs": [
    {
     "data": {
      "text/plain": [
       "<matplotlib.axes._subplots.AxesSubplot at 0x1cd779df4c8>"
      ]
     },
     "execution_count": 12,
     "metadata": {},
     "output_type": "execute_result"
    },
    {
     "data": {
      "image/png": "[encoded data removed]",
      "text/plain": [
       "<Figure size 432x288 with 1 Axes>"
      ]
     },
     "metadata": {
      "needs_background": "light"
     },
     "output_type": "display_data"
    }
   ],
   "source": [
    "Tesla['Close'].plot(legend=True)\n",
    "Tesla['MA10'].plot(legend=True)\n",
    "Tesla['MA20'].plot(legend=True)\n",
    "Tesla['MA60'].plot(legend=True)"
   ]
  },
  {
   "cell_type": "code",
   "execution_count": 13,
   "metadata": {},
   "outputs": [
    {
     "name": "stdout",
     "output_type": "stream",
     "text": [
      "Total money you win is  777.8860261440277\n",
      "Total money you spent is  4.7779998779296875\n"
     ]
    },
    {
     "data": {
      "image/png": "[encoded data removed]",
      "text/plain": [
       "<Figure size 432x288 with 1 Axes>"
      ]
     },
     "metadata": {
      "needs_background": "light"
     },
     "output_type": "display_data"
    }
   ],
   "source": [
    "# 交易策略10 - 20\n",
    "Tesla['Shares10-20'] = [1 if Tesla.loc[ei, 'MA10'] > Tesla.loc[ei, 'MA20'] else 0 \n",
    "                for ei in Tesla.index]\n",
    "\n",
    "Tesla['Profit10-20'] = [Tesla.loc[ei, 'price1'] - Tesla.loc[ei, 'Close']\n",
    "                if Tesla.loc[ei, 'Shares10-20'] == 1\n",
    "                else 0 for ei in Tesla.index]\n",
    "Tesla['Profit10-20'].plot()\n",
    "plt.axhline(y=0, color='red')\n",
    "\n",
    "Tesla['wealth10-20'] = Tesla['Profit10-20'].cumsum()\n",
    "Tesla.tail()\n",
    "\n",
    "print('Total money you win is ', Tesla.loc[Tesla.index[-2], 'wealth10-20'])\n",
    "print('Total money you spent is ', Tesla.loc[Tesla.index[0], 'Close'])"
   ]
  },
  {
   "cell_type": "code",
   "execution_count": 14,
   "metadata": {},
   "outputs": [
    {
     "name": "stdout",
     "output_type": "stream",
     "text": [
      "Total money you win is  552.2419791221619\n",
      "Total money you spent is  4.7779998779296875\n"
     ]
    },
    {
     "data": {
      "image/png": "[encoded data removed]",
      "text/plain": [
       "<Figure size 432x288 with 1 Axes>"
      ]
     },
     "metadata": {
      "needs_background": "light"
     },
     "output_type": "display_data"
    }
   ],
   "source": [
    "# 交易策略10 - 60\n",
    "Tesla['Shares10-60'] = [1 if Tesla.loc[ei, 'MA10'] > Tesla.loc[ei, 'MA60'] else 0 \n",
    "                for ei in Tesla.index]\n",
    "\n",
    "Tesla['Profit10-60'] = [Tesla.loc[ei, 'price1'] - Tesla.loc[ei, 'Close']\n",
    "                if Tesla.loc[ei, 'Shares10-60'] == 1\n",
    "                else 0 for ei in Tesla.index]\n",
    "Tesla['Profit10-60'].plot()\n",
    "plt.axhline(y=0, color='red')\n",
    "\n",
    "Tesla['wealth10-60'] = Tesla['Profit10-60'].cumsum()\n",
    "Tesla.tail()\n",
    "\n",
    "print('Total money you win is ', Tesla.loc[Tesla.index[-2], 'wealth10-60'])\n",
    "print('Total money you spent is ', Tesla.loc[Tesla.index[0], 'Close'])"
   ]
  },
  {
   "cell_type": "markdown",
   "metadata": {},
   "source": [
    "---"
   ]
  },
  {
   "cell_type": "markdown",
   "metadata": {},
   "source": [
    "### Apply the concept of probability to measure the probability that the stock price drops a certain percentage in a day, and in a year. [+- 5%, 10%]"
   ]
  },
  {
   "cell_type": "code",
   "execution_count": 15,
   "metadata": {},
   "outputs": [
    {
     "data": {
      "text/plain": [
       "<matplotlib.axes._subplots.AxesSubplot at 0x1cd77e84bc8>"
      ]
     },
     "execution_count": 15,
     "metadata": {},
     "output_type": "execute_result"
    },
    {
     "data": {
      "image/png": "[encoded data removed]",
      "text/plain": [
       "<Figure size 432x288 with 1 Axes>"
      ]
     },
     "metadata": {
      "needs_background": "light"
     },
     "output_type": "display_data"
    }
   ],
   "source": [
    "Tesla['LogReturn'] = np.log(Tesla['Close']).shift(-1) - np.log(Tesla['Close'])\n",
    "Tesla['LogReturn'].hist(bins=50)"
   ]
  },
  {
   "cell_type": "code",
   "execution_count": 16,
   "metadata": {},
   "outputs": [
    {
     "name": "stdout",
     "output_type": "stream",
     "text": [
      "0.0018417590694055448 0.035584650062297545\n"
     ]
    }
   ],
   "source": [
    "mu = Tesla['LogReturn'].mean()\n",
    "sigma = Tesla['LogReturn'].std(ddof=1)\n",
    "print(mu, sigma)"
   ]
  },
  {
   "cell_type": "code",
   "execution_count": 17,
   "metadata": {},
   "outputs": [
    {
     "name": "stdout",
     "output_type": "stream",
     "text": [
      "The probability of rise over 5% in 1 day is\n",
      "0.9120269783118072\n",
      "\n",
      "\n",
      "The probability of droppong over 5% in 1 day is\n",
      "0.07257788027716972\n",
      "\n",
      "\n",
      "The probability of rise over 10% in 1 day is\n",
      "0.9970961313726888\n",
      "\n",
      "\n",
      "The probability of droppong over 10% in 1 day is\n",
      "0.002105166255008993\n"
     ]
    }
   ],
   "source": [
    "print('The probability of rise over 5% in 1 day is')\n",
    "print(norm.cdf(0.05, mu, sigma))\n",
    "print(\"\\n\")\n",
    "print('The probability of droppong over 5% in 1 day is')\n",
    "print(norm.cdf(-0.05, mu, sigma))\n",
    "print(\"\\n\")\n",
    "print('The probability of rise over 10% in 1 day is')\n",
    "print(norm.cdf(0.10, mu, sigma))\n",
    "print(\"\\n\")\n",
    "print('The probability of droppong over 10% in 1 day is')\n",
    "print(norm.cdf(-0.10, mu, sigma))"
   ]
  },
  {
   "cell_type": "code",
   "execution_count": 18,
   "metadata": {},
   "outputs": [
    {
     "name": "stdout",
     "output_type": "stream",
     "text": [
      "0.40518699526921986 0.5278056559116793\n"
     ]
    }
   ],
   "source": [
    "mu220 = 220*mu\n",
    "sigma220 = 220**0.5*sigma\n",
    "print(mu220, sigma220)"
   ]
  },
  {
   "cell_type": "code",
   "execution_count": 19,
   "metadata": {},
   "outputs": [
    {
     "name": "stdout",
     "output_type": "stream",
     "text": [
      "The probability of rise over 5% in 1 day is\n",
      "0.2504894425560158\n",
      "\n",
      "\n",
      "The probability of droppong over 5% in 1 day is\n",
      "0.1942298652676584\n",
      "\n",
      "\n",
      "The probability of rise over 10% in 1 day is\n",
      "0.28155830469864573\n",
      "\n",
      "\n",
      "The probability of droppong over 10% in 1 day is\n",
      "0.16924682104821703\n"
     ]
    }
   ],
   "source": [
    "print('The probability of rise over 5% in 1 day is')\n",
    "print(norm.cdf(0.05, mu220, sigma220))\n",
    "print(\"\\n\")\n",
    "print('The probability of droppong over 5% in 1 day is')\n",
    "print(norm.cdf(-0.05, mu220, sigma220))\n",
    "print(\"\\n\")\n",
    "print('The probability of rise over 10% in 1 day is')\n",
    "print(norm.cdf(0.10, mu220, sigma220))\n",
    "print(\"\\n\")\n",
    "print('The probability of droppong over 10% in 1 day is')\n",
    "print(norm.cdf(-0.10, mu220, sigma220))"
   ]
  },
  {
   "cell_type": "markdown",
   "metadata": {},
   "source": [
    "---"
   ]
  },
  {
   "cell_type": "markdown",
   "metadata": {},
   "source": [
    "### Calculate the value at risk (VaR) for Single day value at risk for 10%"
   ]
  },
  {
   "cell_type": "code",
   "execution_count": 20,
   "metadata": {},
   "outputs": [
    {
     "data": {
      "text/plain": [
       "-0.043761804927288636"
      ]
     },
     "execution_count": 20,
     "metadata": {},
     "output_type": "execute_result"
    }
   ],
   "source": [
    "# 險價值10％\n",
    "norm.ppf(0.1,mu,sigma)"
   ]
  },
  {
   "cell_type": "markdown",
   "metadata": {},
   "source": [
    "---"
   ]
  },
  {
   "cell_type": "markdown",
   "metadata": {},
   "source": [
    "### Practice the code of estimating the average stock return with a certain confidence level (95%)"
   ]
  },
  {
   "cell_type": "code",
   "execution_count": 21,
   "metadata": {},
   "outputs": [
    {
     "name": "stdout",
     "output_type": "stream",
     "text": [
      "Tesla Mean is 0.0018417590694055448\n",
      "----------------------------------------------------------------------\n",
      "95 confidence interval is\n",
      "0.0005044667867463866 0.0031790513520647025\n"
     ]
    }
   ],
   "source": [
    "z_left = norm.ppf(0.025)\n",
    "z_right = norm.ppf(0.975)\n",
    "Tesla_mean = Tesla['LogReturn'].mean()\n",
    "Tesla_std = Tesla['LogReturn'].std(ddof=1)/(Tesla.shape[0])**0.5\n",
    "\n",
    "interval_left = Tesla_mean + z_left * Tesla_std\n",
    "interval_right = Tesla_mean + z_right * Tesla_std\n",
    "print(\"Tesla Mean is\", Tesla_mean)\n",
    "print(\"----------------------------------------------------------------------\")\n",
    "print(\"95 confidence interval is\")\n",
    "print(interval_left, interval_right)"
   ]
  },
  {
   "cell_type": "markdown",
   "metadata": {},
   "source": [
    "---"
   ]
  },
  {
   "cell_type": "markdown",
   "metadata": {},
   "source": [
    "### Hypothesis Testing : the average daily return of your stock is 0 or not, base on the years of historical data available.(Explain your result)"
   ]
  },
  {
   "cell_type": "code",
   "execution_count": 22,
   "metadata": {},
   "outputs": [
    {
     "name": "stdout",
     "output_type": "stream",
     "text": [
      "zhat：140.77937144282362\n",
      "-1.9599639845400545 1.9599639845400545\n",
      "At the significance level if： 0.05\n",
      "Shall we reject?： True\n"
     ]
    }
   ],
   "source": [
    "alpha = 0.05\n",
    "zleft = norm.ppf(alpha/2, 0, 1)\n",
    "zright = -zleft\n",
    "n = 2720 \n",
    "zhat = (Tesla_mean-0)/(Tesla_std/n**0.5)\n",
    "print(\"zhat：\"+str(zhat))\n",
    "print(zleft, zright)\n",
    "print('At the significance level if：', alpha)\n",
    "print('Shall we reject?：', zhat > zright or zhat <zright)"
   ]
  },
  {
   "cell_type": "markdown",
   "metadata": {},
   "source": [
    "## Tesla的股票的平均日收益率是否為0，根據上面結果<br>我們拒絕H<sub>0</sub>:  μ=0<br>我們接受H<sub>0</sub>:  μ≠0<br>因此  得出Tesla的股票的平均日收益不為0"
   ]
  }
 ],
 "metadata": {
  "kernelspec": {
   "display_name": "Python 3",
   "language": "python",
   "name": "python3"
  },
  "language_info": {
   "codemirror_mode": {
    "name": "ipython",
    "version": 3
   },
   "file_extension": ".py",
   "mimetype": "text/x-python",
   "name": "python",
   "nbconvert_exporter": "python",
   "pygments_lexer": "ipython3",
   "version": "3.8.10"
  }
 },
 "nbformat": 4,
 "nbformat_minor": 2
}
