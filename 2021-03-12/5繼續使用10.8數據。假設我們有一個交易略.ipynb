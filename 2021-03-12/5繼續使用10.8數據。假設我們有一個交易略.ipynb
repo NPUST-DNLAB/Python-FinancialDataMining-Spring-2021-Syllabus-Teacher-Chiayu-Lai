{
 "cells": [
  {
   "cell_type": "markdown",
   "metadata": {},
   "source": [
    "5繼續使用10.8數據。假設我們有一個交易略.......  (持倉占比=單筆持倉市值/帳戶淨值)"
   ]
  },
  {
   "cell_type": "markdown",
   "metadata": {},
   "source": [
    "<font size=6>**匯入資料  此題假設現金數1,000,000**</font>"
   ]
  },
  {
   "cell_type": "code",
   "execution_count": 1,
   "metadata": {},
   "outputs": [],
   "source": [
    "holdCash = 1000000\n",
    "totalCash = 1000000\n",
    "stockPrice = {'1月13日': 7.31, '1月14日': 7.28, '1月15日': 7.40, '1月16日': 7.43, '1月17日': 7.41}\n",
    "stockPosition = {}"
   ]
  },
  {
   "cell_type": "code",
   "execution_count": 2,
   "metadata": {},
   "outputs": [
    {
     "name": "stdout",
     "output_type": "stream",
     "text": [
      "1月13日價格為：7.31，不符合買入條件\n",
      "1月14日價格為：7.28，不符合買入條件\n",
      "1月15日價格為：7.4，符合買入條件\n",
      "1月16日價格為：7.43，符合買入條件\n",
      "1月17日價格為：7.41，不符合買入條件\n"
     ]
    }
   ],
   "source": [
    "for i in range(len(stockPrice)):\n",
    "    try:\n",
    "        if(list(stockPrice.values())[i]>list(stockPrice.values())[i-1]):\n",
    "            spendCash = holdcash/2\n",
    "            realSpendCash = (spendCash//list(stockPrice.values())[i])*list(stockPrice.values())[i]\n",
    "            holdcash = holdcash - realSpendCash\n",
    "            stockPosition[list(stockPrice.keys())[i]] = realSpendCash/totalCash\n",
    "        else:\n",
    "            print(str(list(stockPrice.keys())[i])+'價格為：'+str(list(stockPrice.values())[i])+'，不符合買入條件')    \n",
    "    except:\n",
    "        print(str(list(stockPrice.keys())[i])+'價格為：'+str(list(stockPrice.values())[i])+'，符合買入條件')"
   ]
  },
  {
   "cell_type": "code",
   "execution_count": 3,
   "metadata": {},
   "outputs": [
    {
     "name": "stdout",
     "output_type": "stream",
     "text": [
      "持倉占比：{}\n"
     ]
    }
   ],
   "source": [
    "print('持倉占比：'+str(stockPosition))"
   ]
  }
 ],
 "metadata": {
  "kernelspec": {
   "display_name": "Python 3",
   "language": "python",
   "name": "python3"
  },
  "language_info": {
   "codemirror_mode": {
    "name": "ipython",
    "version": 3
   },
   "file_extension": ".py",
   "mimetype": "text/x-python",
   "name": "python",
   "nbconvert_exporter": "python",
   "pygments_lexer": "ipython3",
   "version": "3.7.4"
  }
 },
 "nbformat": 4,
 "nbformat_minor": 2
}
