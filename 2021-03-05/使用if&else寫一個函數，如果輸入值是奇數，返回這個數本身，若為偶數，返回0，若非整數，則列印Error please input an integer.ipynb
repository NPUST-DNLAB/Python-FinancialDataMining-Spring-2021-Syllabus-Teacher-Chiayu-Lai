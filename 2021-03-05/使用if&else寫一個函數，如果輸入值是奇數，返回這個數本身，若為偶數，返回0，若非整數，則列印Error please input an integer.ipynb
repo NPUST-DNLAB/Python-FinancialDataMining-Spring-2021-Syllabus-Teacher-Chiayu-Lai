{
 "cells": [
  {
   "cell_type": "markdown",
   "metadata": {},
   "source": [
    "<font size=3>1.使用if/else寫一個函數，如果輸入值是奇數，返回這個數本身，若為偶數，返回0，若非整數，則列印Error: please input an integer</font>"
   ]
  },
  {
   "cell_type": "code",
   "execution_count": 1,
   "metadata": {},
   "outputs": [
    {
     "name": "stdout",
     "output_type": "stream",
     "text": [
      "請輸入Number：100\n",
      "0\n"
     ]
    }
   ],
   "source": [
    "Number = float(input('請輸入Number：'))\n",
    "\n",
    "if Number % 1 == 0:\n",
    "    if Number % 2 == 0:\n",
    "        print('0')\n",
    "    elif Number % 2 != 0:\n",
    "        print(int(Number))\n",
    "else:\n",
    "    print('Error: please input an integer')"
   ]
  }
 ],
 "metadata": {
  "kernelspec": {
   "display_name": "Python 3",
   "language": "python",
   "name": "python3"
  },
  "language_info": {
   "codemirror_mode": {
    "name": "ipython",
    "version": 3
   },
   "file_extension": ".py",
   "mimetype": "text/x-python",
   "name": "python",
   "nbconvert_exporter": "python",
   "pygments_lexer": "ipython3",
   "version": "3.7.4"
  }
 },
 "nbformat": 4,
 "nbformat_minor": 2
}
